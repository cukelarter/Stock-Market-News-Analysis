{
 "cells": [
  {
   "cell_type": "markdown",
   "metadata": {},
   "source": [
    "So here's the idea right: when a company makes a big statement, whether it be an acquisition, a merger, a new product, etc whatever it usually affects the stock price in some direction. This change is usually pretty drastic, and for some outlier and small companies it can be gigantic gains. \n",
    "\n",
    "The idea is to exploit the **lag time** between a) when a company makes an announcement and b) when and how the market reacts. The theory is that the company makes the announcement but only few people see it, and then once that news is picked up by larger outlets more people see it and give a larger market response.\n",
    "\n",
    "The goal is to parse various company websites for news, and see how their announcements affect the market. The end steps here are:\n",
    "\n",
    "1. Choose industry to focus on: **Healthcare and Pharmaceuticals**\n",
    "2. Identify and target smaller stocks that have the potential for rapid movement: **20/share** cap for now\n",
    "3. Parse the company websites regularly to check for press releases.\n",
    "4. When a new press release is made, determine if the stock will raise or fall from the news, and a confidence level.\n",
    "5. ???\n",
    "6. Profit!\n",
    "\n",
    "This is obviously the full writeout of the end plan, but there's some prelim work to do first:\n",
    "\n",
    "- Determine what the lag time is usually. If it's very low a server might have to be established.\n",
    "- Develop a way to test the confidence level, will probably require more statistical knowledge than I currently have.\n",
    "- Retroactive analysis at first"
   ]
  },
  {
   "cell_type": "code",
   "execution_count": 1,
   "metadata": {},
   "outputs": [],
   "source": [
    "import pandas as pd\n",
    "import numpy as np\n",
    "\n",
    "# retreive health.csv, which contains all symbols, names, and recent statistics of all NASDAQ healthcare stocks\n",
    "# retreived from https://www.nasdaq.com/market-activity/stocks/screener\n",
    "\n",
    "df = pd.read_csv('health.csv')\n",
    "tickers=list(df['Symbol'])"
   ]
  },
  {
   "cell_type": "code",
   "execution_count": 116,
   "metadata": {},
   "outputs": [],
   "source": [
    "import requests as req\n",
    "# Want to automatically retreive recent news data from tickers\n",
    "# Start with one, our Ocugen Case (index 719)\n",
    "ticker=tickers[719]\n",
    "\n",
    "# Can crawl press releases on NASDAQ, sticking to just press releases to filter out irrelevant and redundant news articles\n",
    "# https://www.nasdaq.com/market-activity/stocks/(TICKER)/press-releases\n",
    "# First get the request of the site\n",
    "url='https://www.nasdaq.com/market-activity/stocks/{}/press-releases'.format(ticker.lower())\n",
    "# want to get data from a with class=\"quote-press-release__link\"\n",
    "    # underneat that is a span that has the headline\n",
    "\n",
    "# UPDATE: Pitch this to Scrapy\n",
    "# UPDATE 2: I don't know how to use scrapy but I have to learn"
   ]
  },
  {
   "cell_type": "code",
   "execution_count": 85,
   "metadata": {},
   "outputs": [],
   "source": [
    "# prep for selenium loading\n",
    "# want to get ticker, title and href of most recent article\n",
    "test=[]"
   ]
  },
  {
   "cell_type": "code",
   "execution_count": 89,
   "metadata": {},
   "outputs": [],
   "source": [
    "# Selenium is a bit heavy handed \n",
    "from selenium import webdriver\n",
    "\n",
    "browser=webdriver.Edge(\"C:/Users/cukel/Downloads/edgedriver_win32/msedgedriver.exe\")\n",
    "browser.get(url)\n",
    "\n",
    "a_eles = browser.find_elements_by_xpath(\"//a[@class='quote-press-release__link']\")\n",
    "s_eles = browser.find_elements_by_xpath(\"//a[@class='quote-press-release__link']/span\")\n",
    "d_eles = browser.find_elements_by_xpath(\"//div[@class='quote-press-release__card-date']/div[@class='quote-press-release__card-timestamp']\")\n",
    "\n",
    "n=0\n",
    "title = s_eles[n].text\n",
    "href = a_eles[n].get_attribute(\"href\")\n",
    "date = d_eles[n].text #offset weird, first is 0 though so that's what matters\n",
    "\n",
    "test.append([ticker,date,title,href])\n",
    "\n",
    "# STARTED BELOW AT 2:11 AM JUST AS A HEADS UP"
   ]
  },
  {
   "cell_type": "code",
   "execution_count": 2,
   "metadata": {},
   "outputs": [
    {
     "name": "stdout",
     "output_type": "stream",
     "text": [
      "done: 0\n"
     ]
    }
   ],
   "source": [
    "# Time to functionize this and run this shit into the ground\n",
    "# assume generated tickers from above, becomes 2 step\n",
    "from selenium import webdriver #import\n",
    "import numpy as np\n",
    "# start the driver\n",
    "browser=webdriver.Edge(\"C:/Users/Luke/Downloads/edgedriver_win32/msedgedriver.exe\")\n",
    "data=[]\n",
    "# loop through the tickers\n",
    "for ii in range(0,len(tickers)): # exception occured at 44\n",
    "    if ii%5==0:\n",
    "        print('done: '+str(ii))\n",
    "    # generate and retreive url\n",
    "    ticker=tickers[ii]\n",
    "    url='https://www.nasdaq.com/market-activity/stocks/{}/press-releases'.format(ticker.lower())\n",
    "    browser.get(url)\n",
    "    # find the required elements\n",
    "    a_eles = browser.find_elements_by_xpath(\"//a[@class='quote-press-release__link']\")\n",
    "    s_eles = browser.find_elements_by_xpath(\"//a[@class='quote-press-release__link']/span\")\n",
    "    d_eles = browser.find_elements_by_xpath(\"//div[@class='quote-press-release__card-date']/div[@class='quote-press-release__card-timestamp']\")\n",
    "    # apply methods to get desired info from elements\n",
    "    try:\n",
    "        n=0\n",
    "        #title = s_eles[n].text\n",
    "        href = a_eles[n].get_attribute(\"href\")\n",
    "        #date = d_eles[n].text #offset weird, first is 0 though so that's what matters\n",
    "        # append to external list\n",
    "        browser.get(href)\n",
    "        fulltime=browser.find_elements_by_xpath(\"//time[@class='timestamp__date']\")[n].text\n",
    "        data.append([ticker,date,title,href,fulltime])\n",
    "    except IndexError:\n",
    "        # no press releases on the site\n",
    "        data.append([ticker,np.nan,np.nan,np.nan])       \n",
    "    break"
   ]
  },
  {
   "cell_type": "markdown",
   "metadata": {},
   "source": [
    "## Pull all press releases on page\n",
    "It's kinda wonly, need mouse cursor in specific spot."
   ]
  },
  {
   "cell_type": "code",
   "execution_count": 44,
   "metadata": {},
   "outputs": [],
   "source": [
    "# THIS ONE pulls all press releases under a specific company\n",
    "# it is based on the above code but obviously it has been modified. \n",
    "\n",
    "#Time to functionize this and run this shit into the ground\n",
    "# assume generated tickers from above, becomes 2 step\n",
    "from selenium import webdriver #import\n",
    "from selenium.webdriver.support import expected_conditions\n",
    "from selenium.webdriver.common.by import By\n",
    "from selenium.webdriver.support.ui import WebDriverWait\n",
    "from msedge.selenium_tools import EdgeOptions\n",
    "from msedge.selenium_tools import Edge\n",
    "import numpy as np\n",
    "import os\n",
    "# launch edge\n",
    "#driver = Edge(\"C:/Users/Luke/Downloads/edgedriver_win32/msedgedriver.exe\")\n",
    "# launch chromium/initialize driver settings (headless)\n",
    "#options = EdgeOptions()\n",
    "#options.use_chromium = True\n",
    "#options.add_argument(\"headless\")\n",
    "#options.add_argument(\"disable-gpu\")\n",
    "# start the driver\n",
    "browser=webdriver.Edge(\"C:/Users/Luke/Downloads/edgedriver_win32/msedgedriver.exe\")\n",
    "#browser=Edge(\"C:/Users/Luke/Downloads/edgedriver_win32/msedgedriver.exe\",options=options)\n",
    "\n",
    "data=[]\n",
    "ticker_ii=7\n",
    "# generate and retreive url\n",
    "ticker=tickers[ticker_ii]\n",
    "url='https://www.nasdaq.com/market-activity/stocks/{}/press-releases'.format(ticker.lower())\n",
    "browser.get(url)\n",
    "out_hrefs=[]\n",
    "page=0\n",
    "maxpages=1\n",
    "# apply methods to get desired info from elements\n",
    "# there's still a lot of bugs to work out\n",
    "while True:\n",
    "    try:\n",
    "        # get url\n",
    "        #browser.get(url)\n",
    "        # go to specific start point \n",
    "        browser.execute_script(\"window.scrollTo(0,330)\")\n",
    "        # find the required href elements\n",
    "        a_eles = browser.find_elements_by_xpath(\"//a[@class='quote-press-release__link']\")\n",
    "        browser.execute_script(\"arguments[0].scrollIntoView();\", a_eles[0])\n",
    "        # then go up a little\n",
    "        browser.execute_script(\"window.scrollBy(0,-100)\")\n",
    "        # append them to list\n",
    "        for ii in range(len(a_eles)):\n",
    "            # try block 1\n",
    "            # gets around stale exception errors\n",
    "            unclicked0=True\n",
    "            tries0=0\n",
    "            while unclicked0 and tries0<10:\n",
    "                try:\n",
    "                    href = a_eles[ii].get_attribute(\"href\")\n",
    "                    out_hrefs.append(href)\n",
    "                    unclicked0=False\n",
    "                except:\n",
    "                    tries0+=1\n",
    "                    continue\n",
    "        # get max page, check to see if we're past it\n",
    "        # only do on first page\n",
    "        if page==1:\n",
    "            allpages=browser.find_elements_by_xpath(\"//button[@class='pagination__page']\")\n",
    "            #for npage in allpages:\n",
    "                #if int(npage.text)>maxpages:\n",
    "                    #maxpages=int(npage.text)\n",
    "            maxpages=int(allpages[-1].text)\n",
    "            # ALSO click the annoying button out of the way - doesnt work\n",
    "            # make sure button is clickable\n",
    "            #WebDriverWait(browser, 10).until(expected_conditions.visibility_of_element_located((By.CLASS_NAME,'onetrust-close-btn-handler onetrust-close-btn-ui banner-close-button ot-close-icon')))\n",
    "            # click the next arrow\n",
    "            #browser.find_element(By.CLASS_NAME,'onetrust-close-btn-handler onetrust-close-btn-ui banner-close-button ot-close-icon').click()\n",
    "            #print('supposedly clicked x')\n",
    "        # if we're over max pages then we're done\n",
    "        if page==maxpages:\n",
    "            break\n",
    "        if page<maxpages:\n",
    "            # try block 2\n",
    "            unclicked1=True\n",
    "            tries1=0\n",
    "            while unclicked1 and tries1<10:\n",
    "                try:\n",
    "                    # get the button\n",
    "                    nextbutton=browser.find_element(By.CLASS_NAME,'pagination__next')\n",
    "                    browser.execute_script(\"arguments[0].scrollIntoView();\", nextbutton)\n",
    "                    # then go up a little\n",
    "                    browser.execute_script(\"window.scrollBy(0,50)\")\n",
    "                    # make sure next arrow is clickable\n",
    "                    WebDriverWait(browser, 10).until(expected_conditions.visibility_of_element_located((By.CLASS_NAME,'pagination__next')))\n",
    "                    # click the next arrow\n",
    "                    browser.find_element(By.CLASS_NAME,'pagination__next').click()\n",
    "                    page+=1\n",
    "                    unclicked1=False\n",
    "                except:\n",
    "                    tries1+=1\n",
    "                    continue\n",
    "        \n",
    "    except IndexError:\n",
    "        # no press releases on the site\n",
    "        out_hrefs.append([ticker,np.nan])\n",
    "        break\n",
    "browser.close()\n",
    "\n",
    "# export to external list for this ticker\n",
    "file_path='C:/Users/Luke/OneDrive/Documents/PyScripts/hotshot finance type shit/ticker_releasedata/raw/%s.txt' % ticker\n",
    "\n",
    "file=open(file_path, 'w')\n",
    "for href in out_hrefs:\n",
    "    file.write(href)\n",
    "    file.write('\\n')\n",
    "file.close()"
   ]
  },
  {
   "cell_type": "markdown",
   "metadata": {},
   "source": [
    "## Works, useful data is out_hrefs\n",
    "From here we should save this to a database after running it for each ticker, then have a separate filter for duplicates and for updating for new releases. This function is implemented in pr_fullpull."
   ]
  },
  {
   "cell_type": "code",
   "execution_count": 13,
   "metadata": {},
   "outputs": [
    {
     "data": {
      "text/plain": [
       "'/ticker_releasedata/raw/ABT.txt'"
      ]
     },
     "execution_count": 13,
     "metadata": {},
     "output_type": "execute_result"
    }
   ],
   "source": [
    "'/ticker_releasedata/raw/%s.txt' % ticker"
   ]
  },
  {
   "cell_type": "code",
   "execution_count": 34,
   "metadata": {},
   "outputs": [
    {
     "data": {
      "text/plain": [
       "['https://www.nasdaq.com/press-release/abbott-hosts-conference-call-for-fourth-quarter-earnings-2022-01-04',\n",
       " 'https://www.nasdaq.com/press-release/abbotts-proclaimtm-xr-spinal-cord-stimulation-system-now-offers-expanded-mri',\n",
       " 'https://www.nasdaq.com/press-release/abbott-to-present-at-j.p.-morgan-healthcare-conference-2021-12-21',\n",
       " 'https://www.nasdaq.com/press-release/abbott-names-robert-b.-ford-chairman-of-the-board-miles-d.-white-to-retire-as',\n",
       " 'https://www.nasdaq.com/press-release/abbott-increases-quarterly-dividend-for-50th-consecutive-year-2021-12-10',\n",
       " 'https://www.nasdaq.com/press-release/abbott-launches-similacr-360-total-carer-with-exclusive-blend-of-five-hmo-prebiotics',\n",
       " 'https://www.nasdaq.com/press-release/abbott-achieves-highest-score-in-its-industry-for-the-ninth-consecutive-year-on-the',\n",
       " 'https://www.nasdaq.com/press-release/abbotts-new-leadless-pacemaker-system-meets-primary-endpoints-in-pivotal-trial-2021',\n",
       " 'https://www.nasdaq.com/press-release/abbott-declares-391st-consecutive-quarterly-dividend-2021-09-15',\n",
       " 'https://www.nasdaq.com/press-release/abbott-expands-peripheral-vascular-offerings-with-acquisition-of-walk-vascular-llc',\n",
       " 'https://www.nasdaq.com/press-release/late-breaking-data-shows-abbotts-amplatzertm-amulettm-occluder-offers-superior-left',\n",
       " 'https://www.nasdaq.com/press-release/guide-hf-study-data-show-abbotts-cardiomemstm-device-can-improve-care-for-more',\n",
       " 'https://www.nasdaq.com/press-release/a-workplace-where-collaboration-innovation-2021-08-09',\n",
       " 'https://www.nasdaq.com/press-release/a-convergence-of-challenges%3a-addressing-the-devastating-impact-of-chronic-disease-on',\n",
       " 'https://www.nasdaq.com/press-release/broader-access-is-vital-to-the-future-of-testing-and-healthcare-innovation-2021-08-04',\n",
       " 'https://www.nasdaq.com/press-release/abbott-receives-fda-clearance-for-its-imaging-technology-using-artificial',\n",
       " 'https://www.nasdaq.com/press-release/delivering-long-term-impact%3a-abbotts-2020-sustainability-report-2021-07-15',\n",
       " 'https://www.nasdaq.com/press-release/abbotts-xience-stent-receives-fda-approval-for-shortest-blood-thinner-course-for-high',\n",
       " 'https://www.nasdaq.com/press-release/late-breaking-data-demonstrate-abbotts-freestyler-libre-system-supports-health-equity',\n",
       " 'https://www.nasdaq.com/press-release/abbott-hosts-conference-call-for-second-quarter-earnings-2021-06-25',\n",
       " 'https://www.nasdaq.com/press-release/people-who-exercise-intensely-could-improve-recovery-by-adjusting-their-hydration',\n",
       " 'https://www.nasdaq.com/press-release/abbott-earns-first-of-its-kind-recommendation-for-high-school-stem-interns-to-0',\n",
       " 'https://www.nasdaq.com/press-release/abbott-earns-first-of-its-kind-recommendation-for-high-school-stem-interns-to-receive',\n",
       " 'https://www.nasdaq.com/press-release/abbott-declares-390th-consecutive-quarterly-dividend-2021-06-11',\n",
       " 'https://www.nasdaq.com/press-release/abbott-confirms-capacity-to-support-expanded-use-of-heartmate-3tm-heart-pump-2021-06',\n",
       " 'https://www.nasdaq.com/press-release/abbott-issues-updated-2021-outlook-2021-06-01',\n",
       " 'https://www.nasdaq.com/press-release/abbott-receives-ce-mark-for-navitortm-the-latest-generation-transcatheter-aortic',\n",
       " 'https://www.nasdaq.com/press-release/abbott-seeks-better-treatment-options-for-patients-with-both-atrial-fibrillation-and',\n",
       " 'https://www.nasdaq.com/press-release/abbott-reports-first-quarter-2021-results-2021-04-20',\n",
       " 'https://www.nasdaq.com/press-release/abbott-begins-shipping-binaxnowtm-covid-19-ag-self-test-to-retailers-today-2021-04-19',\n",
       " 'https://www.nasdaq.com/press-release/worlds-fastest-marathoner-eliud-kipchoge-uses-abbotts-libre-sense-at-nn-mission',\n",
       " 'https://www.nasdaq.com/press-release/abbott-receives-ce-mark-approval-for-next-generation-tricliptm-device-offering-new',\n",
       " 'https://www.nasdaq.com/press-release/abbotts-xiencetm-stent-receives-european-approval-for-one-month-dual-anti-platelet',\n",
       " 'https://www.nasdaq.com/press-release/abbotts-binaxnowtm-rapid-antigen-self-test-receives-fda-emergency-use-authorization',\n",
       " 'https://www.nasdaq.com/press-release/abbott-hosts-conference-call-for-first-quarter-earnings-2021-03-29',\n",
       " 'https://www.nasdaq.com/press-release/abbott-announces-its-pandemic-defense-coalition%3a-a-global-network-of-expert',\n",
       " 'https://www.nasdaq.com/press-release/abbotts-xiencetm-stent-receives-european-approval-for-one-month-dual-anti-platelet',\n",
       " 'https://www.nasdaq.com/press-release/abbotts-binaxnowtm-rapid-antigen-self-test-receives-fda-emergency-use-authorization',\n",
       " 'https://www.nasdaq.com/press-release/abbott-hosts-conference-call-for-first-quarter-earnings-2021-03-29',\n",
       " 'https://www.nasdaq.com/press-release/abbott-announces-its-pandemic-defense-coalition%3a-a-global-network-of-expert',\n",
       " 'https://www.nasdaq.com/press-release/abbott-reports-fourth-quarter-2020-results-issues-strong-double-digit-growth-forecast',\n",
       " 'https://www.nasdaq.com/press-release/abbotts-panbio-rapid-antigen-test-receives-ce-mark-for-asymptomatic-screening-and',\n",
       " 'https://www.nasdaq.com/press-release/abbott-receives-expanded-medicare-reimbursement-for-first-of-its-kind-mitracliptm',\n",
       " 'https://www.nasdaq.com/press-release/abbott-to-launch-the-neurospheretm-mypathtm-digital-health-app-designed-to-track-and',\n",
       " 'https://www.nasdaq.com/press-release/abbott-announces-fulfillment-of-federal-government-purchase-of-150-million-binaxnowtm',\n",
       " 'https://www.nasdaq.com/press-release/abbott-receives-fda-510k-clearance-for-the-first-rapid-handheld-blood-test-for',\n",
       " 'https://www.nasdaq.com/press-release/abbott-hosts-conference-call-for-fourth-quarter-earnings-2021-01-06',\n",
       " 'https://www.nasdaq.com/press-release/as-vaccines-roll-out-americans-see-covid-19-testing-as-important-partner-2020-12-22',\n",
       " 'https://www.nasdaq.com/press-release/abbott-to-present-at-j.p.-morgan-healthcare-conference-2020-12-18',\n",
       " 'https://www.nasdaq.com/press-release/fda-approves-labeling-update-for-abbotts-heartmate-3-heart-pump-for-use-in-pediatric',\n",
       " 'https://www.nasdaq.com/press-release/abbotts-binaxnow-covid-19-rapid-test-receives-fda-emergency-use-authorization-for',\n",
       " 'https://www.nasdaq.com/press-release/abbott-receives-ce-mark-for-its-covid-19-igg-quantitative-antibody-blood-test-2020-12',\n",
       " 'https://www.nasdaq.com/press-release/abbott-develops-new-pedialyter-hydration-solution-to-help-support-immune-health-2020',\n",
       " 'https://www.nasdaq.com/press-release/abbott-increases-quarterly-dividend-by-25-2020-12-11',\n",
       " 'https://www.nasdaq.com/press-release/abbotts-freestyle-libre-2-now-approved-for-adults-and-children-with-diabetes-in',\n",
       " 'https://www.nasdaq.com/press-release/abbott-becomes-first-anchor-sponsor-of-american-diabetes-associations-health-equity',\n",
       " 'https://www.nasdaq.com/press-release/improved-mental-and-physical-condition-is-directly-linked-to-nutrition-study-shows',\n",
       " 'https://www.nasdaq.com/press-release/abbott-receives-fda-emergency-use-authorization-for-its-covid-19-igm-antibody-blood',\n",
       " 'https://www.nasdaq.com/press-release/abbott-releases-id-nowtm-covid-19-interim-clinical-study-results-from-1003-people-to',\n",
       " 'https://www.nasdaq.com/press-release/quanterix-enters-into-a-license-agreement-that-grants-abbott-access-to-portfolio-of',\n",
       " 'https://www.nasdaq.com/press-release/abbotts-freestyler-libre-3-system-receives-ce-mark-features-worlds-smallest-thinnest',\n",
       " 'https://www.nasdaq.com/press-release/abbott-receives-ce-mark-for-next-generation-mitracliptm-heart-valve-repair-device-to',\n",
       " 'https://www.nasdaq.com/press-release/abbott-hosts-conference-call-for-third-quarter-earnings-2020-09-21',\n",
       " 'https://www.nasdaq.com/press-release/abbott-declares-387th-consecutive-quarterly-dividend-2020-09-17',\n",
       " 'https://www.nasdaq.com/press-release/abbott-introduces-libre-sense-glucose-sport-biosensor-in-europe-worlds-first-glucose',\n",
       " 'https://www.nasdaq.com/press-release/abbott-announces-start-of-trial-to-evaluate-the-new-esprittm-btk-drug-eluting',\n",
       " 'https://www.nasdaq.com/press-release/abbotts-freestyler-libre-2-icgm-system-now-available-to-medicare-beneficiaries-2020',\n",
       " 'https://www.nasdaq.com/press-release/abbotts-fast-%245-15-minute-easy-to-use-covid-19-antigen-test-receives-fda-emergency',\n",
       " 'https://www.nasdaq.com/press-release/abbott-receives-fda-approval-for-new-heart-rhythm-devices-featuring-bluetooth',\n",
       " 'https://www.nasdaq.com/press-release/abbott-to-initiate-trial-to-study-mitraclip-as-an-option-for-moderate-surgical-risk',\n",
       " 'https://www.nasdaq.com/press-release/fda-approves-less-invasive-surgical-approach-for-abbotts-heart-pump-to-help-patients',\n",
       " 'https://www.nasdaq.com/press-release/abbott-raises-quarterly-dividend-12.5-increasing-payouts-for-48-straight-years-2019',\n",
       " 'https://www.nasdaq.com/press-release/abbott-announces-robert-b.-ford-to-succeed-miles-d.-white-as-chief-executive-officer',\n",
       " 'https://www.nasdaq.com/press-release/abbott-announces-discovery-of-new-strain-of-hiv-keeping-global-health-community-a',\n",
       " 'https://www.nasdaq.com/press-release/the-australian-red-cross-blood-service-selects-abbotts-alinity-s-solution-for-blood',\n",
       " 'https://www.nasdaq.com/press-release/latin-american-countries-offer-unique-benefits-cannabis-cultivators-2019-04-21',\n",
       " 'https://www.nasdaq.com/press-release/abbott-and-abbott-fund-support-relief-efforts-cyclone-idai-2019-04-21',\n",
       " 'https://www.nasdaq.com/press-release/abbott-hosts-conference-call-first-quarter-earnings-2019-04-21',\n",
       " 'https://www.nasdaq.com/press-release/abbott-announces-ce-mark-alinitytm-m-diagnostics-system-and-assays-latest-molecular',\n",
       " 'https://www.nasdaq.com/press-release/abbott-and-abbott-fund-support-relief-efforts-cyclone-idai-2019-04-21',\n",
       " 'https://www.nasdaq.com/press-release/abbott-hosts-conference-call-first-quarter-earnings-2019-04-21',\n",
       " 'https://www.nasdaq.com/press-release/abbott-announces-ce-mark-alinitytm-m-diagnostics-system-and-assays-latest-molecular']"
      ]
     },
     "execution_count": 34,
     "metadata": {},
     "output_type": "execute_result"
    }
   ],
   "source": [
    "out_hrefs"
   ]
  },
  {
   "cell_type": "code",
   "execution_count": 3,
   "metadata": {},
   "outputs": [
    {
     "data": {
      "text/plain": [
       "[['ABBV', nan, nan, nan]]"
      ]
     },
     "execution_count": 3,
     "metadata": {},
     "output_type": "execute_result"
    }
   ],
   "source": [
    "# Check things\n",
    "data"
   ]
  },
  {
   "cell_type": "code",
   "execution_count": 21,
   "metadata": {},
   "outputs": [],
   "source": [
    "# export\n",
    "new=pd.DataFrame(data)"
   ]
  },
  {
   "cell_type": "code",
   "execution_count": 22,
   "metadata": {},
   "outputs": [],
   "source": [
    "new.to_csv('newsreleases_DATE.csv',index=False)"
   ]
  },
  {
   "cell_type": "code",
   "execution_count": 83,
   "metadata": {},
   "outputs": [
    {
     "name": "stdout",
     "output_type": "stream",
     "text": [
      "JAN 12, 2021 FEB 2, 2021\n"
     ]
    },
    {
     "data": {
      "text/plain": [
       "True"
      ]
     },
     "execution_count": 83,
     "metadata": {},
     "output_type": "execute_result"
    }
   ],
   "source": [
    "a=4; b=2\n",
    "print(d_eles[a].text, d_eles[b].text)\n",
    "d_eles[a].text>d_eles[b].text"
   ]
  },
  {
   "cell_type": "code",
   "execution_count": 8,
   "metadata": {},
   "outputs": [
    {
     "ename": "TooManyRedirects",
     "evalue": "Exceeded 30 redirects.",
     "output_type": "error",
     "traceback": [
      "\u001b[1;31m---------------------------------------------------------------------------\u001b[0m",
      "\u001b[1;31mTooManyRedirects\u001b[0m                          Traceback (most recent call last)",
      "\u001b[1;32m<ipython-input-8-00ca9e89b149>\u001b[0m in \u001b[0;36m<module>\u001b[1;34m\u001b[0m\n\u001b[0;32m      3\u001b[0m \u001b[0msession\u001b[0m\u001b[1;33m=\u001b[0m\u001b[0mHTMLSession\u001b[0m\u001b[1;33m(\u001b[0m\u001b[1;33m)\u001b[0m\u001b[1;33m\u001b[0m\u001b[1;33m\u001b[0m\u001b[0m\n\u001b[0;32m      4\u001b[0m \u001b[1;33m\u001b[0m\u001b[0m\n\u001b[1;32m----> 5\u001b[1;33m \u001b[0mr\u001b[0m \u001b[1;33m=\u001b[0m \u001b[0msession\u001b[0m\u001b[1;33m.\u001b[0m\u001b[0mget\u001b[0m\u001b[1;33m(\u001b[0m\u001b[1;34m'https://www.nasdaq.com/market-activity/stocks/GLUU/press-releases'\u001b[0m\u001b[1;33m)\u001b[0m\u001b[1;33m\u001b[0m\u001b[1;33m\u001b[0m\u001b[0m\n\u001b[0m\u001b[0;32m      6\u001b[0m \u001b[0mr\u001b[0m\u001b[1;33m.\u001b[0m\u001b[0mhtml\u001b[0m\u001b[1;33m.\u001b[0m\u001b[0mrender\u001b[0m\u001b[1;33m(\u001b[0m\u001b[1;33m)\u001b[0m\u001b[1;33m\u001b[0m\u001b[1;33m\u001b[0m\u001b[0m\n",
      "\u001b[1;32m~\\anaconda3\\lib\\site-packages\\requests\\sessions.py\u001b[0m in \u001b[0;36mget\u001b[1;34m(self, url, **kwargs)\u001b[0m\n\u001b[0;32m    544\u001b[0m \u001b[1;33m\u001b[0m\u001b[0m\n\u001b[0;32m    545\u001b[0m         \u001b[0mkwargs\u001b[0m\u001b[1;33m.\u001b[0m\u001b[0msetdefault\u001b[0m\u001b[1;33m(\u001b[0m\u001b[1;34m'allow_redirects'\u001b[0m\u001b[1;33m,\u001b[0m \u001b[1;32mTrue\u001b[0m\u001b[1;33m)\u001b[0m\u001b[1;33m\u001b[0m\u001b[1;33m\u001b[0m\u001b[0m\n\u001b[1;32m--> 546\u001b[1;33m         \u001b[1;32mreturn\u001b[0m \u001b[0mself\u001b[0m\u001b[1;33m.\u001b[0m\u001b[0mrequest\u001b[0m\u001b[1;33m(\u001b[0m\u001b[1;34m'GET'\u001b[0m\u001b[1;33m,\u001b[0m \u001b[0murl\u001b[0m\u001b[1;33m,\u001b[0m \u001b[1;33m**\u001b[0m\u001b[0mkwargs\u001b[0m\u001b[1;33m)\u001b[0m\u001b[1;33m\u001b[0m\u001b[1;33m\u001b[0m\u001b[0m\n\u001b[0m\u001b[0;32m    547\u001b[0m \u001b[1;33m\u001b[0m\u001b[0m\n\u001b[0;32m    548\u001b[0m     \u001b[1;32mdef\u001b[0m \u001b[0moptions\u001b[0m\u001b[1;33m(\u001b[0m\u001b[0mself\u001b[0m\u001b[1;33m,\u001b[0m \u001b[0murl\u001b[0m\u001b[1;33m,\u001b[0m \u001b[1;33m**\u001b[0m\u001b[0mkwargs\u001b[0m\u001b[1;33m)\u001b[0m\u001b[1;33m:\u001b[0m\u001b[1;33m\u001b[0m\u001b[1;33m\u001b[0m\u001b[0m\n",
      "\u001b[1;32m~\\anaconda3\\lib\\site-packages\\requests\\sessions.py\u001b[0m in \u001b[0;36mrequest\u001b[1;34m(self, method, url, params, data, headers, cookies, files, auth, timeout, allow_redirects, proxies, hooks, stream, verify, cert, json)\u001b[0m\n\u001b[0;32m    531\u001b[0m         }\n\u001b[0;32m    532\u001b[0m         \u001b[0msend_kwargs\u001b[0m\u001b[1;33m.\u001b[0m\u001b[0mupdate\u001b[0m\u001b[1;33m(\u001b[0m\u001b[0msettings\u001b[0m\u001b[1;33m)\u001b[0m\u001b[1;33m\u001b[0m\u001b[1;33m\u001b[0m\u001b[0m\n\u001b[1;32m--> 533\u001b[1;33m         \u001b[0mresp\u001b[0m \u001b[1;33m=\u001b[0m \u001b[0mself\u001b[0m\u001b[1;33m.\u001b[0m\u001b[0msend\u001b[0m\u001b[1;33m(\u001b[0m\u001b[0mprep\u001b[0m\u001b[1;33m,\u001b[0m \u001b[1;33m**\u001b[0m\u001b[0msend_kwargs\u001b[0m\u001b[1;33m)\u001b[0m\u001b[1;33m\u001b[0m\u001b[1;33m\u001b[0m\u001b[0m\n\u001b[0m\u001b[0;32m    534\u001b[0m \u001b[1;33m\u001b[0m\u001b[0m\n\u001b[0;32m    535\u001b[0m         \u001b[1;32mreturn\u001b[0m \u001b[0mresp\u001b[0m\u001b[1;33m\u001b[0m\u001b[1;33m\u001b[0m\u001b[0m\n",
      "\u001b[1;32m~\\anaconda3\\lib\\site-packages\\requests\\sessions.py\u001b[0m in \u001b[0;36msend\u001b[1;34m(self, request, **kwargs)\u001b[0m\n\u001b[0;32m    666\u001b[0m \u001b[1;33m\u001b[0m\u001b[0m\n\u001b[0;32m    667\u001b[0m         \u001b[1;31m# Resolve redirects if allowed.\u001b[0m\u001b[1;33m\u001b[0m\u001b[1;33m\u001b[0m\u001b[1;33m\u001b[0m\u001b[0m\n\u001b[1;32m--> 668\u001b[1;33m         \u001b[0mhistory\u001b[0m \u001b[1;33m=\u001b[0m \u001b[1;33m[\u001b[0m\u001b[0mresp\u001b[0m \u001b[1;32mfor\u001b[0m \u001b[0mresp\u001b[0m \u001b[1;32min\u001b[0m \u001b[0mgen\u001b[0m\u001b[1;33m]\u001b[0m \u001b[1;32mif\u001b[0m \u001b[0mallow_redirects\u001b[0m \u001b[1;32melse\u001b[0m \u001b[1;33m[\u001b[0m\u001b[1;33m]\u001b[0m\u001b[1;33m\u001b[0m\u001b[1;33m\u001b[0m\u001b[0m\n\u001b[0m\u001b[0;32m    669\u001b[0m \u001b[1;33m\u001b[0m\u001b[0m\n\u001b[0;32m    670\u001b[0m         \u001b[1;31m# Shuffle things around if there's history.\u001b[0m\u001b[1;33m\u001b[0m\u001b[1;33m\u001b[0m\u001b[1;33m\u001b[0m\u001b[0m\n",
      "\u001b[1;32m~\\anaconda3\\lib\\site-packages\\requests\\sessions.py\u001b[0m in \u001b[0;36m<listcomp>\u001b[1;34m(.0)\u001b[0m\n\u001b[0;32m    666\u001b[0m \u001b[1;33m\u001b[0m\u001b[0m\n\u001b[0;32m    667\u001b[0m         \u001b[1;31m# Resolve redirects if allowed.\u001b[0m\u001b[1;33m\u001b[0m\u001b[1;33m\u001b[0m\u001b[1;33m\u001b[0m\u001b[0m\n\u001b[1;32m--> 668\u001b[1;33m         \u001b[0mhistory\u001b[0m \u001b[1;33m=\u001b[0m \u001b[1;33m[\u001b[0m\u001b[0mresp\u001b[0m \u001b[1;32mfor\u001b[0m \u001b[0mresp\u001b[0m \u001b[1;32min\u001b[0m \u001b[0mgen\u001b[0m\u001b[1;33m]\u001b[0m \u001b[1;32mif\u001b[0m \u001b[0mallow_redirects\u001b[0m \u001b[1;32melse\u001b[0m \u001b[1;33m[\u001b[0m\u001b[1;33m]\u001b[0m\u001b[1;33m\u001b[0m\u001b[1;33m\u001b[0m\u001b[0m\n\u001b[0m\u001b[0;32m    669\u001b[0m \u001b[1;33m\u001b[0m\u001b[0m\n\u001b[0;32m    670\u001b[0m         \u001b[1;31m# Shuffle things around if there's history.\u001b[0m\u001b[1;33m\u001b[0m\u001b[1;33m\u001b[0m\u001b[1;33m\u001b[0m\u001b[0m\n",
      "\u001b[1;32m~\\anaconda3\\lib\\site-packages\\requests\\sessions.py\u001b[0m in \u001b[0;36mresolve_redirects\u001b[1;34m(self, resp, req, stream, timeout, verify, cert, proxies, yield_requests, **adapter_kwargs)\u001b[0m\n\u001b[0;32m    163\u001b[0m \u001b[1;33m\u001b[0m\u001b[0m\n\u001b[0;32m    164\u001b[0m             \u001b[1;32mif\u001b[0m \u001b[0mlen\u001b[0m\u001b[1;33m(\u001b[0m\u001b[0mresp\u001b[0m\u001b[1;33m.\u001b[0m\u001b[0mhistory\u001b[0m\u001b[1;33m)\u001b[0m \u001b[1;33m>=\u001b[0m \u001b[0mself\u001b[0m\u001b[1;33m.\u001b[0m\u001b[0mmax_redirects\u001b[0m\u001b[1;33m:\u001b[0m\u001b[1;33m\u001b[0m\u001b[1;33m\u001b[0m\u001b[0m\n\u001b[1;32m--> 165\u001b[1;33m                 \u001b[1;32mraise\u001b[0m \u001b[0mTooManyRedirects\u001b[0m\u001b[1;33m(\u001b[0m\u001b[1;34m'Exceeded %s redirects.'\u001b[0m \u001b[1;33m%\u001b[0m \u001b[0mself\u001b[0m\u001b[1;33m.\u001b[0m\u001b[0mmax_redirects\u001b[0m\u001b[1;33m,\u001b[0m \u001b[0mresponse\u001b[0m\u001b[1;33m=\u001b[0m\u001b[0mresp\u001b[0m\u001b[1;33m)\u001b[0m\u001b[1;33m\u001b[0m\u001b[1;33m\u001b[0m\u001b[0m\n\u001b[0m\u001b[0;32m    166\u001b[0m \u001b[1;33m\u001b[0m\u001b[0m\n\u001b[0;32m    167\u001b[0m             \u001b[1;31m# Release the connection back into the pool.\u001b[0m\u001b[1;33m\u001b[0m\u001b[1;33m\u001b[0m\u001b[1;33m\u001b[0m\u001b[0m\n",
      "\u001b[1;31mTooManyRedirects\u001b[0m: Exceeded 30 redirects."
     ]
    }
   ],
   "source": [
    "# Trying requests_html\n",
    "from requests_html import HTMLSession\n",
    "session=HTMLSession()\n",
    "\n",
    "r = session.get('https://www.nasdaq.com/market-activity/stocks/GLUU/press-releases')\n",
    "r.html.render()"
   ]
  },
  {
   "cell_type": "code",
   "execution_count": null,
   "metadata": {},
   "outputs": [],
   "source": [
    "# Using Splash is reccomended for loading JS content\n",
    "# UPDATE: Splash don't work on Windows"
   ]
  }
 ],
 "metadata": {
  "kernelspec": {
   "display_name": "Python 3",
   "language": "python",
   "name": "python3"
  },
  "language_info": {
   "codemirror_mode": {
    "name": "ipython",
    "version": 3
   },
   "file_extension": ".py",
   "mimetype": "text/x-python",
   "name": "python",
   "nbconvert_exporter": "python",
   "pygments_lexer": "ipython3",
   "version": "3.7.6"
  }
 },
 "nbformat": 4,
 "nbformat_minor": 4
}
