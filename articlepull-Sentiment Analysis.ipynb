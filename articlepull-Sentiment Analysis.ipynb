{
 "cells": [
  {
   "cell_type": "markdown",
   "metadata": {},
   "source": [
    "We can't reasonably expect to understand what an article is saying based on what words are in the headline alone. It simply doesn't give enough information. And there's no standardized way to do it without having x thousand inputs for every single type of word there is. We need to perform sentiment analysis FIRST, and then from there we can feed it into the model. \n",
    "\n",
    "So first we want a way to get the article fast and painlessly. The ideal method would be to run this fully through scrapy to pull out important data, but before we do that it's important to use a developmental level approach before we move on to a full scale scraper. \n",
    "\n",
    "### Update 1/5/2021:\n",
    "With pr_fullpull mostly implemented and working, attention is now turned to what we actually do with the article. We're going to start by pulling an individual article and go from there. \n",
    "\n",
    "There will be an ONLINE and OFFLINE modes, and sentiment will be one of the ONLINE modes. We do not want to store the entire article text manually, just use it temporarily. \n",
    "ON: datetime, sentiment\n",
    "OFF: "
   ]
  },
  {
   "cell_type": "code",
   "execution_count": 46,
   "metadata": {},
   "outputs": [
    {
     "data": {
      "text/plain": [
       "'Feb 9, 2021 6:00AM EST'"
      ]
     },
     "execution_count": 46,
     "metadata": {},
     "output_type": "execute_result"
    }
   ],
   "source": [
    "#textarray\n",
    "timestamp_date"
   ]
  },
  {
   "cell_type": "code",
   "execution_count": 27,
   "metadata": {},
   "outputs": [
    {
     "data": {
      "text/plain": [
       "' NANAIMO, British Columbia--(BUSINESS WIRE)--Tilray Inc. (NASDAQ: TLRY), a global pioneer in cannabis research, cultivation, production, and distribution, today announced it has established an agreement with Grow Pharma to import and distribute Tilray’s medical cannabis products into the United Kingdom (UK). This agreement allows Tilray to provide authorized UK patients in need with a locally maintained supply of medical cannabis solutions.'"
      ]
     },
     "execution_count": 27,
     "metadata": {},
     "output_type": "execute_result"
    }
   ],
   "source": [
    "sentence.replace('\\n','')"
   ]
  },
  {
   "cell_type": "code",
   "execution_count": 44,
   "metadata": {},
   "outputs": [],
   "source": [
    "import pandas as pd\n",
    "import numpy as np\n",
    "from selenium import webdriver #import\n",
    "from selenium.webdriver.support import expected_conditions\n",
    "from selenium.webdriver.common.by import By\n",
    "from selenium.webdriver.support.ui import WebDriverWait\n",
    "from bs4 import BeautifulSoup\n",
    "\n",
    "# pull an article from the archives\n",
    "#filedata=pd.read_csv('newsreleases_071421.csv', names=['tick',])\n",
    "\n",
    "ticker='TLRY'\n",
    "# example url\n",
    "url = 'https://www.nasdaq.com/press-release/tilrayr-announces-agreement-with-grow-pharma-to-import-and-distribute-medical'\n",
    "#url = 'https://www.nasdaq.com/press-release/addus-homecare-signs-definitive-agreement-to-acquire-queen-city-hospice-llc-and'\n",
    "# pull with selenium for now, then translate into scrapy\n",
    "driver=webdriver.Edge(\"C:/Users/cukel/Downloads/edgedriver_win32/msedgedriver.exe\")\n",
    "driver.get(url)\n",
    "# alternative using beautiful soup\n",
    "soupage=BeautifulSoup(driver.page_source,'lxml')\n",
    "# get elements with soup\n",
    "# should work around stale references?\n",
    "driver.close()\n",
    "header=soupage.find('h1', class_='press-release-header__title').text.replace('\\n','').replace('  ','')\n",
    "timestamp_date=soupage.find('time', class_='timestamp__date').text\n",
    "content=soupage.find_all('p')\n",
    "\n",
    "fulltext=''\n",
    "textarray=[]\n",
    "# pull out the actual article\n",
    "for paragraph in content:\n",
    "    # need to remove initial location/time/report stuff -> later\n",
    "    text=paragraph.get_text()\n",
    "    text=text.replace('\\n','').replace('  ','')\n",
    "    # stop condition is if the first word is about\n",
    "    # and the sentence/paragraph is under a few words\n",
    "    # let's assume under 6 words as a lenient rule\n",
    "    if text.split()[0].lower()=='about' and len(text.split())<7:\n",
    "        break\n",
    "    textarray.append(text)\n",
    "    fulltext=fulltext+text+' '\n",
    "\n",
    "# NEED to format for nltk usage\n",
    "# export needs to be in encapsulating code\n",
    "# need to move it over to scrapy\n",
    "# try to make it, check things if it fails\n"
   ]
  },
  {
   "cell_type": "code",
   "execution_count": 64,
   "metadata": {},
   "outputs": [
    {
     "data": {
      "text/plain": [
       "['https://www.nasdaq.com/press-release/aclaris-therapeutics-to-participate-in-the-h.c.-wainwright-bioconnect-virtual',\n",
       " 'https://www.nasdaq.com/press-release/aclaris-therapeutics-announces-publication-of-preclinical-research-of-zunsemetinib-in',\n",
       " 'https://www.nasdaq.com/press-release/aclaris-therapeutics-to-host-virtual-rd-day-on-december-7-2021-2021-11-18',\n",
       " 'https://www.nasdaq.com/press-release/aclaris-therapeutics-to-participate-in-upcoming-investor-conferences-2021-11-03',\n",
       " 'https://www.nasdaq.com/press-release/aclaris-therapeutics-reports-third-quarter-2021-financial-results-and-provides-a',\n",
       " 'https://www.nasdaq.com/press-release/aclaris-therapeutics-announces-proposed-settlement-and-settlement-hearing-of',\n",
       " 'https://www.nasdaq.com/press-release/aclaris-therapeutics-to-participate-in-upcoming-investor-conferences-2021-08-26',\n",
       " 'https://www.nasdaq.com/press-release/aclaris-therapeutics-reports-second-quarter-2021-financial-results-and-provides-a',\n",
       " 'https://www.nasdaq.com/press-release/aclaris-therapeutics-to-participate-in-the-william-blair-biotech-focus-conference',\n",
       " 'https://www.nasdaq.com/press-release/aclaris-announces-pricing-of-public-offering-of-common-stock-2021-06-09',\n",
       " 'https://www.nasdaq.com/press-release/aclaris-announces-proposed-public-offering-of-common-stock-2021-06-08',\n",
       " 'https://www.nasdaq.com/press-release/aclaris-therapeutics-announces-positive-preliminary-topline-data-from-phase-2a-trial',\n",
       " 'https://www.nasdaq.com/press-release/aclaris-therapeutics-to-participate-in-the-jefferies-virtual-healthcare-conference',\n",
       " 'https://www.nasdaq.com/press-release/aclaris-therapeutics-reports-first-quarter-2021-financial-results-and-provides-a',\n",
       " 'https://www.nasdaq.com/press-release/aclaris-therapeutics-completes-enrollment-in-its-phase-2a-clinical-trial-of-ati-1777',\n",
       " 'https://www.nasdaq.com/press-release/aclaris-therapeutics-reports-fourth-quarter-and-full-year-2020-financial-results-and',\n",
       " 'https://www.nasdaq.com/press-release/aclaris-therapeutics-to-participate-in-upcoming-investor-conferences-2021-02-22',\n",
       " 'https://www.nasdaq.com/press-release/aclaris-therapeutics-to-participate-in-the-10th-annual-svb-leerink-global-healthcare',\n",
       " 'https://www.nasdaq.com/press-release/aclaris-announces-pricing-of-public-offering-of-common-stock-2021-01-20',\n",
       " 'https://www.nasdaq.com/press-release/aclaris-announces-proposed-public-offering-of-common-stock-2021-01-19',\n",
       " 'https://www.nasdaq.com/press-release/aclaris-therapeutics-announces-positive-preliminary-topline-data-from-12-week-phase',\n",
       " 'https://www.nasdaq.com/press-release/aclaris-therapeutics-announces-formation-of-new-scientific-advisory-board-2020-12-15',\n",
       " 'https://www.nasdaq.com/press-release/aclaris-therapeutics-to-participate-in-the-evercore-isi-3rd-annual-healthconx',\n",
       " 'https://www.nasdaq.com/press-release/aclaris-therapeutics-reports-third-quarter-2020-financial-results-and-provides-a',\n",
       " 'https://www.nasdaq.com/press-release/aclaris-therapeutics-announces-first-patient-dosed-in-phase-2a-clinical-trial-of-ati',\n",
       " 'https://www.nasdaq.com/press-release/aclaris-therapeutics-to-present-at-upcoming-investor-conferences-2020-09-01',\n",
       " 'https://www.nasdaq.com/press-release/aclaris-therapeutics-reports-second-quarter-2020-financial-results-and-provides-rd',\n",
       " 'https://www.nasdaq.com/press-release/aclaris-therapeutics-submits-investigational-new-drug-application-for-ati-1777-a',\n",
       " 'https://www.nasdaq.com/press-release/aclaris-therapeutics-supports-investigator-initiated-clinical-trial-of-ati-450-for',\n",
       " 'https://www.nasdaq.com/press-release/aclaris-therapeutics-announces-publication-of-an-abstract-of-the-phase-1-clinical',\n",
       " 'https://www.nasdaq.com/press-release/aclaris-therapeutics-to-present-at-the-jefferies-virtual-healthcare-conference-2020',\n",
       " 'https://www.nasdaq.com/press-release/aclaris-therapeutics-reports-first-quarter-2020-financial-results-and-provides-rd-and',\n",
       " 'https://www.nasdaq.com/press-release/aclaris-therapeutics-secures-%2411-million-term-loan-facility-2020-03-31',\n",
       " 'https://www.nasdaq.com/press-release/aclaris-therapeutics-reports-fourth-quarter-and-full-year-2019-financial-results-and',\n",
       " 'https://www.nasdaq.com/press-release/aclaris-therapeutics-to-announce-fourth-quarter-and-full-year-2019-financial-results',\n",
       " 'https://www.nasdaq.com/press-release/aclaris-therapeutics-to-present-at-the-svb-leerink-9th-annual-global-healthcare',\n",
       " 'https://www.nasdaq.com/press-release/aclaris-therapeutics-announces-positive-results-from-phase-1-single-and-multiple',\n",
       " 'https://www.nasdaq.com/press-release/aclaris-therapeutics-announces-appointment-of-vincent-milano-to-board-of-directors',\n",
       " 'https://www.nasdaq.com/press-release/aclaris-therapeutics-to-present-at-upcoming-investor-conferences-2019-11-12',\n",
       " 'https://www.nasdaq.com/press-release/aclaris-therapeutics-reports-third-quarter-2019-financial-results-and-provides',\n",
       " 'https://www.nasdaq.com/press-release/aclaris-therapeutics-to-announce-third-quarter-2019-financial-results-on-november-7',\n",
       " 'https://www.nasdaq.com/press-release/aclaris-therapeutics-a-101-45-topical-solution-meets-primary-and-all-secondary-0',\n",
       " 'https://www.nasdaq.com/press-release/aclaris-therapeutics-announces-divestiture-of-rhofader-2019-10-10',\n",
       " 'https://www.nasdaq.com/press-release/aclaris-therapeutics-files-patent-infringement-lawsuit-against-taro-pharmaceuticals',\n",
       " 'https://www.nasdaq.com/press-release/shareholder-alert%3a-pomerantz-law-firm-reminds-shareholders-with-losses-on-their-23',\n",
       " 'https://www.nasdaq.com/press-release/thinking-about-buying-stock-in-aclaris-therapeutics-alder-biopharmaceuticals-capricor',\n",
       " 'https://www.nasdaq.com/press-release/aclaris-therapeutics-to-hold-rd-day-2019-09-17',\n",
       " 'https://www.nasdaq.com/press-release/aclaris-therapeutics-a-101-45-topical-solution-meets-primary-and-all-secondary']"
      ]
     },
     "execution_count": 64,
     "metadata": {},
     "output_type": "execute_result"
    }
   ],
   "source": [
    "# get ticker articles\n",
    "ticker='ACRS'\n",
    "pd.read_csv(\"C:/Users/cukel/OneDrive/Documents/PyScripts/hotshot finance type shit/ticker_releasedata/raw/{0}.txt\".format(ticker),names=['link'])['link'].tolist()"
   ]
  },
  {
   "cell_type": "code",
   "execution_count": 4,
   "metadata": {
    "scrolled": true
   },
   "outputs": [
    {
     "data": {
      "text/plain": [
       "'C:\\\\Users\\\\cukel\\\\anaconda3\\\\lib\\\\site-packages\\\\nltk\\\\__init__.py'"
      ]
     },
     "execution_count": 4,
     "metadata": {},
     "output_type": "execute_result"
    }
   ],
   "source": [
    "# download new ntlk packages\n",
    "#nltk.download()\n",
    "nltk.__file__"
   ]
  },
  {
   "cell_type": "code",
   "execution_count": 65,
   "metadata": {},
   "outputs": [
    {
     "name": "stdout",
     "output_type": "stream",
     "text": [
      "compound: 0.986, neg: 0.005, neu: 0.882, pos: 0.113, "
     ]
    }
   ],
   "source": [
    "# now that we have text, we analyze it\n",
    "# lean heavily on natrual language toolkit\n",
    "from nltk import tokenize\n",
    "from nltk.sentiment import SentimentAnalyzer\n",
    "from nltk.sentiment.vader import SentimentIntensityAnalyzer\n",
    "from nltk.sentiment.util import *\n",
    "\n",
    "# Instantiate the sentiment intensity analyzer with the existing lexicon\n",
    "#vader = SentimentIntensityAnalyzer()\n",
    "\n",
    "# tokenize an individual sentence\n",
    "# MAY THROW ERRORS LATER when above code changes\n",
    "# split into sentences\n",
    "\n",
    "#test it out first\n",
    "#sentence='bette white has always been popular and has been good in recent films'\n",
    "\n",
    "sid=SentimentIntensityAnalyzer()\n",
    "ss=sid.polarity_scores(fulltext)\n",
    "for k in sorted(ss):\n",
    "    print('{0}: {1}, '.format(k,ss[k]),end='')"
   ]
  },
  {
   "cell_type": "code",
   "execution_count": 66,
   "metadata": {},
   "outputs": [
    {
     "data": {
      "text/plain": [
       "{'neg': 0.005, 'neu': 0.882, 'pos': 0.113, 'compound': 0.986}"
      ]
     },
     "execution_count": 66,
     "metadata": {},
     "output_type": "execute_result"
    }
   ],
   "source": [
    "\n"
   ]
  },
  {
   "cell_type": "code",
   "execution_count": null,
   "metadata": {},
   "outputs": [],
   "source": [
    "\n",
    "timedata=pd.read_csv('newsreleases_071421_FULLTIME.csv')\n",
    "df = pd.merge(filedata, timedata, on='tick')\n",
    "df.drop(labels='link_y', axis=1, inplace=True)\n",
    "df.rename(columns={'link_x':'link'}, inplace=True)\n"
   ]
  },
  {
   "cell_type": "code",
   "execution_count": 47,
   "metadata": {},
   "outputs": [],
   "source": [
    "from dateutil import parser\n",
    "def getdatetime(dtime):\n",
    "    return parser.parse(dtime,tzinfos={\"EST\":-5*3600, \"EDT\":-4*3600})"
   ]
  },
  {
   "cell_type": "code",
   "execution_count": 48,
   "metadata": {},
   "outputs": [
    {
     "data": {
      "text/plain": [
       "datetime.datetime(2021, 2, 9, 6, 0, tzinfo=tzoffset('EST', -18000))"
      ]
     },
     "execution_count": 48,
     "metadata": {},
     "output_type": "execute_result"
    }
   ],
   "source": [
    "getdatetime(timestamp_date)"
   ]
  }
 ],
 "metadata": {
  "kernelspec": {
   "display_name": "Python 3",
   "language": "python",
   "name": "python3"
  },
  "language_info": {
   "codemirror_mode": {
    "name": "ipython",
    "version": 3
   },
   "file_extension": ".py",
   "mimetype": "text/x-python",
   "name": "python",
   "nbconvert_exporter": "python",
   "pygments_lexer": "ipython3",
   "version": "3.7.6"
  }
 },
 "nbformat": 4,
 "nbformat_minor": 4
}
