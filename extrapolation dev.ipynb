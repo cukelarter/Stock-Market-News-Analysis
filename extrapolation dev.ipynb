{
 "cells": [
  {
   "cell_type": "markdown",
   "metadata": {},
   "source": [
    "## Update 1/5/2022\n",
    "Under this are development scripts of different data to be extrapolated."
   ]
  },
  {
   "cell_type": "code",
   "execution_count": 1,
   "metadata": {},
   "outputs": [],
   "source": [
    "# import the csv but skip that for now\n",
    "# this one you wanna just use this url\n",
    "# https://www.nasdaq.com/press-release/kalvista-pharmaceuticals-reports-positive-results-for-kvd900-phase-2-demonstrating\n",
    "# get the time of release, check if it's out of market times\n",
    "# if it is then get the most recent closing, next open\n",
    "# work on more long term shit later\n",
    "import pandas as pd\n",
    "import numpy as np\n",
    "\n",
    "# retreive health.csv, which contains all symbols, names, and recent statistics of all NASDAQ healthcare stocks\n",
    "# retreived from https://www.nasdaq.com/market-activity/stocks/screener\n",
    "df = pd.read_csv('newsreleases_071421.csv')"
   ]
  },
  {
   "cell_type": "markdown",
   "metadata": {},
   "source": [
    "## Get Publish Time"
   ]
  },
  {
   "cell_type": "markdown",
   "metadata": {},
   "source": [
    "Each press release has a publish time listed on nasdaq, check it and add it to info. Used later when determining stock market areas to look at."
   ]
  },
  {
   "cell_type": "code",
   "execution_count": 6,
   "metadata": {},
   "outputs": [
    {
     "name": "stdout",
     "output_type": "stream",
     "text": [
      "<html lang=\"en\"><head><meta name=\"generator\" content=\"Hexo 3.9.0\">\n",
      "        <meta charset=\"utf-8\">\n",
      "            \n",
      "            <title>\n",
      "                Learn Python Programming - Python Tutorial\n",
      "            </title>\n",
      "\t    <link rel=\"canonical\" href=\"https://pythonbasics.org/\">\n",
      "            <meta content=\"width=device-width, initial-scale=1\" name=\"viewport\">\n",
      "            <meta name=\"theme-color\" content=\"#4184f3\">\n",
      "            \n",
      "            \n",
      "            <link href=\"/favicon.gif\" rel=\"icon\">\n",
      "            \n",
      "\n",
      "            \n",
      "        \n",
      "\n",
      "\n",
      "<style>h1,h2{padding-bottom:.3em}nav{justify-content:space-between}nav,nav a{color:#fff}*,.menu-wrapper li{box-sizing:border-box}.menu-wrapper a,a{text-decoration:none}.main{min-height:320px}body{color:#404040;font:300 16px/1.5 'Helvetica Neue',Helvetica,Arial,sans-serif;text-shadow:0 0 1px rgba(50,50,50,.2);margin:0;padding:0;-webkit-font-smoothing:antialiased;font-smoothing:antialiased;text-rendering:optimizeLegibility;overflow-x:hidden}h1,h2,h3{position:relative;margin-top:1em;margin-bottom:16px;font-weight:700;line-height:1.4}.menu-wrapper{position:fixed}h1{font-size:2.25em;line-height:1.2}h2{font-size:1.75em;line-height:1.225;border-bottom:1px solid #eee}h3{line-height:1.43}a{color:#0063FF}.logo a{font-weight:400;font-size:20px;line-height:56px;padding:0 15px}.nav-wrapper{background-color:#4184f3;box-shadow:0 2px 5px 0 rgba(0,0,0,.26)}nav{height:56px;display:flex;align-items:stretch}.menu-wrapper{width:100%;height:100%;left:0;right:0;top:0;background-color:transparent;margin:56px 0 0;text-align:center;opacity:0;visibility:hidden;padding:0;z-index:10}.main,article{background:#fff}.menu-wrapper ul.menus{list-style:none;padding:0;margin:0;display:flex;flex-direction:column;justify-content:center;height:100%}.logo{z-index:999;display:flex;align-items:center;height:56px;padding:0}.menu-wrapper li{will-change:transform,opacity;opacity:0;transform:translateY(-100px)}.menu-wrapper li a{font-size:5vw;font-weight:300;display:inline-block;width:100%}.menu-wrapper a{color:#fff;padding:15px}.nav-toggle-icon{display:block;width:56px;height:56px}.main{width:100%}.container{margin:0 auto}.container.content{margin-top:25px}.row{display:flex;justify-content:center;align-items:flex-start}.main{flex:3 1 auto;max-width:727.5px}article{padding:15px}article img{max-width:100%;display:block;margin:10px auto;color:#999}@media (min-width:425px){.container{padding-right:15px;padding-left:15px;margin-right:auto;margin-left:auto}.logo{margin:0}}@media (min-width:768px){.menu-wrapper,.menu-wrapper li{margin:0;opacity:1}.logo{padding:15px}.nav-toggle-icon{display:none}.menu-wrapper{position:relative;display:flex;width:auto;height:auto;padding:0;visibility:visible}.menu-wrapper ul.menus{flex-direction:row}.menu-wrapper li{will-change:inherit;transform:none}.menu-wrapper li a{font-size:inherit;font-weight:inherit;height:100%}}@media (min-width:992px){.container{width:970px}}strong{font-weight:700}.nav-indicator{-webkit-animation-timing-function:cubic-bezier(.55,0,.1,1);animation-timing-function:cubic-bezier(.55,0,.1,1);background:#fff;bottom:0;height:2px;opacity:0;position:absolute;-webkit-transform-origin:0;transform-origin:0;-webkit-transform:scaleX(.001);transform:scaleX(.001);width:100px}.material-hamburger{width:60px;height:45px;-webkit-transform:rotate(0);-moz-transform:rotate(0);-o-transform:rotate(0);transform:rotate(0);z-index:999;transform:scale(.4)!important;position:absolute;right:0;top:5.5px}.material-hamburger span{display:block;position:absolute;height:4px;width:100%;background:#fff;opacity:1;left:0;-webkit-transform:rotate(0);-moz-transform:rotate(0);-o-transform:rotate(0);transform:rotate(0)}.material-hamburger span:nth-child(1),.material-hamburger span:nth-child(2){-webkit-transform-origin:left center;-moz-transform-origin:left center;-o-transform-origin:left center}.material-hamburger span:nth-child(1){top:0;transform-origin:left center}.material-hamburger span:nth-child(2){top:18px;transform-origin:left center}.material-hamburger span:nth-child(3){top:36px;-webkit-transform-origin:left center;-moz-transform-origin:left center;-o-transform-origin:left center;transform-origin:left center}.nav-toggle-icon{overflow:hidden}.nav-toggle-icon:before{content:\"\";z-index:9;position:absolute;top:2px;right:0;width:40px;height:40px;background:#4184f3;border-radius:50%;transform-origin:center 70%;transform:scale(1)}</style>\n",
      "\n",
      "          <!-- <link rel=\"stylesheet\" href=\"/css/gtheme.css\" media=\"none\" onload=\"if(media!='all')media='all'\"><noscript><link rel=\"stylesheet\" href=\"/css/gtheme.css\"></noscript> -->           \n",
      "\n",
      "          <style>.highlight.sh::before{content:\"Shell\";background-color:#ECEFF1 !important;color:#90A4AE}.highlight::before{font-size:1rem;color:#fff;display:block;position:relative;top:0;left:0;width:100%;background:#999;padding:0;text-indent:1em;background:#ccc;padding:0;border-top-left-radius:3px;border-top-right-radius:3px;margin-top:0}.highlight{margin-bottom:1.125rem;position:relative}section.post-content .highlight pre,section.post-content pre{margin-top:0}.entry .gist{background:#eee;border:1px solid color-border;margin-top:15px;padding:7px 15px;border-radius:2px;text-shadow:0 0 1px #fff;line-height:1.6;overflow:auto;color:#666}.entry .gist .gist-file{border:none;font-family:inherit;margin:0;font-size:0.9em}.entry .gist .gist-file .gist-data{background:none;border-bottom:none}.entry .gist .gist-file .gist-data pre{padding:0 !important;font-family:font-mono}.entry .gist .gist-file .gist-meta{background:none;color:color-meta;margin-top:5px;padding:0;text-shadow:0 0 1px #fff;font-size:100%}.entry .gist .gist-file .gist-meta a{color:color-link}.entry .gist .gist-file .gist-meta a:visited{color:color-link}figure.highlight{background:#fafafa;text-shadow:0 0 1px #fff;line-height:1.6;overflow:auto;position:relative;font-size:0.9em;margin:15px -15px;padding:5px 0;border-left:4px solid #CBC8C8}figure.highlight figcaption{color:color-meta;margin-bottom:5px;text-shadow:0 0 1px #fff}figure.highlight figcaption a{position:absolute;right:15px}figure.highlight pre{border:none;padding:0;margin:0}figure.highlight table{margin-top:0;border-spacing:0}figure.highlight .gutter{color:color-meta;padding-right:15px;border-right:1px solid color-border;text-align:right;display:none}figure.highlight .code{padding-left:15px;border-left:1px solid #eee;color:#666}figure.highlight .line{height:20px}pre .comment,pre .diff .header,pre .doctype,pre .javadoc,pre .lisp .string,pre .pi,pre .template_comment{color:#93a1a1;font-style:italic}pre .addition,pre .css .tag,pre .keyword,pre .method,pre .nginx .title,pre .request,pre .status,pre .winutils{color:#859900}pre .command,pre .hexcolor,pre .number,pre .phpdoc,pre .regexp,pre .string,pre .tag .value,pre .tex .formula{color:#2aa198}pre .built_in,pre .chunk,pre .decorator,pre .id,pre .identifier,pre .literal,pre .localvars,pre .title,pre .vhdl{color:#268bd2}pre .attribute,pre .class .title,pre .constant,pre .haskell .type,pre .lisp .body,pre .parent,pre .smalltalk .number,pre .variable{color:#b58900}pre .attr_selector,pre .cdata,pre .clojure .title,pre .diff .change,pre .important,pre .preprocessor,pre .preprocessor .keyword,pre .shebang,pre .special,pre .subst,pre .symbol,pre .symbol .string{color:#cb4b16}pre .deletion{color:#dc322f}@charset\"UTF-8\";.animated{-webkit-animation-duration:1s;animation-duration:1s;-webkit-animation-fill-mode:both;animation-fill-mode:both}.animated.infinite{-webkit-animation-iteration-count:infinite;animation-iteration-count:infinite}.animated.hinge{-webkit-animation-duration:2s;animation-duration:2s}.animated.bounceIn,.animated.bounceOut,.animated.flipOutX,.animated.flipOutY{-webkit-animation-duration:0.75s;animation-duration:0.75s}@-webkit-keyframes bounce{20%,53%,80%,from,to{-webkit-animation-timing-function:cubic-bezier(0.215, 0.610, 0.355, 1.000);animation-timing-function:cubic-bezier(0.215, 0.610, 0.355, 1.000);-webkit-transform:translate3d(0,0,0);transform:translate3d(0,0,0)}40%,43%{-webkit-animation-timing-function:cubic-bezier(0.755, 0.050, 0.855, 0.060);animation-timing-function:cubic-bezier(0.755, 0.050, 0.855, 0.060);-webkit-transform:translate3d(0, -30px, 0);transform:translate3d(0, -30px, 0)}70%{-webkit-animation-timing-function:cubic-bezier(0.755, 0.050, 0.855, 0.060);animation-timing-function:cubic-bezier(0.755, 0.050, 0.855, 0.060);-webkit-transform:translate3d(0, -15px, 0);transform:translate3d(0, -15px, 0)}90%{-webkit-transform:translate3d(0,-4px,0);transform:translate3d(0,-4px,0)}}@keyframes bounce{20%,53%,80%,from,to{-webkit-animation-timing-function:cubic-bezier(0.215, 0.610, 0.355, 1.000);animation-timing-function:cubic-bezier(0.215, 0.610, 0.355, 1.000);-webkit-transform:translate3d(0,0,0);transform:translate3d(0,0,0)}40%,43%{-webkit-animation-timing-function:cubic-bezier(0.755, 0.050, 0.855, 0.060);animation-timing-function:cubic-bezier(0.755, 0.050, 0.855, 0.060);-webkit-transform:translate3d(0, -30px, 0);transform:translate3d(0, -30px, 0)}70%{-webkit-animation-timing-function:cubic-bezier(0.755, 0.050, 0.855, 0.060);animation-timing-function:cubic-bezier(0.755, 0.050, 0.855, 0.060);-webkit-transform:translate3d(0, -15px, 0);transform:translate3d(0, -15px, 0)}90%{-webkit-transform:translate3d(0,-4px,0);transform:translate3d(0,-4px,0)}}.bounce{-webkit-animation-name:bounce;animation-name:bounce;-webkit-transform-origin:center bottom;transform-origin:center bottom}@-webkit-keyframes flash{50%,from,to{opacity:1}25%,75%{opacity:0}}@keyframes flash{50%,from,to{opacity:1}25%,75%{opacity:0}}.flash{-webkit-animation-name:flash;animation-name:flash}@-webkit-keyframes pulse{from{-webkit-transform:scale3d(1, 1, 1);transform:scale3d(1, 1, 1)}50%{-webkit-transform:scale3d(1.05, 1.05, 1.05);transform:scale3d(1.05, 1.05, 1.05)}to{-webkit-transform:scale3d(1, 1, 1);transform:scale3d(1, 1, 1)}}@keyframes pulse{from{-webkit-transform:scale3d(1, 1, 1);transform:scale3d(1, 1, 1)}50%{-webkit-transform:scale3d(1.05, 1.05, 1.05);transform:scale3d(1.05, 1.05, 1.05)}to{-webkit-transform:scale3d(1, 1, 1);transform:scale3d(1, 1, 1)}}.pulse{-webkit-animation-name:pulse;animation-name:pulse}@-webkit-keyframes rubberBand{from{-webkit-transform:scale3d(1, 1, 1);transform:scale3d(1, 1, 1)}30%{-webkit-transform:scale3d(1.25, 0.75, 1);transform:scale3d(1.25, 0.75, 1)}40%{-webkit-transform:scale3d(0.75, 1.25, 1);transform:scale3d(0.75, 1.25, 1)}50%{-webkit-transform:scale3d(1.15, 0.85, 1);transform:scale3d(1.15, 0.85, 1)}65%{-webkit-transform:scale3d(.95, 1.05, 1);transform:scale3d(.95, 1.05, 1)}75%{-webkit-transform:scale3d(1.05, .95, 1);transform:scale3d(1.05, .95, 1)}to{-webkit-transform:scale3d(1, 1, 1);transform:scale3d(1, 1, 1)}}@keyframes rubberBand{from{-webkit-transform:scale3d(1, 1, 1);transform:scale3d(1, 1, 1)}30%{-webkit-transform:scale3d(1.25, 0.75, 1);transform:scale3d(1.25, 0.75, 1)}40%{-webkit-transform:scale3d(0.75, 1.25, 1);transform:scale3d(0.75, 1.25, 1)}50%{-webkit-transform:scale3d(1.15, 0.85, 1);transform:scale3d(1.15, 0.85, 1)}65%{-webkit-transform:scale3d(.95, 1.05, 1);transform:scale3d(.95, 1.05, 1)}75%{-webkit-transform:scale3d(1.05, .95, 1);transform:scale3d(1.05, .95, 1)}to{-webkit-transform:scale3d(1, 1, 1);transform:scale3d(1, 1, 1)}}.rubberBand{-webkit-animation-name:rubberBand;animation-name:rubberBand}@-webkit-keyframes shake{from,to{-webkit-transform:translate3d(0, 0, 0);transform:translate3d(0, 0, 0)}10%,30%,50%,70%,90%{-webkit-transform:translate3d(-10px, 0, 0);transform:translate3d(-10px, 0, 0)}20%,40%,60%,80%{-webkit-transform:translate3d(10px, 0, 0);transform:translate3d(10px, 0, 0)}}@keyframes shake{from,to{-webkit-transform:translate3d(0, 0, 0);transform:translate3d(0, 0, 0)}10%,30%,50%,70%,90%{-webkit-transform:translate3d(-10px, 0, 0);transform:translate3d(-10px, 0, 0)}20%,40%,60%,80%{-webkit-transform:translate3d(10px, 0, 0);transform:translate3d(10px, 0, 0)}}.shake{-webkit-animation-name:shake;animation-name:shake}@-webkit-keyframes headShake{0%{-webkit-transform:translateX(0);transform:translateX(0)}6.5%{-webkit-transform:translateX(-6px) rotateY(-9deg);transform:translateX(-6px) rotateY(-9deg)}18.5%{-webkit-transform:translateX(5px) rotateY(7deg);transform:translateX(5px) rotateY(7deg)}31.5%{-webkit-transform:translateX(-3px) rotateY(-5deg);transform:translateX(-3px) rotateY(-5deg)}43.5%{-webkit-transform:translateX(2px) rotateY(3deg);transform:translateX(2px) rotateY(3deg)}50%{-webkit-transform:translateX(0);transform:translateX(0)}}@keyframes headShake{0%{-webkit-transform:translateX(0);transform:translateX(0)}6.5%{-webkit-transform:translateX(-6px) rotateY(-9deg);transform:translateX(-6px) rotateY(-9deg)}18.5%{-webkit-transform:translateX(5px) rotateY(7deg);transform:translateX(5px) rotateY(7deg)}31.5%{-webkit-transform:translateX(-3px) rotateY(-5deg);transform:translateX(-3px) rotateY(-5deg)}43.5%{-webkit-transform:translateX(2px) rotateY(3deg);transform:translateX(2px) rotateY(3deg)}50%{-webkit-transform:translateX(0);transform:translateX(0)}}.headShake{-webkit-animation-timing-function:ease-in-out;animation-timing-function:ease-in-out;-webkit-animation-name:headShake;animation-name:headShake}@-webkit-keyframes swing{20%{-webkit-transform:rotate3d(0, 0, 1, 15deg);transform:rotate3d(0, 0, 1, 15deg)}40%{-webkit-transform:rotate3d(0, 0, 1, -10deg);transform:rotate3d(0, 0, 1, -10deg)}60%{-webkit-transform:rotate3d(0, 0, 1, 5deg);transform:rotate3d(0, 0, 1, 5deg)}80%{-webkit-transform:rotate3d(0, 0, 1, -5deg);transform:rotate3d(0, 0, 1, -5deg)}to{-webkit-transform:rotate3d(0, 0, 1, 0deg);transform:rotate3d(0, 0, 1, 0deg)}}@keyframes swing{20%{-webkit-transform:rotate3d(0, 0, 1, 15deg);transform:rotate3d(0, 0, 1, 15deg)}40%{-webkit-transform:rotate3d(0, 0, 1, -10deg);transform:rotate3d(0, 0, 1, -10deg)}60%{-webkit-transform:rotate3d(0, 0, 1, 5deg);transform:rotate3d(0, 0, 1, 5deg)}80%{-webkit-transform:rotate3d(0, 0, 1, -5deg);transform:rotate3d(0, 0, 1, -5deg)}to{-webkit-transform:rotate3d(0, 0, 1, 0deg);transform:rotate3d(0, 0, 1, 0deg)}}.swing{-webkit-transform-origin:top center;transform-origin:top center;-webkit-animation-name:swing;animation-name:swing}@-webkit-keyframes tada{from{-webkit-transform:scale3d(1, 1, 1);transform:scale3d(1, 1, 1)}10%,20%{-webkit-transform:scale3d(.9, .9, .9) rotate3d(0, 0, 1, -3deg);transform:scale3d(.9, .9, .9) rotate3d(0, 0, 1, -3deg)}30%,50%,70%,90%{-webkit-transform:scale3d(1.1, 1.1, 1.1) rotate3d(0, 0, 1, 3deg);transform:scale3d(1.1, 1.1, 1.1) rotate3d(0, 0, 1, 3deg)}40%,60%,80%{-webkit-transform:scale3d(1.1, 1.1, 1.1) rotate3d(0, 0, 1, -3deg);transform:scale3d(1.1, 1.1, 1.1) rotate3d(0, 0, 1, -3deg)}to{-webkit-transform:scale3d(1, 1, 1);transform:scale3d(1, 1, 1)}}@keyframes tada{from{-webkit-transform:scale3d(1, 1, 1);transform:scale3d(1, 1, 1)}10%,20%{-webkit-transform:scale3d(.9, .9, .9) rotate3d(0, 0, 1, -3deg);transform:scale3d(.9, .9, .9) rotate3d(0, 0, 1, -3deg)}30%,50%,70%,90%{-webkit-transform:scale3d(1.1, 1.1, 1.1) rotate3d(0, 0, 1, 3deg);transform:scale3d(1.1, 1.1, 1.1) rotate3d(0, 0, 1, 3deg)}40%,60%,80%{-webkit-transform:scale3d(1.1, 1.1, 1.1) rotate3d(0, 0, 1, -3deg);transform:scale3d(1.1, 1.1, 1.1) rotate3d(0, 0, 1, -3deg)}to{-webkit-transform:scale3d(1, 1, 1);transform:scale3d(1, 1, 1)}}.tada{-webkit-animation-name:tada;animation-name:tada}@-webkit-keyframes wobble{from{-webkit-transform:none;transform:none}15%{-webkit-transform:translate3d(-25%, 0, 0) rotate3d(0, 0, 1, -5deg);transform:translate3d(-25%, 0, 0) rotate3d(0, 0, 1, -5deg)}30%{-webkit-transform:translate3d(20%, 0, 0) rotate3d(0, 0, 1, 3deg);transform:translate3d(20%, 0, 0) rotate3d(0, 0, 1, 3deg)}45%{-webkit-transform:translate3d(-15%, 0, 0) rotate3d(0, 0, 1, -3deg);transform:translate3d(-15%, 0, 0) rotate3d(0, 0, 1, -3deg)}60%{-webkit-transform:translate3d(10%, 0, 0) rotate3d(0, 0, 1, 2deg);transform:translate3d(10%, 0, 0) rotate3d(0, 0, 1, 2deg)}75%{-webkit-transform:translate3d(-5%, 0, 0) rotate3d(0, 0, 1, -1deg);transform:translate3d(-5%, 0, 0) rotate3d(0, 0, 1, -1deg)}to{-webkit-transform:none;transform:none}}@keyframes wobble{from{-webkit-transform:none;transform:none}15%{-webkit-transform:translate3d(-25%, 0, 0) rotate3d(0, 0, 1, -5deg);transform:translate3d(-25%, 0, 0) rotate3d(0, 0, 1, -5deg)}30%{-webkit-transform:translate3d(20%, 0, 0) rotate3d(0, 0, 1, 3deg);transform:translate3d(20%, 0, 0) rotate3d(0, 0, 1, 3deg)}45%{-webkit-transform:translate3d(-15%, 0, 0) rotate3d(0, 0, 1, -3deg);transform:translate3d(-15%, 0, 0) rotate3d(0, 0, 1, -3deg)}60%{-webkit-transform:translate3d(10%, 0, 0) rotate3d(0, 0, 1, 2deg);transform:translate3d(10%, 0, 0) rotate3d(0, 0, 1, 2deg)}75%{-webkit-transform:translate3d(-5%, 0, 0) rotate3d(0, 0, 1, -1deg);transform:translate3d(-5%, 0, 0) rotate3d(0, 0, 1, -1deg)}to{-webkit-transform:none;transform:none}}.wobble{-webkit-animation-name:wobble;animation-name:wobble}@-webkit-keyframes jello{11.1%,from,to{-webkit-transform:none;transform:none}22.2%{-webkit-transform:skewX(-12.5deg) skewY(-12.5deg);transform:skewX(-12.5deg) skewY(-12.5deg)}33.3%{-webkit-transform:skewX(6.25deg) skewY(6.25deg);transform:skewX(6.25deg) skewY(6.25deg)}44.4%{-webkit-transform:skewX(-3.125deg) skewY(-3.125deg);transform:skewX(-3.125deg) skewY(-3.125deg)}55.5%{-webkit-transform:skewX(1.5625deg) skewY(1.5625deg);transform:skewX(1.5625deg) skewY(1.5625deg)}66.6%{-webkit-transform:skewX(-0.78125deg) skewY(-0.78125deg);transform:skewX(-0.78125deg) skewY(-0.78125deg)}77.7%{-webkit-transform:skewX(0.390625deg) skewY(0.390625deg);transform:skewX(0.390625deg) skewY(0.390625deg)}88.8%{-webkit-transform:skewX(-0.1953125deg) skewY(-0.1953125deg);transform:skewX(-0.1953125deg) skewY(-0.1953125deg)}}@keyframes jello{11.1%,from,to{-webkit-transform:none;transform:none}22.2%{-webkit-transform:skewX(-12.5deg) skewY(-12.5deg);transform:skewX(-12.5deg) skewY(-12.5deg)}33.3%{-webkit-transform:skewX(6.25deg) skewY(6.25deg);transform:skewX(6.25deg) skewY(6.25deg)}44.4%{-webkit-transform:skewX(-3.125deg) skewY(-3.125deg);transform:skewX(-3.125deg) skewY(-3.125deg)}55.5%{-webkit-transform:skewX(1.5625deg) skewY(1.5625deg);transform:skewX(1.5625deg) skewY(1.5625deg)}66.6%{-webkit-transform:skewX(-0.78125deg) skewY(-0.78125deg);transform:skewX(-0.78125deg) skewY(-0.78125deg)}77.7%{-webkit-transform:skewX(0.390625deg) skewY(0.390625deg);transform:skewX(0.390625deg) skewY(0.390625deg)}88.8%{-webkit-transform:skewX(-0.1953125deg) skewY(-0.1953125deg);transform:skewX(-0.1953125deg) skewY(-0.1953125deg)}}.jello{-webkit-animation-name:jello;animation-name:jello;-webkit-transform-origin:center;transform-origin:center}@-webkit-keyframes bounceIn{20%,40%,60%,80%,from,to{-webkit-animation-timing-function:cubic-bezier(0.215, 0.610, 0.355, 1.000);animation-timing-function:cubic-bezier(0.215, 0.610, 0.355, 1.000)}0%{opacity:0;-webkit-transform:scale3d(.3, .3, .3);transform:scale3d(.3, .3, .3)}20%{-webkit-transform:scale3d(1.1, 1.1, 1.1);transform:scale3d(1.1, 1.1, 1.1)}40%{-webkit-transform:scale3d(.9, .9, .9);transform:scale3d(.9, .9, .9)}60%{opacity:1;-webkit-transform:scale3d(1.03, 1.03, 1.03);transform:scale3d(1.03, 1.03, 1.03)}80%{-webkit-transform:scale3d(.97, .97, .97);transform:scale3d(.97, .97, .97)}to{opacity:1;-webkit-transform:scale3d(1, 1, 1);transform:scale3d(1, 1, 1)}}@keyframes bounceIn{20%,40%,60%,80%,from,to{-webkit-animation-timing-function:cubic-bezier(0.215, 0.610, 0.355, 1.000);animation-timing-function:cubic-bezier(0.215, 0.610, 0.355, 1.000)}0%{opacity:0;-webkit-transform:scale3d(.3, .3, .3);transform:scale3d(.3, .3, .3)}20%{-webkit-transform:scale3d(1.1, 1.1, 1.1);transform:scale3d(1.1, 1.1, 1.1)}40%{-webkit-transform:scale3d(.9, .9, .9);transform:scale3d(.9, .9, .9)}60%{opacity:1;-webkit-transform:scale3d(1.03, 1.03, 1.03);transform:scale3d(1.03, 1.03, 1.03)}80%{-webkit-transform:scale3d(.97, .97, .97);transform:scale3d(.97, .97, .97)}to{opacity:1;-webkit-transform:scale3d(1, 1, 1);transform:scale3d(1, 1, 1)}}.bounceIn{-webkit-animation-name:bounceIn;animation-name:bounceIn}@-webkit-keyframes bounceInDown{60%,75%,90%,from,to{-webkit-animation-timing-function:cubic-bezier(0.215, 0.610, 0.355, 1.000);animation-timing-function:cubic-bezier(0.215, 0.610, 0.355, 1.000)}0%{opacity:0;-webkit-transform:translate3d(0, -3000px, 0);transform:translate3d(0, -3000px, 0)}60%{opacity:1;-webkit-transform:translate3d(0, 25px, 0);transform:translate3d(0, 25px, 0)}75%{-webkit-transform:translate3d(0, -10px, 0);transform:translate3d(0, -10px, 0)}90%{-webkit-transform:translate3d(0, 5px, 0);transform:translate3d(0, 5px, 0)}to{-webkit-transform:none;transform:none}}@keyframes bounceInDown{60%,75%,90%,from,to{-webkit-animation-timing-function:cubic-bezier(0.215, 0.610, 0.355, 1.000);animation-timing-function:cubic-bezier(0.215, 0.610, 0.355, 1.000)}0%{opacity:0;-webkit-transform:translate3d(0, -3000px, 0);transform:translate3d(0, -3000px, 0)}60%{opacity:1;-webkit-transform:translate3d(0, 25px, 0);transform:translate3d(0, 25px, 0)}75%{-webkit-transform:translate3d(0, -10px, 0);transform:translate3d(0, -10px, 0)}90%{-webkit-transform:translate3d(0, 5px, 0);transform:translate3d(0, 5px, 0)}to{-webkit-transform:none;transform:none}}.bounceInDown{-webkit-animation-name:bounceInDown;animation-name:bounceInDown}@-webkit-keyframes bounceInLeft{60%,75%,90%,from,to{-webkit-animation-timing-function:cubic-bezier(0.215, 0.610, 0.355, 1.000);animation-timing-function:cubic-bezier(0.215, 0.610, 0.355, 1.000)}0%{opacity:0;-webkit-transform:translate3d(-3000px, 0, 0);transform:translate3d(-3000px, 0, 0)}60%{opacity:1;-webkit-transform:translate3d(25px, 0, 0);transform:translate3d(25px, 0, 0)}75%{-webkit-transform:translate3d(-10px, 0, 0);transform:translate3d(-10px, 0, 0)}90%{-webkit-transform:translate3d(5px, 0, 0);transform:translate3d(5px, 0, 0)}to{-webkit-transform:none;transform:none}}@keyframes bounceInLeft{60%,75%,90%,from,to{-webkit-animation-timing-function:cubic-bezier(0.215, 0.610, 0.355, 1.000);animation-timing-function:cubic-bezier(0.215, 0.610, 0.355, 1.000)}0%{opacity:0;-webkit-transform:translate3d(-3000px, 0, 0);transform:translate3d(-3000px, 0, 0)}60%{opacity:1;-webkit-transform:translate3d(25px, 0, 0);transform:translate3d(25px, 0, 0)}75%{-webkit-transform:translate3d(-10px, 0, 0);transform:translate3d(-10px, 0, 0)}90%{-webkit-transform:translate3d(5px, 0, 0);transform:translate3d(5px, 0, 0)}to{-webkit-transform:none;transform:none}}.bounceInLeft{-webkit-animation-name:bounceInLeft;animation-name:bounceInLeft}@-webkit-keyframes bounceInRight{60%,75%,90%,from,to{-webkit-animation-timing-function:cubic-bezier(0.215, 0.610, 0.355, 1.000);animation-timing-function:cubic-bezier(0.215, 0.610, 0.355, 1.000)}from{opacity:0;-webkit-transform:translate3d(3000px, 0, 0);transform:translate3d(3000px, 0, 0)}60%{opacity:1;-webkit-transform:translate3d(-25px, 0, 0);transform:translate3d(-25px, 0, 0)}75%{-webkit-transform:translate3d(10px, 0, 0);transform:translate3d(10px, 0, 0)}90%{-webkit-transform:translate3d(-5px, 0, 0);transform:translate3d(-5px, 0, 0)}to{-webkit-transform:none;transform:none}}@keyframes bounceInRight{60%,75%,90%,from,to{-webkit-animation-timing-function:cubic-bezier(0.215, 0.610, 0.355, 1.000);animation-timing-function:cubic-bezier(0.215, 0.610, 0.355, 1.000)}from{opacity:0;-webkit-transform:translate3d(3000px, 0, 0);transform:translate3d(3000px, 0, 0)}60%{opacity:1;-webkit-transform:translate3d(-25px, 0, 0);transform:translate3d(-25px, 0, 0)}75%{-webkit-transform:translate3d(10px, 0, 0);transform:translate3d(10px, 0, 0)}90%{-webkit-transform:translate3d(-5px, 0, 0);transform:translate3d(-5px, 0, 0)}to{-webkit-transform:none;transform:none}}.bounceInRight{-webkit-animation-name:bounceInRight;animation-name:bounceInRight}@-webkit-keyframes bounceInUp{60%,75%,90%,from,to{-webkit-animation-timing-function:cubic-bezier(0.215, 0.610, 0.355, 1.000);animation-timing-function:cubic-bezier(0.215, 0.610, 0.355, 1.000)}from{opacity:0;-webkit-transform:translate3d(0, 3000px, 0);transform:translate3d(0, 3000px, 0)}60%{opacity:1;-webkit-transform:translate3d(0, -20px, 0);transform:translate3d(0, -20px, 0)}75%{-webkit-transform:translate3d(0, 10px, 0);transform:translate3d(0, 10px, 0)}90%{-webkit-transform:translate3d(0, -5px, 0);transform:translate3d(0, -5px, 0)}to{-webkit-transform:translate3d(0, 0, 0);transform:translate3d(0, 0, 0)}}@keyframes bounceInUp{60%,75%,90%,from,to{-webkit-animation-timing-function:cubic-bezier(0.215, 0.610, 0.355, 1.000);animation-timing-function:cubic-bezier(0.215, 0.610, 0.355, 1.000)}from{opacity:0;-webkit-transform:translate3d(0, 3000px, 0);transform:translate3d(0, 3000px, 0)}60%{opacity:1;-webkit-transform:translate3d(0, -20px, 0);transform:translate3d(0, -20px, 0)}75%{-webkit-transform:translate3d(0, 10px, 0);transform:translate3d(0, 10px, 0)}90%{-webkit-transform:translate3d(0, -5px, 0);transform:translate3d(0, -5px, 0)}to{-webkit-transform:translate3d(0, 0, 0);transform:translate3d(0, 0, 0)}}.bounceInUp{-webkit-animation-name:bounceInUp;animation-name:bounceInUp}@-webkit-keyframes bounceOut{20%{-webkit-transform:scale3d(.9, .9, .9);transform:scale3d(.9, .9, .9)}50%,55%{opacity:1;-webkit-transform:scale3d(1.1, 1.1, 1.1);transform:scale3d(1.1, 1.1, 1.1)}to{opacity:0;-webkit-transform:scale3d(.3, .3, .3);transform:scale3d(.3, .3, .3)}}@keyframes bounceOut{20%{-webkit-transform:scale3d(.9, .9, .9);transform:scale3d(.9, .9, .9)}50%,55%{opacity:1;-webkit-transform:scale3d(1.1, 1.1, 1.1);transform:scale3d(1.1, 1.1, 1.1)}to{opacity:0;-webkit-transform:scale3d(.3, .3, .3);transform:scale3d(.3, .3, .3)}}.bounceOut{-webkit-animation-name:bounceOut;animation-name:bounceOut}@-webkit-keyframes bounceOutDown{20%{-webkit-transform:translate3d(0, 10px, 0);transform:translate3d(0, 10px, 0)}40%,45%{opacity:1;-webkit-transform:translate3d(0, -20px, 0);transform:translate3d(0, -20px, 0)}to{opacity:0;-webkit-transform:translate3d(0, 2000px, 0);transform:translate3d(0, 2000px, 0)}}@keyframes bounceOutDown{20%{-webkit-transform:translate3d(0, 10px, 0);transform:translate3d(0, 10px, 0)}40%,45%{opacity:1;-webkit-transform:translate3d(0, -20px, 0);transform:translate3d(0, -20px, 0)}to{opacity:0;-webkit-transform:translate3d(0, 2000px, 0);transform:translate3d(0, 2000px, 0)}}.bounceOutDown{-webkit-animation-name:bounceOutDown;animation-name:bounceOutDown}@-webkit-keyframes bounceOutLeft{20%{opacity:1;-webkit-transform:translate3d(20px, 0, 0);transform:translate3d(20px, 0, 0)}to{opacity:0;-webkit-transform:translate3d(-2000px, 0, 0);transform:translate3d(-2000px, 0, 0)}}@keyframes bounceOutLeft{20%{opacity:1;-webkit-transform:translate3d(20px, 0, 0);transform:translate3d(20px, 0, 0)}to{opacity:0;-webkit-transform:translate3d(-2000px, 0, 0);transform:translate3d(-2000px, 0, 0)}}.bounceOutLeft{-webkit-animation-name:bounceOutLeft;animation-name:bounceOutLeft}@-webkit-keyframes bounceOutRight{20%{opacity:1;-webkit-transform:translate3d(-20px, 0, 0);transform:translate3d(-20px, 0, 0)}to{opacity:0;-webkit-transform:translate3d(2000px, 0, 0);transform:translate3d(2000px, 0, 0)}}@keyframes bounceOutRight{20%{opacity:1;-webkit-transform:translate3d(-20px, 0, 0);transform:translate3d(-20px, 0, 0)}to{opacity:0;-webkit-transform:translate3d(2000px, 0, 0);transform:translate3d(2000px, 0, 0)}}.bounceOutRight{-webkit-animation-name:bounceOutRight;animation-name:bounceOutRight}@-webkit-keyframes bounceOutUp{20%{-webkit-transform:translate3d(0, -10px, 0);transform:translate3d(0, -10px, 0)}40%,45%{opacity:1;-webkit-transform:translate3d(0, 20px, 0);transform:translate3d(0, 20px, 0)}to{opacity:0;-webkit-transform:translate3d(0, -2000px, 0);transform:translate3d(0, -2000px, 0)}}@keyframes bounceOutUp{20%{-webkit-transform:translate3d(0, -10px, 0);transform:translate3d(0, -10px, 0)}40%,45%{opacity:1;-webkit-transform:translate3d(0, 20px, 0);transform:translate3d(0, 20px, 0)}to{opacity:0;-webkit-transform:translate3d(0, -2000px, 0);transform:translate3d(0, -2000px, 0)}}.bounceOutUp{-webkit-animation-name:bounceOutUp;animation-name:bounceOutUp}@-webkit-keyframes fadeIn{from{opacity:0}to{opacity:1}}@keyframes fadeIn{from{opacity:0}to{opacity:1}}.fadeIn{-webkit-animation-name:fadeIn;animation-name:fadeIn}@-webkit-keyframes fadeInDown{from{opacity:0;-webkit-transform:translate3d(0, -100%, 0);transform:translate3d(0, -100%, 0)}to{opacity:1;-webkit-transform:none;transform:none}}@keyframes fadeInDown{from{opacity:0;-webkit-transform:translate3d(0, -100%, 0);transform:translate3d(0, -100%, 0)}to{opacity:1;-webkit-transform:none;transform:none}}.fadeInDown{-webkit-animation-name:fadeInDown;animation-name:fadeInDown}@-webkit-keyframes fadeInDownBig{from{opacity:0;-webkit-transform:translate3d(0, -2000px, 0);transform:translate3d(0, -2000px, 0)}to{opacity:1;-webkit-transform:none;transform:none}}@keyframes fadeInDownBig{from{opacity:0;-webkit-transform:translate3d(0, -2000px, 0);transform:translate3d(0, -2000px, 0)}to{opacity:1;-webkit-transform:none;transform:none}}.fadeInDownBig{-webkit-animation-name:fadeInDownBig;animation-name:fadeInDownBig}@-webkit-keyframes fadeInLeft{from{opacity:0;-webkit-transform:translate3d(-100%, 0, 0);transform:translate3d(-100%, 0, 0)}to{opacity:1;-webkit-transform:none;transform:none}}@keyframes fadeInLeft{from{opacity:0;-webkit-transform:translate3d(-100%, 0, 0);transform:translate3d(-100%, 0, 0)}to{opacity:1;-webkit-transform:none;transform:none}}.fadeInLeft{-webkit-animation-name:fadeInLeft;animation-name:fadeInLeft}@-webkit-keyframes fadeInLeftBig{from{opacity:0;-webkit-transform:translate3d(-2000px, 0, 0);transform:translate3d(-2000px, 0, 0)}to{opacity:1;-webkit-transform:none;transform:none}}@keyframes fadeInLeftBig{from{opacity:0;-webkit-transform:translate3d(-2000px, 0, 0);transform:translate3d(-2000px, 0, 0)}to{opacity:1;-webkit-transform:none;transform:none}}.fadeInLeftBig{-webkit-animation-name:fadeInLeftBig;animation-name:fadeInLeftBig}@-webkit-keyframes fadeInRight{from{opacity:0;-webkit-transform:translate3d(100%, 0, 0);transform:translate3d(100%, 0, 0)}to{opacity:1;-webkit-transform:none;transform:none}}@keyframes fadeInRight{from{opacity:0;-webkit-transform:translate3d(100%, 0, 0);transform:translate3d(100%, 0, 0)}to{opacity:1;-webkit-transform:none;transform:none}}.fadeInRight{-webkit-animation-name:fadeInRight;animation-name:fadeInRight}@-webkit-keyframes fadeInRightBig{from{opacity:0;-webkit-transform:translate3d(2000px, 0, 0);transform:translate3d(2000px, 0, 0)}to{opacity:1;-webkit-transform:none;transform:none}}@keyframes fadeInRightBig{from{opacity:0;-webkit-transform:translate3d(2000px, 0, 0);transform:translate3d(2000px, 0, 0)}to{opacity:1;-webkit-transform:none;transform:none}}.fadeInRightBig{-webkit-animation-name:fadeInRightBig;animation-name:fadeInRightBig}@-webkit-keyframes fadeInUp{from{opacity:0;-webkit-transform:translate3d(0, 100%, 0);transform:translate3d(0, 100%, 0)}to{opacity:1;-webkit-transform:none;transform:none}}@keyframes fadeInUp{from{opacity:0;-webkit-transform:translate3d(0, 100%, 0);transform:translate3d(0, 100%, 0)}to{opacity:1;-webkit-transform:none;transform:none}}.fadeInUp{-webkit-animation-name:fadeInUp;animation-name:fadeInUp}@-webkit-keyframes fadeInUpBig{from{opacity:0;-webkit-transform:translate3d(0, 2000px, 0);transform:translate3d(0, 2000px, 0)}to{opacity:1;-webkit-transform:none;transform:none}}@keyframes fadeInUpBig{from{opacity:0;-webkit-transform:translate3d(0, 2000px, 0);transform:translate3d(0, 2000px, 0)}to{opacity:1;-webkit-transform:none;transform:none}}.fadeInUpBig{-webkit-animation-name:fadeInUpBig;animation-name:fadeInUpBig}@-webkit-keyframes fadeOut{from{opacity:1}to{opacity:0}}@keyframes fadeOut{from{opacity:1}to{opacity:0}}.fadeOut{-webkit-animation-name:fadeOut;animation-name:fadeOut}@-webkit-keyframes fadeOutDown{from{opacity:1}to{opacity:0;-webkit-transform:translate3d(0, 100%, 0);transform:translate3d(0, 100%, 0)}}@keyframes fadeOutDown{from{opacity:1}to{opacity:0;-webkit-transform:translate3d(0, 100%, 0);transform:translate3d(0, 100%, 0)}}.fadeOutDown{-webkit-animation-name:fadeOutDown;animation-name:fadeOutDown}@-webkit-keyframes fadeOutDownBig{from{opacity:1}to{opacity:0;-webkit-transform:translate3d(0, 2000px, 0);transform:translate3d(0, 2000px, 0)}}@keyframes fadeOutDownBig{from{opacity:1}to{opacity:0;-webkit-transform:translate3d(0, 2000px, 0);transform:translate3d(0, 2000px, 0)}}.fadeOutDownBig{-webkit-animation-name:fadeOutDownBig;animation-name:fadeOutDownBig}@-webkit-keyframes fadeOutLeft{from{opacity:1}to{opacity:0;-webkit-transform:translate3d(-100%, 0, 0);transform:translate3d(-100%, 0, 0)}}@keyframes fadeOutLeft{from{opacity:1}to{opacity:0;-webkit-transform:translate3d(-100%, 0, 0);transform:translate3d(-100%, 0, 0)}}.fadeOutLeft{-webkit-animation-name:fadeOutLeft;animation-name:fadeOutLeft}@-webkit-keyframes fadeOutLeftBig{from{opacity:1}to{opacity:0;-webkit-transform:translate3d(-2000px, 0, 0);transform:translate3d(-2000px, 0, 0)}}@keyframes fadeOutLeftBig{from{opacity:1}to{opacity:0;-webkit-transform:translate3d(-2000px, 0, 0);transform:translate3d(-2000px, 0, 0)}}.fadeOutLeftBig{-webkit-animation-name:fadeOutLeftBig;animation-name:fadeOutLeftBig}@-webkit-keyframes fadeOutRight{from{opacity:1}to{opacity:0;-webkit-transform:translate3d(100%, 0, 0);transform:translate3d(100%, 0, 0)}}@keyframes fadeOutRight{from{opacity:1}to{opacity:0;-webkit-transform:translate3d(100%, 0, 0);transform:translate3d(100%, 0, 0)}}.fadeOutRight{-webkit-animation-name:fadeOutRight;animation-name:fadeOutRight}@-webkit-keyframes fadeOutRightBig{from{opacity:1}to{opacity:0;-webkit-transform:translate3d(2000px, 0, 0);transform:translate3d(2000px, 0, 0)}}@keyframes fadeOutRightBig{from{opacity:1}to{opacity:0;-webkit-transform:translate3d(2000px, 0, 0);transform:translate3d(2000px, 0, 0)}}.fadeOutRightBig{-webkit-animation-name:fadeOutRightBig;animation-name:fadeOutRightBig}@-webkit-keyframes fadeOutUp{from{opacity:1}to{opacity:0;-webkit-transform:translate3d(0, -100%, 0);transform:translate3d(0, -100%, 0)}}@keyframes fadeOutUp{from{opacity:1}to{opacity:0;-webkit-transform:translate3d(0, -100%, 0);transform:translate3d(0, -100%, 0)}}.fadeOutUp{-webkit-animation-name:fadeOutUp;animation-name:fadeOutUp}@-webkit-keyframes fadeOutUpBig{from{opacity:1}to{opacity:0;-webkit-transform:translate3d(0, -2000px, 0);transform:translate3d(0, -2000px, 0)}}@keyframes fadeOutUpBig{from{opacity:1}to{opacity:0;-webkit-transform:translate3d(0, -2000px, 0);transform:translate3d(0, -2000px, 0)}}.fadeOutUpBig{-webkit-animation-name:fadeOutUpBig;animation-name:fadeOutUpBig}@-webkit-keyframes flip{from{-webkit-transform:perspective(400px) rotate3d(0, 1, 0, -360deg);transform:perspective(400px) rotate3d(0, 1, 0, -360deg);-webkit-animation-timing-function:ease-out;animation-timing-function:ease-out}40%{-webkit-transform:perspective(400px) translate3d(0, 0, 150px) rotate3d(0, 1, 0, -190deg);transform:perspective(400px) translate3d(0, 0, 150px) rotate3d(0, 1, 0, -190deg);-webkit-animation-timing-function:ease-out;animation-timing-function:ease-out}50%{-webkit-transform:perspective(400px) translate3d(0, 0, 150px) rotate3d(0, 1, 0, -170deg);transform:perspective(400px) translate3d(0, 0, 150px) rotate3d(0, 1, 0, -170deg);-webkit-animation-timing-function:ease-in;animation-timing-function:ease-in}80%{-webkit-transform:perspective(400px) scale3d(.95, .95, .95);transform:perspective(400px) scale3d(.95, .95, .95);-webkit-animation-timing-function:ease-in;animation-timing-function:ease-in}to{-webkit-transform:perspective(400px);transform:perspective(400px);-webkit-animation-timing-function:ease-in;animation-timing-function:ease-in}}@keyframes flip{from{-webkit-transform:perspective(400px) rotate3d(0, 1, 0, -360deg);transform:perspective(400px) rotate3d(0, 1, 0, -360deg);-webkit-animation-timing-function:ease-out;animation-timing-function:ease-out}40%{-webkit-transform:perspective(400px) translate3d(0, 0, 150px) rotate3d(0, 1, 0, -190deg);transform:perspective(400px) translate3d(0, 0, 150px) rotate3d(0, 1, 0, -190deg);-webkit-animation-timing-function:ease-out;animation-timing-function:ease-out}50%{-webkit-transform:perspective(400px) translate3d(0, 0, 150px) rotate3d(0, 1, 0, -170deg);transform:perspective(400px) translate3d(0, 0, 150px) rotate3d(0, 1, 0, -170deg);-webkit-animation-timing-function:ease-in;animation-timing-function:ease-in}80%{-webkit-transform:perspective(400px) scale3d(.95, .95, .95);transform:perspective(400px) scale3d(.95, .95, .95);-webkit-animation-timing-function:ease-in;animation-timing-function:ease-in}to{-webkit-transform:perspective(400px);transform:perspective(400px);-webkit-animation-timing-function:ease-in;animation-timing-function:ease-in}}.animated.flip{-webkit-backface-visibility:visible;backface-visibility:visible;-webkit-animation-name:flip;animation-name:flip}@-webkit-keyframes flipInX{from{-webkit-transform:perspective(400px) rotate3d(1, 0, 0, 90deg);transform:perspective(400px) rotate3d(1, 0, 0, 90deg);-webkit-animation-timing-function:ease-in;animation-timing-function:ease-in;opacity:0}40%{-webkit-transform:perspective(400px) rotate3d(1, 0, 0, -20deg);transform:perspective(400px) rotate3d(1, 0, 0, -20deg);-webkit-animation-timing-function:ease-in;animation-timing-function:ease-in}60%{-webkit-transform:perspective(400px) rotate3d(1, 0, 0, 10deg);transform:perspective(400px) rotate3d(1, 0, 0, 10deg);opacity:1}80%{-webkit-transform:perspective(400px) rotate3d(1, 0, 0, -5deg);transform:perspective(400px) rotate3d(1, 0, 0, -5deg)}to{-webkit-transform:perspective(400px);transform:perspective(400px)}}@keyframes flipInX{from{-webkit-transform:perspective(400px) rotate3d(1, 0, 0, 90deg);transform:perspective(400px) rotate3d(1, 0, 0, 90deg);-webkit-animation-timing-function:ease-in;animation-timing-function:ease-in;opacity:0}40%{-webkit-transform:perspective(400px) rotate3d(1, 0, 0, -20deg);transform:perspective(400px) rotate3d(1, 0, 0, -20deg);-webkit-animation-timing-function:ease-in;animation-timing-function:ease-in}60%{-webkit-transform:perspective(400px) rotate3d(1, 0, 0, 10deg);transform:perspective(400px) rotate3d(1, 0, 0, 10deg);opacity:1}80%{-webkit-transform:perspective(400px) rotate3d(1, 0, 0, -5deg);transform:perspective(400px) rotate3d(1, 0, 0, -5deg)}to{-webkit-transform:perspective(400px);transform:perspective(400px)}}.flipInX{-webkit-backface-visibility:visible !important;backface-visibility:visible !important;-webkit-animation-name:flipInX;animation-name:flipInX}@-webkit-keyframes flipInY{from{-webkit-transform:perspective(400px) rotate3d(0, 1, 0, 90deg);transform:perspective(400px) rotate3d(0, 1, 0, 90deg);-webkit-animation-timing-function:ease-in;animation-timing-function:ease-in;opacity:0}40%{-webkit-transform:perspective(400px) rotate3d(0, 1, 0, -20deg);transform:perspective(400px) rotate3d(0, 1, 0, -20deg);-webkit-animation-timing-function:ease-in;animation-timing-function:ease-in}60%{-webkit-transform:perspective(400px) rotate3d(0, 1, 0, 10deg);transform:perspective(400px) rotate3d(0, 1, 0, 10deg);opacity:1}80%{-webkit-transform:perspective(400px) rotate3d(0, 1, 0, -5deg);transform:perspective(400px) rotate3d(0, 1, 0, -5deg)}to{-webkit-transform:perspective(400px);transform:perspective(400px)}}@keyframes flipInY{from{-webkit-transform:perspective(400px) rotate3d(0, 1, 0, 90deg);transform:perspective(400px) rotate3d(0, 1, 0, 90deg);-webkit-animation-timing-function:ease-in;animation-timing-function:ease-in;opacity:0}40%{-webkit-transform:perspective(400px) rotate3d(0, 1, 0, -20deg);transform:perspective(400px) rotate3d(0, 1, 0, -20deg);-webkit-animation-timing-function:ease-in;animation-timing-function:ease-in}60%{-webkit-transform:perspective(400px) rotate3d(0, 1, 0, 10deg);transform:perspective(400px) rotate3d(0, 1, 0, 10deg);opacity:1}80%{-webkit-transform:perspective(400px) rotate3d(0, 1, 0, -5deg);transform:perspective(400px) rotate3d(0, 1, 0, -5deg)}to{-webkit-transform:perspective(400px);transform:perspective(400px)}}.flipInY{-webkit-backface-visibility:visible !important;backface-visibility:visible !important;-webkit-animation-name:flipInY;animation-name:flipInY}@-webkit-keyframes flipOutX{from{-webkit-transform:perspective(400px);transform:perspective(400px)}30%{-webkit-transform:perspective(400px) rotate3d(1, 0, 0, -20deg);transform:perspective(400px) rotate3d(1, 0, 0, -20deg);opacity:1}to{-webkit-transform:perspective(400px) rotate3d(1, 0, 0, 90deg);transform:perspective(400px) rotate3d(1, 0, 0, 90deg);opacity:0}}@keyframes flipOutX{from{-webkit-transform:perspective(400px);transform:perspective(400px)}30%{-webkit-transform:perspective(400px) rotate3d(1, 0, 0, -20deg);transform:perspective(400px) rotate3d(1, 0, 0, -20deg);opacity:1}to{-webkit-transform:perspective(400px) rotate3d(1, 0, 0, 90deg);transform:perspective(400px) rotate3d(1, 0, 0, 90deg);opacity:0}}.flipOutX{-webkit-animation-name:flipOutX;animation-name:flipOutX;-webkit-backface-visibility:visible !important;backface-visibility:visible !important}@-webkit-keyframes flipOutY{from{-webkit-transform:perspective(400px);transform:perspective(400px)}30%{-webkit-transform:perspective(400px) rotate3d(0, 1, 0, -15deg);transform:perspective(400px) rotate3d(0, 1, 0, -15deg);opacity:1}to{-webkit-transform:perspective(400px) rotate3d(0, 1, 0, 90deg);transform:perspective(400px) rotate3d(0, 1, 0, 90deg);opacity:0}}@keyframes flipOutY{from{-webkit-transform:perspective(400px);transform:perspective(400px)}30%{-webkit-transform:perspective(400px) rotate3d(0, 1, 0, -15deg);transform:perspective(400px) rotate3d(0, 1, 0, -15deg);opacity:1}to{-webkit-transform:perspective(400px) rotate3d(0, 1, 0, 90deg);transform:perspective(400px) rotate3d(0, 1, 0, 90deg);opacity:0}}.flipOutY{-webkit-backface-visibility:visible !important;backface-visibility:visible !important;-webkit-animation-name:flipOutY;animation-name:flipOutY}@-webkit-keyframes lightSpeedIn{from{-webkit-transform:translate3d(100%, 0, 0) skewX(-30deg);transform:translate3d(100%, 0, 0) skewX(-30deg);opacity:0}60%{-webkit-transform:skewX(20deg);transform:skewX(20deg);opacity:1}80%{-webkit-transform:skewX(-5deg);transform:skewX(-5deg);opacity:1}to{-webkit-transform:none;transform:none;opacity:1}}@keyframes lightSpeedIn{from{-webkit-transform:translate3d(100%, 0, 0) skewX(-30deg);transform:translate3d(100%, 0, 0) skewX(-30deg);opacity:0}60%{-webkit-transform:skewX(20deg);transform:skewX(20deg);opacity:1}80%{-webkit-transform:skewX(-5deg);transform:skewX(-5deg);opacity:1}to{-webkit-transform:none;transform:none;opacity:1}}.lightSpeedIn{-webkit-animation-name:lightSpeedIn;animation-name:lightSpeedIn;-webkit-animation-timing-function:ease-out;animation-timing-function:ease-out}@-webkit-keyframes lightSpeedOut{from{opacity:1}to{-webkit-transform:translate3d(100%, 0, 0) skewX(30deg);transform:translate3d(100%, 0, 0) skewX(30deg);opacity:0}}@keyframes lightSpeedOut{from{opacity:1}to{-webkit-transform:translate3d(100%, 0, 0) skewX(30deg);transform:translate3d(100%, 0, 0) skewX(30deg);opacity:0}}.lightSpeedOut{-webkit-animation-name:lightSpeedOut;animation-name:lightSpeedOut;-webkit-animation-timing-function:ease-in;animation-timing-function:ease-in}@-webkit-keyframes rotateIn{from{-webkit-transform-origin:center;transform-origin:center;-webkit-transform:rotate3d(0, 0, 1, -200deg);transform:rotate3d(0, 0, 1, -200deg);opacity:0}to{-webkit-transform-origin:center;transform-origin:center;-webkit-transform:none;transform:none;opacity:1}}@keyframes rotateIn{from{-webkit-transform-origin:center;transform-origin:center;-webkit-transform:rotate3d(0, 0, 1, -200deg);transform:rotate3d(0, 0, 1, -200deg);opacity:0}to{-webkit-transform-origin:center;transform-origin:center;-webkit-transform:none;transform:none;opacity:1}}.rotateIn{-webkit-animation-name:rotateIn;animation-name:rotateIn}@-webkit-keyframes rotateInDownLeft{from{-webkit-transform-origin:left bottom;transform-origin:left bottom;-webkit-transform:rotate3d(0, 0, 1, -45deg);transform:rotate3d(0, 0, 1, -45deg);opacity:0}to{-webkit-transform-origin:left bottom;transform-origin:left bottom;-webkit-transform:none;transform:none;opacity:1}}@keyframes rotateInDownLeft{from{-webkit-transform-origin:left bottom;transform-origin:left bottom;-webkit-transform:rotate3d(0, 0, 1, -45deg);transform:rotate3d(0, 0, 1, -45deg);opacity:0}to{-webkit-transform-origin:left bottom;transform-origin:left bottom;-webkit-transform:none;transform:none;opacity:1}}.rotateInDownLeft{-webkit-animation-name:rotateInDownLeft;animation-name:rotateInDownLeft}@-webkit-keyframes rotateInDownRight{from{-webkit-transform-origin:right bottom;transform-origin:right bottom;-webkit-transform:rotate3d(0, 0, 1, 45deg);transform:rotate3d(0, 0, 1, 45deg);opacity:0}to{-webkit-transform-origin:right bottom;transform-origin:right bottom;-webkit-transform:none;transform:none;opacity:1}}@keyframes rotateInDownRight{from{-webkit-transform-origin:right bottom;transform-origin:right bottom;-webkit-transform:rotate3d(0, 0, 1, 45deg);transform:rotate3d(0, 0, 1, 45deg);opacity:0}to{-webkit-transform-origin:right bottom;transform-origin:right bottom;-webkit-transform:none;transform:none;opacity:1}}.rotateInDownRight{-webkit-animation-name:rotateInDownRight;animation-name:rotateInDownRight}@-webkit-keyframes rotateInUpLeft{from{-webkit-transform-origin:left bottom;transform-origin:left bottom;-webkit-transform:rotate3d(0, 0, 1, 45deg);transform:rotate3d(0, 0, 1, 45deg);opacity:0}to{-webkit-transform-origin:left bottom;transform-origin:left bottom;-webkit-transform:none;transform:none;opacity:1}}@keyframes rotateInUpLeft{from{-webkit-transform-origin:left bottom;transform-origin:left bottom;-webkit-transform:rotate3d(0, 0, 1, 45deg);transform:rotate3d(0, 0, 1, 45deg);opacity:0}to{-webkit-transform-origin:left bottom;transform-origin:left bottom;-webkit-transform:none;transform:none;opacity:1}}.rotateInUpLeft{-webkit-animation-name:rotateInUpLeft;animation-name:rotateInUpLeft}@-webkit-keyframes rotateInUpRight{from{-webkit-transform-origin:right bottom;transform-origin:right bottom;-webkit-transform:rotate3d(0, 0, 1, -90deg);transform:rotate3d(0, 0, 1, -90deg);opacity:0}to{-webkit-transform-origin:right bottom;transform-origin:right bottom;-webkit-transform:none;transform:none;opacity:1}}@keyframes rotateInUpRight{from{-webkit-transform-origin:right bottom;transform-origin:right bottom;-webkit-transform:rotate3d(0, 0, 1, -90deg);transform:rotate3d(0, 0, 1, -90deg);opacity:0}to{-webkit-transform-origin:right bottom;transform-origin:right bottom;-webkit-transform:none;transform:none;opacity:1}}.rotateInUpRight{-webkit-animation-name:rotateInUpRight;animation-name:rotateInUpRight}@-webkit-keyframes rotateOut{from{-webkit-transform-origin:center;transform-origin:center;opacity:1}to{-webkit-transform-origin:center;transform-origin:center;-webkit-transform:rotate3d(0, 0, 1, 200deg);transform:rotate3d(0, 0, 1, 200deg);opacity:0}}@keyframes rotateOut{from{-webkit-transform-origin:center;transform-origin:center;opacity:1}to{-webkit-transform-origin:center;transform-origin:center;-webkit-transform:rotate3d(0, 0, 1, 200deg);transform:rotate3d(0, 0, 1, 200deg);opacity:0}}.rotateOut{-webkit-animation-name:rotateOut;animation-name:rotateOut}@-webkit-keyframes rotateOutDownLeft{from{-webkit-transform-origin:left bottom;transform-origin:left bottom;opacity:1}to{-webkit-transform-origin:left bottom;transform-origin:left bottom;-webkit-transform:rotate3d(0, 0, 1, 45deg);transform:rotate3d(0, 0, 1, 45deg);opacity:0}}@keyframes rotateOutDownLeft{from{-webkit-transform-origin:left bottom;transform-origin:left bottom;opacity:1}to{-webkit-transform-origin:left bottom;transform-origin:left bottom;-webkit-transform:rotate3d(0, 0, 1, 45deg);transform:rotate3d(0, 0, 1, 45deg);opacity:0}}.rotateOutDownLeft{-webkit-animation-name:rotateOutDownLeft;animation-name:rotateOutDownLeft}@-webkit-keyframes rotateOutDownRight{from{-webkit-transform-origin:right bottom;transform-origin:right bottom;opacity:1}to{-webkit-transform-origin:right bottom;transform-origin:right bottom;-webkit-transform:rotate3d(0, 0, 1, -45deg);transform:rotate3d(0, 0, 1, -45deg);opacity:0}}@keyframes rotateOutDownRight{from{-webkit-transform-origin:right bottom;transform-origin:right bottom;opacity:1}to{-webkit-transform-origin:right bottom;transform-origin:right bottom;-webkit-transform:rotate3d(0, 0, 1, -45deg);transform:rotate3d(0, 0, 1, -45deg);opacity:0}}.rotateOutDownRight{-webkit-animation-name:rotateOutDownRight;animation-name:rotateOutDownRight}@-webkit-keyframes rotateOutUpLeft{from{-webkit-transform-origin:left bottom;transform-origin:left bottom;opacity:1}to{-webkit-transform-origin:left bottom;transform-origin:left bottom;-webkit-transform:rotate3d(0, 0, 1, -45deg);transform:rotate3d(0, 0, 1, -45deg);opacity:0}}@keyframes rotateOutUpLeft{from{-webkit-transform-origin:left bottom;transform-origin:left bottom;opacity:1}to{-webkit-transform-origin:left bottom;transform-origin:left bottom;-webkit-transform:rotate3d(0, 0, 1, -45deg);transform:rotate3d(0, 0, 1, -45deg);opacity:0}}.rotateOutUpLeft{-webkit-animation-name:rotateOutUpLeft;animation-name:rotateOutUpLeft}@-webkit-keyframes rotateOutUpRight{from{-webkit-transform-origin:right bottom;transform-origin:right bottom;opacity:1}to{-webkit-transform-origin:right bottom;transform-origin:right bottom;-webkit-transform:rotate3d(0, 0, 1, 90deg);transform:rotate3d(0, 0, 1, 90deg);opacity:0}}@keyframes rotateOutUpRight{from{-webkit-transform-origin:right bottom;transform-origin:right bottom;opacity:1}to{-webkit-transform-origin:right bottom;transform-origin:right bottom;-webkit-transform:rotate3d(0, 0, 1, 90deg);transform:rotate3d(0, 0, 1, 90deg);opacity:0}}.rotateOutUpRight{-webkit-animation-name:rotateOutUpRight;animation-name:rotateOutUpRight}@-webkit-keyframes hinge{0%{-webkit-transform-origin:top left;transform-origin:top left;-webkit-animation-timing-function:ease-in-out;animation-timing-function:ease-in-out}20%,60%{-webkit-transform:rotate3d(0, 0, 1, 80deg);transform:rotate3d(0, 0, 1, 80deg);-webkit-transform-origin:top left;transform-origin:top left;-webkit-animation-timing-function:ease-in-out;animation-timing-function:ease-in-out}40%,80%{-webkit-transform:rotate3d(0, 0, 1, 60deg);transform:rotate3d(0, 0, 1, 60deg);-webkit-transform-origin:top left;transform-origin:top left;-webkit-animation-timing-function:ease-in-out;animation-timing-function:ease-in-out;opacity:1}to{-webkit-transform:translate3d(0, 700px, 0);transform:translate3d(0, 700px, 0);opacity:0}}@keyframes hinge{0%{-webkit-transform-origin:top left;transform-origin:top left;-webkit-animation-timing-function:ease-in-out;animation-timing-function:ease-in-out}20%,60%{-webkit-transform:rotate3d(0, 0, 1, 80deg);transform:rotate3d(0, 0, 1, 80deg);-webkit-transform-origin:top left;transform-origin:top left;-webkit-animation-timing-function:ease-in-out;animation-timing-function:ease-in-out}40%,80%{-webkit-transform:rotate3d(0, 0, 1, 60deg);transform:rotate3d(0, 0, 1, 60deg);-webkit-transform-origin:top left;transform-origin:top left;-webkit-animation-timing-function:ease-in-out;animation-timing-function:ease-in-out;opacity:1}to{-webkit-transform:translate3d(0, 700px, 0);transform:translate3d(0, 700px, 0);opacity:0}}.hinge{-webkit-animation-name:hinge;animation-name:hinge}@-webkit-keyframes rollIn{from{opacity:0;-webkit-transform:translate3d(-100%, 0, 0) rotate3d(0, 0, 1, -120deg);transform:translate3d(-100%, 0, 0) rotate3d(0, 0, 1, -120deg)}to{opacity:1;-webkit-transform:none;transform:none}}@keyframes rollIn{from{opacity:0;-webkit-transform:translate3d(-100%, 0, 0) rotate3d(0, 0, 1, -120deg);transform:translate3d(-100%, 0, 0) rotate3d(0, 0, 1, -120deg)}to{opacity:1;-webkit-transform:none;transform:none}}.rollIn{-webkit-animation-name:rollIn;animation-name:rollIn}@-webkit-keyframes rollOut{from{opacity:1}to{opacity:0;-webkit-transform:translate3d(100%, 0, 0) rotate3d(0, 0, 1, 120deg);transform:translate3d(100%, 0, 0) rotate3d(0, 0, 1, 120deg)}}@keyframes rollOut{from{opacity:1}to{opacity:0;-webkit-transform:translate3d(100%, 0, 0) rotate3d(0, 0, 1, 120deg);transform:translate3d(100%, 0, 0) rotate3d(0, 0, 1, 120deg)}}.rollOut{-webkit-animation-name:rollOut;animation-name:rollOut}@-webkit-keyframes zoomIn{from{opacity:0;-webkit-transform:scale3d(.3, .3, .3);transform:scale3d(.3, .3, .3)}50%{opacity:1}}@keyframes zoomIn{from{opacity:0;-webkit-transform:scale3d(.3, .3, .3);transform:scale3d(.3, .3, .3)}50%{opacity:1}}.zoomIn{-webkit-animation-name:zoomIn;animation-name:zoomIn}@-webkit-keyframes zoomInDown{from{opacity:0;-webkit-transform:scale3d(.1, .1, .1) translate3d(0, -1000px, 0);transform:scale3d(.1, .1, .1) translate3d(0, -1000px, 0);-webkit-animation-timing-function:cubic-bezier(0.550, 0.055, 0.675, 0.190);animation-timing-function:cubic-bezier(0.550, 0.055, 0.675, 0.190)}60%{opacity:1;-webkit-transform:scale3d(.475, .475, .475) translate3d(0, 60px, 0);transform:scale3d(.475, .475, .475) translate3d(0, 60px, 0);-webkit-animation-timing-function:cubic-bezier(0.175, 0.885, 0.320, 1);animation-timing-function:cubic-bezier(0.175, 0.885, 0.320, 1)}}@keyframes zoomInDown{from{opacity:0;-webkit-transform:scale3d(.1, .1, .1) translate3d(0, -1000px, 0);transform:scale3d(.1, .1, .1) translate3d(0, -1000px, 0);-webkit-animation-timing-function:cubic-bezier(0.550, 0.055, 0.675, 0.190);animation-timing-function:cubic-bezier(0.550, 0.055, 0.675, 0.190)}60%{opacity:1;-webkit-transform:scale3d(.475, .475, .475) translate3d(0, 60px, 0);transform:scale3d(.475, .475, .475) translate3d(0, 60px, 0);-webkit-animation-timing-function:cubic-bezier(0.175, 0.885, 0.320, 1);animation-timing-function:cubic-bezier(0.175, 0.885, 0.320, 1)}}.zoomInDown{-webkit-animation-name:zoomInDown;animation-name:zoomInDown}@-webkit-keyframes zoomInLeft{from{opacity:0;-webkit-transform:scale3d(.1, .1, .1) translate3d(-1000px, 0, 0);transform:scale3d(.1, .1, .1) translate3d(-1000px, 0, 0);-webkit-animation-timing-function:cubic-bezier(0.550, 0.055, 0.675, 0.190);animation-timing-function:cubic-bezier(0.550, 0.055, 0.675, 0.190)}60%{opacity:1;-webkit-transform:scale3d(.475, .475, .475) translate3d(10px, 0, 0);transform:scale3d(.475, .475, .475) translate3d(10px, 0, 0);-webkit-animation-timing-function:cubic-bezier(0.175, 0.885, 0.320, 1);animation-timing-function:cubic-bezier(0.175, 0.885, 0.320, 1)}}@keyframes zoomInLeft{from{opacity:0;-webkit-transform:scale3d(.1, .1, .1) translate3d(-1000px, 0, 0);transform:scale3d(.1, .1, .1) translate3d(-1000px, 0, 0);-webkit-animation-timing-function:cubic-bezier(0.550, 0.055, 0.675, 0.190);animation-timing-function:cubic-bezier(0.550, 0.055, 0.675, 0.190)}60%{opacity:1;-webkit-transform:scale3d(.475, .475, .475) translate3d(10px, 0, 0);transform:scale3d(.475, .475, .475) translate3d(10px, 0, 0);-webkit-animation-timing-function:cubic-bezier(0.175, 0.885, 0.320, 1);animation-timing-function:cubic-bezier(0.175, 0.885, 0.320, 1)}}.zoomInLeft{-webkit-animation-name:zoomInLeft;animation-name:zoomInLeft}@-webkit-keyframes zoomInRight{from{opacity:0;-webkit-transform:scale3d(.1, .1, .1) translate3d(1000px, 0, 0);transform:scale3d(.1, .1, .1) translate3d(1000px, 0, 0);-webkit-animation-timing-function:cubic-bezier(0.550, 0.055, 0.675, 0.190);animation-timing-function:cubic-bezier(0.550, 0.055, 0.675, 0.190)}60%{opacity:1;-webkit-transform:scale3d(.475, .475, .475) translate3d(-10px, 0, 0);transform:scale3d(.475, .475, .475) translate3d(-10px, 0, 0);-webkit-animation-timing-function:cubic-bezier(0.175, 0.885, 0.320, 1);animation-timing-function:cubic-bezier(0.175, 0.885, 0.320, 1)}}@keyframes zoomInRight{from{opacity:0;-webkit-transform:scale3d(.1, .1, .1) translate3d(1000px, 0, 0);transform:scale3d(.1, .1, .1) translate3d(1000px, 0, 0);-webkit-animation-timing-function:cubic-bezier(0.550, 0.055, 0.675, 0.190);animation-timing-function:cubic-bezier(0.550, 0.055, 0.675, 0.190)}60%{opacity:1;-webkit-transform:scale3d(.475, .475, .475) translate3d(-10px, 0, 0);transform:scale3d(.475, .475, .475) translate3d(-10px, 0, 0);-webkit-animation-timing-function:cubic-bezier(0.175, 0.885, 0.320, 1);animation-timing-function:cubic-bezier(0.175, 0.885, 0.320, 1)}}.zoomInRight{-webkit-animation-name:zoomInRight;animation-name:zoomInRight}@-webkit-keyframes zoomInUp{from{opacity:0;-webkit-transform:scale3d(.1, .1, .1) translate3d(0, 1000px, 0);transform:scale3d(.1, .1, .1) translate3d(0, 1000px, 0);-webkit-animation-timing-function:cubic-bezier(0.550, 0.055, 0.675, 0.190);animation-timing-function:cubic-bezier(0.550, 0.055, 0.675, 0.190)}60%{opacity:1;-webkit-transform:scale3d(.475, .475, .475) translate3d(0, -60px, 0);transform:scale3d(.475, .475, .475) translate3d(0, -60px, 0);-webkit-animation-timing-function:cubic-bezier(0.175, 0.885, 0.320, 1);animation-timing-function:cubic-bezier(0.175, 0.885, 0.320, 1)}}@keyframes zoomInUp{from{opacity:0;-webkit-transform:scale3d(.1, .1, .1) translate3d(0, 1000px, 0);transform:scale3d(.1, .1, .1) translate3d(0, 1000px, 0);-webkit-animation-timing-function:cubic-bezier(0.550, 0.055, 0.675, 0.190);animation-timing-function:cubic-bezier(0.550, 0.055, 0.675, 0.190)}60%{opacity:1;-webkit-transform:scale3d(.475, .475, .475) translate3d(0, -60px, 0);transform:scale3d(.475, .475, .475) translate3d(0, -60px, 0);-webkit-animation-timing-function:cubic-bezier(0.175, 0.885, 0.320, 1);animation-timing-function:cubic-bezier(0.175, 0.885, 0.320, 1)}}.zoomInUp{-webkit-animation-name:zoomInUp;animation-name:zoomInUp}@-webkit-keyframes zoomOut{from{opacity:1}50%{opacity:0;-webkit-transform:scale3d(.3, .3, .3);transform:scale3d(.3, .3, .3)}to{opacity:0}}@keyframes zoomOut{from{opacity:1}50%{opacity:0;-webkit-transform:scale3d(.3, .3, .3);transform:scale3d(.3, .3, .3)}to{opacity:0}}.zoomOut{-webkit-animation-name:zoomOut;animation-name:zoomOut}@-webkit-keyframes zoomOutDown{40%{opacity:1;-webkit-transform:scale3d(.475, .475, .475) translate3d(0, -60px, 0);transform:scale3d(.475, .475, .475) translate3d(0, -60px, 0);-webkit-animation-timing-function:cubic-bezier(0.550, 0.055, 0.675, 0.190);animation-timing-function:cubic-bezier(0.550, 0.055, 0.675, 0.190)}to{opacity:0;-webkit-transform:scale3d(.1, .1, .1) translate3d(0, 2000px, 0);transform:scale3d(.1, .1, .1) translate3d(0, 2000px, 0);-webkit-transform-origin:center bottom;transform-origin:center bottom;-webkit-animation-timing-function:cubic-bezier(0.175, 0.885, 0.320, 1);animation-timing-function:cubic-bezier(0.175, 0.885, 0.320, 1)}}@keyframes zoomOutDown{40%{opacity:1;-webkit-transform:scale3d(.475, .475, .475) translate3d(0, -60px, 0);transform:scale3d(.475, .475, .475) translate3d(0, -60px, 0);-webkit-animation-timing-function:cubic-bezier(0.550, 0.055, 0.675, 0.190);animation-timing-function:cubic-bezier(0.550, 0.055, 0.675, 0.190)}to{opacity:0;-webkit-transform:scale3d(.1, .1, .1) translate3d(0, 2000px, 0);transform:scale3d(.1, .1, .1) translate3d(0, 2000px, 0);-webkit-transform-origin:center bottom;transform-origin:center bottom;-webkit-animation-timing-function:cubic-bezier(0.175, 0.885, 0.320, 1);animation-timing-function:cubic-bezier(0.175, 0.885, 0.320, 1)}}.zoomOutDown{-webkit-animation-name:zoomOutDown;animation-name:zoomOutDown}@-webkit-keyframes zoomOutLeft{40%{opacity:1;-webkit-transform:scale3d(.475, .475, .475) translate3d(42px, 0, 0);transform:scale3d(.475, .475, .475) translate3d(42px, 0, 0)}to{opacity:0;-webkit-transform:scale(.1) translate3d(-2000px, 0, 0);transform:scale(.1) translate3d(-2000px, 0, 0);-webkit-transform-origin:left center;transform-origin:left center}}@keyframes zoomOutLeft{40%{opacity:1;-webkit-transform:scale3d(.475, .475, .475) translate3d(42px, 0, 0);transform:scale3d(.475, .475, .475) translate3d(42px, 0, 0)}to{opacity:0;-webkit-transform:scale(.1) translate3d(-2000px, 0, 0);transform:scale(.1) translate3d(-2000px, 0, 0);-webkit-transform-origin:left center;transform-origin:left center}}.zoomOutLeft{-webkit-animation-name:zoomOutLeft;animation-name:zoomOutLeft}@-webkit-keyframes zoomOutRight{40%{opacity:1;-webkit-transform:scale3d(.475, .475, .475) translate3d(-42px, 0, 0);transform:scale3d(.475, .475, .475) translate3d(-42px, 0, 0)}to{opacity:0;-webkit-transform:scale(.1) translate3d(2000px, 0, 0);transform:scale(.1) translate3d(2000px, 0, 0);-webkit-transform-origin:right center;transform-origin:right center}}@keyframes zoomOutRight{40%{opacity:1;-webkit-transform:scale3d(.475, .475, .475) translate3d(-42px, 0, 0);transform:scale3d(.475, .475, .475) translate3d(-42px, 0, 0)}to{opacity:0;-webkit-transform:scale(.1) translate3d(2000px, 0, 0);transform:scale(.1) translate3d(2000px, 0, 0);-webkit-transform-origin:right center;transform-origin:right center}}.zoomOutRight{-webkit-animation-name:zoomOutRight;animation-name:zoomOutRight}@-webkit-keyframes zoomOutUp{40%{opacity:1;-webkit-transform:scale3d(.475, .475, .475) translate3d(0, 60px, 0);transform:scale3d(.475, .475, .475) translate3d(0, 60px, 0);-webkit-animation-timing-function:cubic-bezier(0.550, 0.055, 0.675, 0.190);animation-timing-function:cubic-bezier(0.550, 0.055, 0.675, 0.190)}to{opacity:0;-webkit-transform:scale3d(.1, .1, .1) translate3d(0, -2000px, 0);transform:scale3d(.1, .1, .1) translate3d(0, -2000px, 0);-webkit-transform-origin:center bottom;transform-origin:center bottom;-webkit-animation-timing-function:cubic-bezier(0.175, 0.885, 0.320, 1);animation-timing-function:cubic-bezier(0.175, 0.885, 0.320, 1)}}@keyframes zoomOutUp{40%{opacity:1;-webkit-transform:scale3d(.475, .475, .475) translate3d(0, 60px, 0);transform:scale3d(.475, .475, .475) translate3d(0, 60px, 0);-webkit-animation-timing-function:cubic-bezier(0.550, 0.055, 0.675, 0.190);animation-timing-function:cubic-bezier(0.550, 0.055, 0.675, 0.190)}to{opacity:0;-webkit-transform:scale3d(.1, .1, .1) translate3d(0, -2000px, 0);transform:scale3d(.1, .1, .1) translate3d(0, -2000px, 0);-webkit-transform-origin:center bottom;transform-origin:center bottom;-webkit-animation-timing-function:cubic-bezier(0.175, 0.885, 0.320, 1);animation-timing-function:cubic-bezier(0.175, 0.885, 0.320, 1)}}.zoomOutUp{-webkit-animation-name:zoomOutUp;animation-name:zoomOutUp}@-webkit-keyframes slideInDown{from{-webkit-transform:translate3d(0, -100%, 0);transform:translate3d(0, -100%, 0);visibility:visible}to{-webkit-transform:translate3d(0, 0, 0);transform:translate3d(0, 0, 0)}}@keyframes slideInDown{from{-webkit-transform:translate3d(0, -100%, 0);transform:translate3d(0, -100%, 0);visibility:visible}to{-webkit-transform:translate3d(0, 0, 0);transform:translate3d(0, 0, 0)}}.slideInDown{-webkit-animation-name:slideInDown;animation-name:slideInDown}@-webkit-keyframes slideInLeft{from{-webkit-transform:translate3d(-100%, 0, 0);transform:translate3d(-100%, 0, 0);visibility:visible}to{-webkit-transform:translate3d(0, 0, 0);transform:translate3d(0, 0, 0)}}@keyframes slideInLeft{from{-webkit-transform:translate3d(-100%, 0, 0);transform:translate3d(-100%, 0, 0);visibility:visible}to{-webkit-transform:translate3d(0, 0, 0);transform:translate3d(0, 0, 0)}}.slideInLeft{-webkit-animation-name:slideInLeft;animation-name:slideInLeft}@-webkit-keyframes slideInRight{from{-webkit-transform:translate3d(100%, 0, 0);transform:translate3d(100%, 0, 0);visibility:visible}to{-webkit-transform:translate3d(0, 0, 0);transform:translate3d(0, 0, 0)}}@keyframes slideInRight{from{-webkit-transform:translate3d(100%, 0, 0);transform:translate3d(100%, 0, 0);visibility:visible}to{-webkit-transform:translate3d(0, 0, 0);transform:translate3d(0, 0, 0)}}.slideInRight{-webkit-animation-name:slideInRight;animation-name:slideInRight}@-webkit-keyframes slideInUp{from{-webkit-transform:translate3d(0, 100%, 0);transform:translate3d(0, 100%, 0);visibility:visible}to{-webkit-transform:translate3d(0, 0, 0);transform:translate3d(0, 0, 0)}}@keyframes slideInUp{from{-webkit-transform:translate3d(0, 100%, 0);transform:translate3d(0, 100%, 0);visibility:visible}to{-webkit-transform:translate3d(0, 0, 0);transform:translate3d(0, 0, 0)}}.slideInUp{-webkit-animation-name:slideInUp;animation-name:slideInUp}@-webkit-keyframes slideOutDown{from{-webkit-transform:translate3d(0, 0, 0);transform:translate3d(0, 0, 0)}to{visibility:hidden;-webkit-transform:translate3d(0, 100%, 0);transform:translate3d(0, 100%, 0)}}@keyframes slideOutDown{from{-webkit-transform:translate3d(0, 0, 0);transform:translate3d(0, 0, 0)}to{visibility:hidden;-webkit-transform:translate3d(0, 100%, 0);transform:translate3d(0, 100%, 0)}}.slideOutDown{-webkit-animation-name:slideOutDown;animation-name:slideOutDown}@-webkit-keyframes slideOutLeft{from{-webkit-transform:translate3d(0, 0, 0);transform:translate3d(0, 0, 0)}to{visibility:hidden;-webkit-transform:translate3d(-100%, 0, 0);transform:translate3d(-100%, 0, 0)}}@keyframes slideOutLeft{from{-webkit-transform:translate3d(0, 0, 0);transform:translate3d(0, 0, 0)}to{visibility:hidden;-webkit-transform:translate3d(-100%, 0, 0);transform:translate3d(-100%, 0, 0)}}.slideOutLeft{-webkit-animation-name:slideOutLeft;animation-name:slideOutLeft}@-webkit-keyframes slideOutRight{from{-webkit-transform:translate3d(0, 0, 0);transform:translate3d(0, 0, 0)}to{visibility:hidden;-webkit-transform:translate3d(100%, 0, 0);transform:translate3d(100%, 0, 0)}}@keyframes slideOutRight{from{-webkit-transform:translate3d(0, 0, 0);transform:translate3d(0, 0, 0)}to{visibility:hidden;-webkit-transform:translate3d(100%, 0, 0);transform:translate3d(100%, 0, 0)}}.slideOutRight{-webkit-animation-name:slideOutRight;animation-name:slideOutRight}@-webkit-keyframes slideOutUp{from{-webkit-transform:translate3d(0, 0, 0);transform:translate3d(0, 0, 0)}to{visibility:hidden;-webkit-transform:translate3d(0, -100%, 0);transform:translate3d(0, -100%, 0)}}@keyframes slideOutUp{from{-webkit-transform:translate3d(0, 0, 0);transform:translate3d(0, 0, 0)}to{visibility:hidden;-webkit-transform:translate3d(0, -100%, 0);transform:translate3d(0, -100%, 0)}}.slideOutUp{-webkit-animation-name:slideOutUp;animation-name:slideOutUp}.tocify{max-height:90%;overflow:auto;position:fixed;webkit-border-radius:6px;moz-border-radius:6px;border-radius:6px}.tocify li,.tocify ul{list-style:none;margin:0;padding:0;border:none;line-height:30px}.tocify-header{text-indent:10px}.tocify-subheader{text-indent:20px;display:none}.tocify-subheader li{font-size:12px}.tocify-subheader .tocify-subheader{text-indent:30px}.tocify-subheader .tocify-subheader .tocify-subheader{text-indent:40px}.nav-list .nav-header,.nav-list > li > a{margin:0}.nav-list > li > a{padding:5px}.tocify-focus{font-weight:bold}.material-hamburger{width:60px;height:45px;position:relative;-webkit-transform:rotate(0deg);-moz-transform:rotate(0deg);-o-transform:rotate(0deg);transform:rotate(0deg);-webkit-transition:0.5s ease-in-out;-moz-transition:0.5s ease-in-out;-o-transition:0.5s ease-in-out;transition:0.5s ease-in-out;cursor:pointer;z-index:999;transform:scale(.4)!important;position:absolute;right:0;top:5.5px}.material-hamburger span{display:block;position:absolute;height:4px;width:100%;background:#fff;opacity:1;left:0;-webkit-transform:rotate(0deg);-moz-transform:rotate(0deg);-o-transform:rotate(0deg);transform:rotate(0deg);-webkit-transition:0.25s ease-in-out;-moz-transition:0.25s ease-in-out;-o-transition:0.25s ease-in-out;transition:0.25s ease-in-out}.material-hamburger span:nth-child(1){top:0;-webkit-transform-origin:left center;-moz-transform-origin:left center;-o-transform-origin:left center;transform-origin:left center}.material-hamburger span:nth-child(2){top:18px;-webkit-transform-origin:left center;-moz-transform-origin:left center;-o-transform-origin:left center;transform-origin:left center}.material-hamburger span:nth-child(3){top:36px;-webkit-transform-origin:left center;-moz-transform-origin:left center;-o-transform-origin:left center;transform-origin:left center}.material-hamburger.opened span:nth-child(1){-webkit-transform:rotate(45deg);-moz-transform:rotate(45deg);-o-transform:rotate(45deg);transform:rotate(45deg);top:-3px;left:8px}.material-hamburger.opened span:nth-child(2){width:0;opacity:0}.material-hamburger.opened span:nth-child(3){-webkit-transform:rotate(-45deg);-moz-transform:rotate(-45deg);-o-transform:rotate(-45deg);transform:rotate(-45deg);top:39px;left:8px}.nav-toggle-icon{overflow:hidden}.nav-toggle-icon.active{position:fixed;right:0;top:0;width:100%;height:100%;overflow:hidden;z-index:9}.nav-toggle-icon.active:before{transform:scale(75)}@media (min-height: 737px){.nav-toggle-icon.active:before{transform:scale(90)}}.nav-toggle-icon:before{content:\"\";z-index:9;position:absolute;top:2px;right:0;width:40px;height:40px;background:#4184f3;border-radius:50%;cursor:pointer;transform-origin:center 70%;transform:scale(1);transition:all 0.5s ease-out}.menu-wrapper.active ul.menus li{transform:translateY(0);opacity:1}.menu-wrapper ul.menus li:nth-child(1){transition-delay:0.1s}.menu-wrapper ul.menus li:nth-child(2){transition-delay:0.15s}.menu-wrapper ul.menus li:nth-child(3){transition-delay:0.2s}.menu-wrapper ul.menus li:nth-child(4){transition-delay:0.25s}.menu-wrapper ul.menus li:nth-child(5){transition-delay:0.3s}.nav-indicator{-webkit-animation-timing-function:cubic-bezier(0.55, 0, 0.1, 1);animation-timing-function:cubic-bezier(0.55, 0, 0.1, 1);background:#fff;bottom:0;height:2px;opacity:0;position:absolute;-webkit-transform-origin:0;transform-origin:0;-webkit-transform:scaleX(0.001);transform:scaleX(0.001);width:100px}.animate-indicator{opacity:1;transition:-webkit-transform 0.2s;transition:transform 0.2s}header [role=\"progressbar\"][aria-busy=\"true\"]{position:fixed;bottom:0;left:0;padding-top:4px;width:100%;z-index:999;background-color:#159756;-webkit-animation:preloader-background linear 3.5s infinite;animation:preloader-background linear 3.5s infinite}header [role=\"progressbar\"][aria-busy=\"true\"]::before,header [role=\"progressbar\"][aria-busy=\"true\"]::after{display:block;position:absolute;top:0;z-index:2;width:0;height:4px;background:#afa;-webkit-animation:preloader-front linear 3.5s infinite;animation:preloader-front linear 3.5s infinite;content:''}header [role=\"progressbar\"][aria-busy=\"true\"]::before{right:50%}header [role=\"progressbar\"][aria-busy=\"true\"]::after{left:50%}@-webkit-keyframes preloader-background{0%,24.9%{background-color:#159756}25%,49.9%{background-color:#da4733}50%,74.9%{background-color:#3b78e7}100%,75%{background-color:#fdba2c}}@keyframes preloader-background{0%,24.9%{background-color:#159756}25%,49.9%{background-color:#da4733}50%,74.9%{background-color:#3b78e7}100%,75%{background-color:#fdba2c}}@-webkit-keyframes preloader-front{0%{width:0;background-color:#da4733}24.9%{width:50%;background-color:#da4733}25%{width:0;background-color:#3b78e7}49.9%{width:50%;background-color:#3b78e7}50%{width:0;background-color:#fdba2c}74.9%{width:50%;background-color:#fdba2c}75%{width:0;background-color:#159756}100%{width:50%;background-color:#159756}}@keyframes preloader-front{0%{width:0;background-color:#da4733}24.9%{width:50%;background-color:#da4733}25%{width:0;background-color:#3b78e7}49.9%{width:50%;background-color:#3b78e7}50%{width:0;background-color:#fdba2c}74.9%{width:50%;background-color:#fdba2c}75%{width:0;background-color:#159756}100%{width:50%;background-color:#159756}}section.post-content pre > code{padding:0;margin:0;font-size:100%;white-space:pre;background:transparent;border:0}section.post-content .highlight pre,section.post-content pre{padding:16px;overflow:auto;font-size:100%;line-height:1.45;background-color:#fafafa;border:0;border-radius:3px}section.post-content pre{word-wrap:normal}section.post-content pre code{display:inline;max-width:initial;padding:0;margin:0;overflow:initial;line-height:inherit;word-wrap:normal;background-color:transparent;border:0}section.post-content pre code:after,section.post-content pre code:before{content:normal}section.post-content pre .token.operator{background:transparent}.language-css .token.string,.style .token.string,.token.entity,.token.operator,.token.url{background:transparent}section.post-content pre[class*=\"language-\"]{border-radius:0;background:#f7f7f7;position:relative;font-size:0.9em;margin:15px -15px;padding:15px;border-left:4px solid #CBC8C8}@media (min-width: 425px){section.post-content pre[class*=\"language-\"]{margin:15px 0}}.m-scene .scene_element{-webkit-animation-duration:0.25s;animation-duration:0.25s;-webkit-transition-timing-function:ease-in;transition-timing-function:ease-in;-webkit-animation-fill-mode:both;animation-fill-mode:both}.m-scene .scene_element--fadein{-webkit-animation-name:fadeIn;animation-name:fadeIn}.m-scene .scene_element--fadeinup{-webkit-animation-name:fadeInUp;animation-name:fadeInUp}.m-scene .scene_element--fadeinright{-webkit-animation-name:fadeInRight;animation-name:fadeInRight}.m-scene .scene_element--delayed{-webkit-animation-delay:0.25s;animation-delay:0.25s}.m-scene.is-exiting .scene_element{-webkit-animation-direction:alternate-reverse;animation-direction:alternate-reverse}.m-scene.is-exiting .scene_element--delayed{-webkit-animation-delay:0s;animation-delay:0s}.m-scene.is-exiting .scene_element--noexiting{-webkit-animation-direction:alternate-reverse;animation-direction:alternate-reverse}@media screen and (min-width: 768px){.m-scene .scene_element--fadeinright-wide{-webkit-animation-name:fadeInRight;animation-name:fadeInRight}}.waves-effect{position:relative;cursor:pointer;display:inline-block;overflow:hidden;-webkit-user-select:none;-moz-user-select:none;-ms-user-select:none;user-select:none;-webkit-tap-highlight-color:transparent}.waves-effect .waves-ripple{position:absolute;border-radius:50%;width:100px;height:100px;margin-top:-50px;margin-left:-50px;opacity:0;background:rgba(0,0,0,.2);background:-webkit-radial-gradient(rgba(0,0,0,.2) 0,rgba(0,0,0,.3) 40%,rgba(0,0,0,.4) 50%,rgba(0,0,0,.5) 60%,rgba(255,255,255,0) 70%);background:-o-radial-gradient(rgba(0,0,0,.2) 0,rgba(0,0,0,.3) 40%,rgba(0,0,0,.4) 50%,rgba(0,0,0,.5) 60%,rgba(255,255,255,0) 70%);background:-moz-radial-gradient(rgba(0,0,0,.2) 0,rgba(0,0,0,.3) 40%,rgba(0,0,0,.4) 50%,rgba(0,0,0,.5) 60%,rgba(255,255,255,0) 70%);background:radial-gradient(rgba(0,0,0,.2) 0,rgba(0,0,0,.3) 40%,rgba(0,0,0,.4) 50%,rgba(0,0,0,.5) 60%,rgba(255,255,255,0) 70%);-webkit-transition:all 0.5s ease-out;-moz-transition:all 0.5s ease-out;-o-transition:all 0.5s ease-out;transition:all 0.5s ease-out;-webkit-transition-property:-webkit-transform,opacity;-moz-transition-property:-moz-transform,opacity;-o-transition-property:-o-transform,opacity;transition-property:transform,opacity;-webkit-transform:scale(0) translate(0,0);-moz-transform:scale(0) translate(0,0);-ms-transform:scale(0) translate(0,0);-o-transform:scale(0) translate(0,0);transform:scale(0) translate(0,0);pointer-events:none}.waves-effect.waves-light .waves-ripple{background:rgba(255,255,255,.4);background:-webkit-radial-gradient(rgba(255,255,255,.2) 0,rgba(255,255,255,.3) 40%,rgba(255,255,255,.4) 50%,rgba(255,255,255,.5) 60%,rgba(255,255,255,0) 70%);background:-o-radial-gradient(rgba(255,255,255,.2) 0,rgba(255,255,255,.3) 40%,rgba(255,255,255,.4) 50%,rgba(255,255,255,.5) 60%,rgba(255,255,255,0) 70%);background:-moz-radial-gradient(rgba(255,255,255,.2) 0,rgba(255,255,255,.3) 40%,rgba(255,255,255,.4) 50%,rgba(255,255,255,.5) 60%,rgba(255,255,255,0) 70%);background:radial-gradient(rgba(255,255,255,.2) 0,rgba(255,255,255,.3) 40%,rgba(255,255,255,.4) 50%,rgba(255,255,255,.5) 60%,rgba(255,255,255,0) 70%)}.waves-effect.waves-classic .waves-ripple{background:rgba(0,0,0,.2)}.waves-effect.waves-classic.waves-light .waves-ripple{background:rgba(255,255,255,.4)}.waves-notransition{-webkit-transition:none!important;-moz-transition:none!important;-o-transition:none!important;transition:none!important}.waves-button,.waves-circle{-webkit-transform:translateZ(0);-moz-transform:translateZ(0);-ms-transform:translateZ(0);-o-transform:translateZ(0);transform:translateZ(0);-webkit-mask-image:-webkit-radial-gradient(circle,#fff 100%,#000 100%)}.waves-button,.waves-button-input,.waves-button:hover,.waves-button:visited{white-space:nowrap;vertical-align:middle;cursor:pointer;border:none;outline:0;color:inherit;background-color:transparent;font-size:1em;line-height:1em;text-align:center;text-decoration:none;z-index:1}.waves-button{padding:0.85em 1.1em;border-radius:0.2em}.waves-button-input{margin:0;padding:0.85em 1.1em}.waves-input-wrapper{border-radius:0.2em;vertical-align:bottom}.waves-input-wrapper.waves-button{padding:0}.waves-input-wrapper .waves-button-input{position:relative;top:0;left:0;z-index:1}.waves-circle{text-align:center;width:2.5em;height:2.5em;line-height:2.5em;border-radius:50%}.waves-float{-webkit-mask-image:none;-webkit-box-shadow:0 1px 1.5px 1px rgba(0,0,0,.12);box-shadow:0 1px 1.5px 1px rgba(0,0,0,.12);-webkit-transition:all 300ms;-moz-transition:all 300ms;-o-transition:all 300ms;transition:all 300ms}.waves-float:active{-webkit-box-shadow:0 8px 20px 1px rgba(0,0,0,.3);box-shadow:0 8px 20px 1px rgba(0,0,0,.3)}.waves-block{display:block}b{font-weight:bold}*{box-sizing:border-box;-webkit-tap-highlight-color:transparent}body{color:#404040;font:300 18px/1.5 'Helvetica Neue', Helvetica, Arial, sans-serif;text-shadow:0 0 1px rgba(50,50,50,0.2);margin:0;padding:0;-webkit-font-smoothing:antialiased;font-smoothing:antialiased;text-rendering:optimizeLegibility;overflow-x:hidden}body.nav-active{overflow:hidden}h1,h2,h3,h4,h5,h6{position:relative;margin-top:1em;margin-bottom:16px;font-weight:bold;line-height:1.4}h1{padding-bottom:0.3em;font-size:2.25em;line-height:1.2}h2{padding-bottom:0.3em;font-size:1.75em;line-height:1.225;border-bottom:1px solid #eee}h3{line-height:1.43}h4{font-size:1.25em}h5{font-size:1em}h6{font-size:1em;color:#777}.wrapper{max-width:1200px;margin:auto}a{color:#0063FF;text-decoration:none}.fixed{position:fixed}.logo{}.logo a{font-weight:400;font-size:20px;line-height:56px;padding:0 15px}.btn{cursor:pointer}.nav-wrapper{background-color:#4184f3;box-shadow:0 2px 5px 0 rgba(0, 0, 0, 0.26)}nav{color:#fff;height:56px;display:flex;justify-content:space-between;align-items:stretch}nav a{color:#fff}.image-caption{text-align:center;display:block;margin:10px;color:rgba(0,0,0,.54);font-size:0.8em}.menu-wrapper{position:fixed;width:100%;height:100%;left:0;right:0;top:0;background-color:transparent;margin:0;padding:56px 0 0;text-align:center;opacity:0;visibility:hidden;padding:0;margin-top:56px;transition:all 0.5s;z-index:10}.menu-wrapper.active{opacity:1;visibility:visible}.menu-wrapper ul.menus{list-style:none;padding:0;margin:0;display:flex;flex-direction:column;justify-content:center;height:100%}.logo{z-index:999;display:flex;align-items:center;height:56px;padding:0}.menu-wrapper li{will-change:transform, opacity;opacity:0;box-sizing:border-box;transform:translateY(-100px);transition:all 0.3s ease-out}.menu-wrapper li a{font-size:5vw;font-weight:300;display:inline-block;width:100%;transition:background 0.4s ease-out}.menu-wrapper li a:hover{}.menu-wrapper a{text-decoration:none;color:#fff;padding:15px}.nav-toggle-icon{display:block;width:56px;height:56px}.container{margin:0 auto}.container.content{margin-top:25px}.row{display:flex;justify-content:center;align-items:flex-start}.main{background:#fff;flex:3 1 auto;min-height:320px;max-width:727.5px;width:100%}.title-list{min-height:320px}.title-list section{padding:5px 0}aside{flex:1 1 auto;min-height:50px;min-width:150px;max-width:242.5px;padding:15px;display:none}.tocify li,.tocify ul{max-width:150px;white-space:nowrap;overflow:hidden;text-overflow:ellipsis}article{background:#fff;padding:15px}article iframe{width:100%}article img{max-width:100%;display:block;margin:10px auto;color:#999;cursor:pointer}article code,article tt{padding:0.1em 0.2em;margin:0 5px;background-color:rgba(0,0,0,.04);border-radius:3px}article blockquote{padding:0 15px;color:#777;border-left:4px solid #CBC8C8;margin:0 -15px}article hr{height:4px;padding:0;margin:16px 0;background-color:#e7e7e7;border:0 none}figure.highlight .gutter{padding:0 5px}.post-header{}.post-header.with-cover{background-size:cover;background-repeat:no-repeat;background-position:center;position:relative;padding-bottom:45%;background-color:#4184f3;display:block}.post-header .post-title{margin:0;width:100%}.post-header.with-cover{background-color:#4184f3}.post-header.with-cover .post-title{color:#fff;position:absolute;bottom:0;left:0;padding-top:20px;padding-bottom:10px;text-shadow:0 1px 3px rgba(0,0,0,.4),0 0 30px rgba(0,0,0,.075);background:-moz-linear-gradient(top, rgba(0,0,0,0) 0%, rgba(0,0,0,0.6) 100%);background:-webkit-linear-gradient(top, rgba(0,0,0,0) 0%,rgba(0,0,0,0.6) 100%);background:linear-gradient(to bottom, rgba(0,0,0,0) 0%,rgba(0,0,0,0.6) 100%);filter: progid:DXImageTransform.Microsoft.gradient( startColorstr='#00000000', endColorstr='#4a000000',GradientType=0 )}.post-header.with-cover .post-title span{color:#fff;padding:0 10px}.post-header .post-title span{color:#404040;display:-webkit-box;-webkit-line-clamp:2;-webkit-box-orient:vertical;overflow:hidden;text-overflow:ellipsis;padding-bottom:0}.post-abstract{padding:10px 0}.post-info{justify-content:space-between;align-items:center}.post-date{color:rgba(0,0,0,0.54)}.read-more{float:right}ul.post-tag-list{list-style:none;margin:0;padding:0;display:inline-block}ul.post-tag-list li.post-tag-list-item{display:inline-block}ul.post-tag-list li.post-tag-list-item a{padding:5px}ul.post-tag-list li.post-tag-list-item a::before{content:\"#\"}.post-abstract,.post-content{word-break:break-word}article blockquote ol,article blockquote ul{padding-left:20px}#toc *{}#toc.tocify{border-radius:0}.tocify li a{color:rgba(0,0,0,0.54)}.tocify li{border-left:2px solid transparent}.tocify li.tocify-focus{border-left:2px solid #0063FF}.tocify li.tocify-focus a{color:#0063FF}.pager{display:flex;justify-content:space-between}.pager .pager-item{white-space:nowrap;overflow:hidden;text-overflow:ellipsis;max-width:50%}.pager .post-nav-title{white-space:nowrap;overflow:hidden;text-overflow:ellipsis}.pager .post-prev{text-align:left;margin-right:auto}.pager .post-next{text-align:right;margin-left:auto}.pagination{display:flex;justify-content:center;height:46px}.pagination .page-number{flex:1 1 auto;text-align:center}.pagination .page-number,.pagination a{display:inline-block;height:100%;padding:10px}figure.highlight figcaption{margin-left:15px;display:none}@media (min-width: 425px){.container{padding-right:15px;padding-left:15px;margin-right:auto;margin-left:auto}.logo{margin:0}.gist,.highlight,figure.highlight,pre{margin:15px 0}article blockquote{margin:0}}@media (min-width: 768px){.logo{padding:15px}.logo.fixed{position:static}.container{}.nav-toggle-icon{display:none}.menu-wrapper{position:relative;display:flex;width:auto;height:auto;padding:0;opacity:1;visibility:visible;margin:0;transition:none}.menu-wrapper ul.menus{flex-direction:row}.menu-wrapper li{will-change:inherit;margin:0;transform:none;opacity:1;transition:none}.menu-wrapper li a{font-size:inherit;font-weight:inherit;height:100%}figure.highlight figcaption{display:block}}@media (min-width: 992px){.container{width:970px}aside{display:block}}.comment-section{padding:15px}.footer{margin:30px 15px;text-align:center;font-size:0.8em;color:rgba(0,0,0,0.54)}.footer p{margin:0}.footer a{color:rgba(0,0,0,0.54)}kbd{font-family:monospace, monospace;font-size:1em;display:inline-block;padding:3px 5px;font-size:11px;line-height:10px;color:#555;vertical-align:middle;background-color:#fcfcfc;border:solid 1px #ccc;border-bottom-color:#bbb;border-radius:3px;box-shadow:inset 0 -1px 0 #bbb}strong{font-weight:bold}#toc{position:fixed;top:96px}#toc div.h2{color:#404040;font:300 16px/1.5 'Helvetica Neue', Helvetica, Arial, sans-serif;text-shadow:0 0 1px rgba(50,50,50,0.2);-webkit-font-smoothing:antialiased;text-rendering:optimizeLegibility;text-indent:10px;box-sizing:border-box;-webkit-tap-highlight-color:transparent;list-style:none;margin:0;padding:0;border:none;line-height:30px;max-width:150px;white-space:nowrap;overflow:hidden;text-overflow:ellipsis;border-left:2px solid transparent;cursor:pointer}#toc div.h3{font:300 16px/1.5 'Helvetica Neue', Helvetica, Arial, sans-serif;text-shadow:0 0 1px rgba(50,50,50,0.2);-webkit-font-smoothing:antialiased;text-rendering:optimizeLegibility;text-indent:20px;list-style:none;line-height:30px;font-size:12px;white-space:nowrap;cursor:pointer;box-sizing:border-box;-webkit-tap-highlight-color:transparent;text-decoration:none;color:rgba(0,0,0,0.54);text-indent:22px}#toc div.h4{display:none}#toc a{color:rgba(0,0,0,0.54)}#toc div.h2.active a{color:#0063FF !important}#toc div.h3.active a{color:#0063FF !important}#toc div.h4.active a{color:#0063FF !important}#toc div.h2.active{border-left:2px solid #0063FF;font-weight:bold}#toc div.h3.active{border-left:2px solid #0063FF;font-weight:bold}#toc div.h4.active{border-left:2px solid #0063FF;font-weight:bold}</style>\n",
      "\n",
      "           \n",
      "          \n",
      "          \n",
      "          \n",
      "\n",
      "   </head>\n",
      "\n",
      "<body>\n",
      "        <header>\n",
      "          <!-- cover image or sth. -->\n",
      "\n",
      "\t</header>\n",
      "        <div id=\"main\" class=\"m-scene\">\n",
      "            \n",
      "<div class=\"nav-wrapper\">\n",
      "\n",
      "    <div class=\"container\">\n",
      "        <nav>\n",
      "            <div class=\"logo wave\">\n",
      "                <a href=\"/\" id=\"logo\">\n",
      "                    Python Tutorial\n",
      "                </a>\n",
      "            </div>\n",
      "            <div class=\"nav-toggle-icon\" id=\"nav-toggle-icon\" onclick=\"mobileMenu()\">\n",
      "                <div class=\"material-hamburger\">\n",
      "                    <span>\n",
      "                    </span>\n",
      "                    <span>\n",
      "                    </span>\n",
      "                    <span>\n",
      "                    </span>\n",
      "                </div>\n",
      "            </div>\n",
      "            <div class=\"menu-wrapper\" id=\"menu-wrapper\">\n",
      "                <div class=\"nav-indicator\">\n",
      "                </div>\n",
      "                <ul class=\"menus\">\n",
      "                    \n",
      "                     \n",
      "                        <li>\n",
      "                            <a class=\"wave \" href=\"/\">\n",
      "                                Home\n",
      "                            </a>\n",
      "                        </li>\n",
      "                     \n",
      "                        <li>\n",
      "                            <a class=\"wave \" href=\"/exercises/\">\n",
      "                                Exercises\n",
      "                            </a>\n",
      "                        </li>\n",
      "                     \n",
      "                        <li>\n",
      "                            <a class=\"wave \" href=\"https://gumroad.com/l/dcsp\" rel=\"external nofollow\" target=\"_blank\">\n",
      "                                Course\n",
      "                            </a>\n",
      "                        </li>\n",
      "                     \n",
      "                    \n",
      "                   \n",
      "                </ul>\n",
      "            </div>\n",
      "        </nav>\n",
      "    </div>\n",
      "</div>\n",
      "            <div class=\"container content\">\n",
      "                <div class=\"scene_element scene_element--fadein\">\n",
      "                    <div class=\"row\">\n",
      "    <div class=\"main\">\n",
      "        <article>\n",
      "            <h1>\n",
      "                Learn Python Programming \n",
      "            </h1>\n",
      "            <!-- <small>2015/7/4</small> -->\n",
      "            <p>This site contains materials and exercises for the Python 3 programming language.<br>In this course you will learn how to write code, the basics and see examples.</p>\n",
      "<p>Python is a programming language supports several programming paradigms including Object-Orientated Programming (OOP) and functional programming.</p>\n",
      "<p><strong>Related course:</strong> <a href=\"https://gum.co/dcsp\" rel=\"external nofollow\" onclick=\"ga('send', 'event', 'Link Click', 'Beginner', 'Python');\" target=\"_blank\">Complete Python Programming Course &amp; Exercises</a></p>\n",
      "\n",
      "\n",
      "<h2 id=\"Table-of-Contents\"><a href=\"#Table-of-Contents\" class=\"headerlink\" title=\"Table of Contents:\"></a>Table of Contents:</h2><p>Overview of articles and exercises:</p>\n",
      "<h3 id=\"Introduction\"><a href=\"#Introduction\" class=\"headerlink\" title=\"Introduction\"></a>Introduction</h3><ul>\n",
      "<li><a href=\"/7-reasons-to-learn-python/\">7 reasons to learn Python</a></li>\n",
      "<li><a href=\"/why-python-is-awesome/\">Why Python is Awesome</a></li>\n",
      "</ul>\n",
      "<h3 id=\"Learn-Python\"><a href=\"#Learn-Python\" class=\"headerlink\" title=\"Learn Python\"></a>Learn Python</h3><ul>\n",
      "<li><a href=\"/getting-started/\">Getting started</a></li>\n",
      "<li><a href=\"/execute-python-scripts/\">Execute Python scripts</a></li>\n",
      "<li><a href=\"/variables/\">Variables</a></li>\n",
      "<li><a href=\"/strings/\">Strings</a></li>\n",
      "<li><a href=\"/replace/\">Replace</a></li>\n",
      "<li><a href=\"/join/\">Join</a></li>\n",
      "<li><a href=\"/string-find/\">String find</a></li>\n",
      "<li><a href=\"/split/\">Split</a></li>\n",
      "<li><a href=\"/random-numbers/\">Random numbers</a></li>\n",
      "<li><a href=\"/keyboard-input/\">Keyboard input</a></li>\n",
      "</ul>\n",
      "<h3 id=\"Control-structures\"><a href=\"#Control-structures\" class=\"headerlink\" title=\"Control structures\"></a>Control structures</h3><ul>\n",
      "<li><a href=\"/if-statements/\">If statements</a></li>\n",
      "<li><a href=\"/for-loops/\">For Loops</a></li>\n",
      "<li><a href=\"/while-loop/\">While loop</a></li>\n",
      "</ul>\n",
      "<h3 id=\"Data-and-operations\"><a href=\"#Data-and-operations\" class=\"headerlink\" title=\"Data and operations\"></a>Data and operations</h3><ul>\n",
      "<li><a href=\"/functions/\">Functions</a></li>\n",
      "<li><a href=\"/list/\">List</a></li>\n",
      "<li><a href=\"/list-operations/\">List operations</a></li>\n",
      "<li><a href=\"/sort-list/\">Sort list</a></li>\n",
      "<li><a href=\"/range-function/\">Range function</a></li>\n",
      "<li><a href=\"/dictionary/\">Dictionary</a></li>\n",
      "<li><a href=\"/read-file/\">Read file</a></li>\n",
      "<li><a href=\"/write-file/\">Write file</a></li>\n",
      "<li><a href=\"/nested-loops/\">Nested loops</a></li>\n",
      "<li><a href=\"/slices/\">Slices</a></li>\n",
      "<li><a href=\"/multiple-return/\">Multiple return</a></li>\n",
      "<li><a href=\"/scope/\">Scope</a></li>\n",
      "<li><a href=\"/time-and-date/\">time and date</a></li>\n",
      "<li><a href=\"/try-except/\">Try exception</a></li>\n",
      "<li><a href=\"/how-to-use-pip-and-pypi/\">How to use pip and pypi</a></li>\n",
      "</ul>\n",
      "<h3 id=\"OOP\"><a href=\"#OOP\" class=\"headerlink\" title=\"OOP\"></a>OOP</h3><ul>\n",
      "<li><a href=\"/class/\">Class</a></li>\n",
      "<li><a href=\"/constructor/\">Constructor</a></li>\n",
      "<li><a href=\"/getter-and-setter/\">Getter and setter</a></li>\n",
      "<li><a href=\"/modules/\">Modules</a></li>\n",
      "<li><a href=\"/inheritance/\">Inheritance</a></li>\n",
      "<li><a href=\"/static-method/\">Static method</a></li>\n",
      "<li><a href=\"/iterable/\">Iterable</a></li>\n",
      "<li><a href=\"/classmethod/\">Class method</a></li>\n",
      "<li><a href=\"/multiple-inheritance/\">Multiple Inheritance</a></li>\n",
      "</ul>\n",
      "<h3 id=\"Advanced\"><a href=\"#Advanced\" class=\"headerlink\" title=\"Advanced\"></a>Advanced</h3><ul>\n",
      "<li><a href=\"/virtualenv/\">Virtualenv</a></li>\n",
      "<li><a href=\"/enumerate/\">Enumerate</a></li>\n",
      "<li><a href=\"/pickle/\">Pickle</a></li>\n",
      "<li><a href=\"/regular-expressions/\">Regular Expressions</a></li>\n",
      "<li><a href=\"/json/\">JSON</a></li>\n",
      "<li><a href=\"/read-json-file/\">Read JSON file</a></li>\n",
      "<li><a href=\"/decorators/\">Decorators</a></li>\n",
      "<li><a href=\"/webserver/\">Web server</a></li>\n",
      "</ul>\n",
      "<h3 id=\"Audio\"><a href=\"#Audio\" class=\"headerlink\" title=\"Audio\"></a>Audio</h3><ul>\n",
      "<li><a href=\"/python-play-sound/\">Play Sound</a></li>\n",
      "<li><a href=\"/text-to-speech/\">Text to speech</a></li>\n",
      "<li><a href=\"/convert-mp3-to-wav/\">Convert MP3 to WAV</a></li>\n",
      "<li><a href=\"/transcribe-audio/\">Transcribe audio</a></li>\n",
      "</ul>\n",
      "<h3 id=\"Tkinter\"><a href=\"#Tkinter\" class=\"headerlink\" title=\"Tkinter\"></a>Tkinter</h3><ul>\n",
      "<li><a href=\"/tkinter/\">Tkinter</a></li>\n",
      "<li><a href=\"/tkinter-button/\">Tkinter button</a></li>\n",
      "<li><a href=\"/tkinter-menu/\">Tkinter menu</a></li>\n",
      "<li><a href=\"/tkinter-label/\">Tkinter label</a></li>\n",
      "<li><a href=\"/tkinter-image/\">Tkinter image</a></li>\n",
      "<li><a href=\"/tkinter-canvas/\">Tkinter canvas</a></li>\n",
      "<li><a href=\"/tkinter-checkbox/\">tkinter checkbox</a></li>\n",
      "<li><a href=\"/tkinter-entry/\">tkinter entry</a></li>\n",
      "<li><a href=\"/tkinter-filedialog/\">tkinter filedialog</a></li>\n",
      "<li><a href=\"/tkinter-frame/\">tkinter frame</a></li>\n",
      "<li><a href=\"/tkinter-listbox/\">tkinter listbox</a></li>\n",
      "<li><a href=\"/tkinter-messagebox/\">tkinter messagebox</a></li>\n",
      "<li><a href=\"/tkinter-radiobutton/\">tkinter radiobutton</a></li>\n",
      "<li><a href=\"/tkinter-scale/\">tkinter scale</a></li>\n",
      "</ul>\n",
      "<h3 id=\"Plotting\"><a href=\"#Plotting\" class=\"headerlink\" title=\"Plotting\"></a>Plotting</h3><ul>\n",
      "<li><a href=\"/matplotlib-bar-chart/\">Matplotlib Bar Chart</a></li>\n",
      "<li><a href=\"/matplotlib-line-chart/\">Matplotlib Line Chart</a></li>\n",
      "<li><a href=\"/seaborn-distplot/\">Seaborn Distplot</a></li>\n",
      "<li><a href=\"/seaborn-barplot/\">Seaborn barplot</a></li>\n",
      "<li><a href=\"/seaborn-boxplot/\">Seaborn boxplot</a></li>\n",
      "<li><a href=\"/seaborn-heatmap/\">Seaborn heatmap</a></li>\n",
      "<li><a href=\"/seaborn-line-plot/\">Seaborn line plot</a></li>\n",
      "<li><a href=\"/seaborn-pairplot/\">Seaborn pairplot</a></li>\n",
      "<li><a href=\"/seaborn-palette/\">Seaborn palette</a></li>\n",
      "<li><a href=\"/seaborn-pandas/\">Seaborn pandas</a></li>\n",
      "<li><a href=\"/seaborn-scatterplot/\">Seaborn scatterplot</a></li>\n",
      "<li><a href=\"/plotly/\">Plotly</a></li>\n",
      "</ul>\n",
      "<h3 id=\"PyQt\"><a href=\"#PyQt\" class=\"headerlink\" title=\"PyQt\"></a>PyQt</h3><ul>\n",
      "<li><a href=\"/pyqt/\">PyQt</a></li>\n",
      "<li><a href=\"/install-pyqt/\">Install pyqt</a></li>\n",
      "<li><a href=\"/pyQt-hello-world/\">PyQt Hello World</a></li>\n",
      "<li><a href=\"/pyqt-buttons/\">PyQt Buttons</a></li>\n",
      "<li><a href=\"/pyqt-qmessagebox/\">PyQt QMessageBox</a></li>\n",
      "<li><a href=\"/pyqt-grid/\">PyQt grid</a></li>\n",
      "<li><a href=\"/qlineedit/\">QLineEdit</a></li>\n",
      "<li><a href=\"/pyqt-qpixmap/\">PyQt QPixmap</a></li>\n",
      "<li><a href=\"/pyqt-combobox/\">PyQt Combobox</a></li>\n",
      "<li><a href=\"/qcheckbox/\">QCheckBox</a></li>\n",
      "<li><a href=\"/qslider/\">QSlider</a></li>\n",
      "<li><a href=\"/progressbar/\">Progressbar</a></li>\n",
      "<li><a href=\"/pyqt-table/\">PyQt table</a></li>\n",
      "<li><a href=\"/qvboxlayout/\">QVBoxLayout</a></li>\n",
      "<li><a href=\"/pyqt-style/\">PyQt style</a></li>\n",
      "<li><a href=\"/compile-pyqt-to-exe/\">Compile PyQt to exe</a></li>\n",
      "<li><a href=\"/qdial/\">QDial</a></li>\n",
      "<li><a href=\"/qcheckbox/\">Qcheckbox</a></li>\n",
      "<li><a href=\"/pyqt-radiobutton/\">Pyqt-radiobutton</a></li>\n",
      "<li><a href=\"/pyqt-groupbox/\">Pyqt-groupbox</a></li>\n",
      "<li><a href=\"/pyqt-tooltip/\">Pyqt-tooltip</a></li>\n",
      "<li><a href=\"/pyqt-toolbox/\">PyQt toolbox</a></li>\n",
      "<li><a href=\"/pyqt-toolbar/\">PyQt toolbar</a></li>\n",
      "<li><a href=\"/pyqt-menubar/\">PyQt menubar</a></li>\n",
      "<li><a href=\"/pyqt-tabwidget/\">PyQt tabwidget</a></li>\n",
      "<li><a href=\"/pyqt-auto-complete/\">PyQt auto complete</a></li>\n",
      "<li><a href=\"/pyqt-list-box/\">PyQt list box</a></li>\n",
      "<li><a href=\"/pyqt-input-dialog/\">PyQt input dialog</a></li>\n",
      "<li><a href=\"/qt-designer-python/\">Qt designer python</a></li>\n",
      "</ul>\n",
      "<h3 id=\"Machine-Learning\"><a href=\"#Machine-Learning\" class=\"headerlink\" title=\"Machine Learning\"></a>Machine Learning</h3><ul>\n",
      "<li><a href=\"/data-science/\">Data Science</a></li>\n",
      "<li><a href=\"/how-to-seriously-start-with-machine-learning-and-ai/\">How to seriously start with Machine Learning and AI</a></li>\n",
      "<li><a href=\"/why-python-for-machine-learning/\">Why Python for Machine Learning?</a></li>\n",
      "<li><a href=\"/machine-learning-libraries/\">Machine Learning Libraries</a></li>\n",
      "<li><a href=\"/what-is-machine-learning/\">What is Machine Learning?</a></li>\n",
      "<li><a href=\"/difference-machine-learning-deep-learning-ai/\">Difference Machine Learning, Deep Learning and AI?</a></li>\n",
      "<li><a href=\"/machine-learning/\">Machine Learning</a></li>\n",
      "<li><a href=\"/machine-learning-algorithms-comparison/\">Machine Learning Algorithms Comparison</a></li>\n",
      "<li><a href=\"/why-use-scikit-learn/\">Why use Scikit-Learn?</a></li>\n",
      "<li><a href=\"/how-to-load-machine-learning-data-in-python/\">How to load Machine Learning Data in Python</a></li>\n",
      "<li><a href=\"/machine-learning-classifier/\">Machine Learning Classifier</a></li>\n",
      "<li><a href=\"/machine-learning-regression/\">Machine Learning Regression</a></li>\n",
      "<li><a href=\"/polynomial-regression-in-python/\">Polynomial Regression in Python</a></li>\n",
      "<li><a href=\"/decision-tree/\">Decision Tree</a></li>\n",
      "<li><a href=\"/k-nearest-neighbors/\">k-Nearest Neighbors</a></li>\n",
      "<li><a href=\"/split-train-test/\">Split Train Test</a></li>\n",
      "<li><a href=\"/face-detection/\">Face Detection</a></li>\n",
      "<li><a href=\"/how-to-prepare-your-data-for-machine-learning-with-scikit-learn/\">How to prepare your Data for Machine Learning with Scikit Learn</a></li>\n",
      "</ul>\n",
      "<h3 id=\"Selenium\"><a href=\"#Selenium\" class=\"headerlink\" title=\"Selenium\"></a>Selenium</h3><ul>\n",
      "<li><a href=\"/selenium-browsers/\">Selenium browsers</a></li>\n",
      "<li><a href=\"/selenium-cookies/\">Selenium cookies</a></li>\n",
      "<li><a href=\"/selenium-execute-javascript/\">Selenium execute javascript</a></li>\n",
      "<li><a href=\"/selenium-find-element/\">Selenium find element</a></li>\n",
      "<li><a href=\"/selenium-firefox-headless/\">Selenium firefox headless</a></li>\n",
      "<li><a href=\"/selenium-firefox/\">Selenium firefox</a></li>\n",
      "<li><a href=\"/selenium-get-html/\">Selenium get html</a></li>\n",
      "<li><a href=\"/selenium-keyboard/\">Selenium keyboard</a></li>\n",
      "<li><a href=\"/selenium-maximize/\">Selenium maximize</a></li>\n",
      "<li><a href=\"/selenium-screenshot/\">Selenium screenshot</a></li>\n",
      "<li><a href=\"/selenium-scroll-down/\">Selenium scroll down</a></li>\n",
      "<li><a href=\"/selenium-switch-to-window/\">Selenium switch to_window</a></li>\n",
      "<li><a href=\"/selenium-wait-for-page-to-load/\">Selenium wait for page to load</a></li>\n",
      "</ul>\n",
      "<h3 id=\"Flask-Tutorial\"><a href=\"#Flask-Tutorial\" class=\"headerlink\" title=\"Flask Tutorial\"></a>Flask Tutorial</h3><ul>\n",
      "<li><a href=\"/what-is-flask-python/\">What is Flask</a></li>\n",
      "<li><a href=\"/flask-tutorial-hello-world/\">Flask Tutorial - Hello World</a></li>\n",
      "<li><a href=\"/flask-tutorial-templates/\">Flask Tutorial - Templates</a></li>\n",
      "<li><a href=\"/flask-tutorial-routes/\">Flask Tutorial - Routes</a></li>\n",
      "<li><a href=\"/python-to-web/\">Python to Web</a></li>\n",
      "<li><a href=\"/flask-http-methods/\">Flask HTTP methods</a></li>\n",
      "<li><a href=\"/flask-static-files/\">Flask Static Files</a></li>\n",
      "<li><a href=\"/flask-template-data/\">Flask Template Data</a></li>\n",
      "<li><a href=\"/flask-cookies/\">Flask cookies</a></li>\n",
      "<li><a href=\"/flask-sessions/\">Flask sessions</a></li>\n",
      "<li><a href=\"/flask-redirect-and-errors/\">Flask redirect and errors</a></li>\n",
      "<li><a href=\"/flask-upload-file/\">Flask upload file</a></li>\n",
      "<li><a href=\"/flask-extensions/\">Flask extensions</a></li>\n",
      "<li><a href=\"/flask-mail/\">Flask mail</a></li>\n",
      "<li><a href=\"/flask-sqlite/\">Flask SQLite</a></li>\n",
      "<li><a href=\"/flask-sqlalchemy/\">Flask SQLAlchemy</a></li>\n",
      "<li><a href=\"/flask-sijax/\">Flask Sijax</a></li>\n",
      "<li><a href=\"/deploy-flask-app/\">Deploy Flask App</a></li>\n",
      "<li><a href=\"/flask-rest-api/\">Flask REST API</a></li>\n",
      "<li><a href=\"/flask-mongodb/\">Flask MongoDB</a></li>\n",
      "<li><a href=\"/flask-login/\">Flask Login</a></li>\n",
      "<li><a href=\"/flask-boilerplate/\">Flask boilerplate</a></li>\n",
      "</ul>\n",
      "<h3 id=\"Pandas\"><a href=\"#Pandas\" class=\"headerlink\" title=\"Pandas\"></a>Pandas</h3><ul>\n",
      "<li><a href=\"/what-is-pandas/\">What is Pandas</a></li>\n",
      "<li><a href=\"/pandas-series/\">Pandas series</a></li>\n",
      "<li><a href=\"/pandas-dataframe/\">Pandas Dataframe</a></li>\n",
      "<li><a href=\"/read-csv-with-pandas/\">Read csv with pandas</a></li>\n",
      "<li><a href=\"/read-excel/\">Read Excel</a></li>\n",
      "<li><a href=\"/write-excel/\">Write Excel</a></li>\n",
      "<li><a href=\"/pandas-web-scraping/\">Pandas Web Scraping</a></li>\n",
      "<li><a href=\"/pandas-json/\">Pandas JSON</a></li>\n",
      "<li><a href=\"/pandas-iterate-dataframe/\">Pandas iterate dataframe</a></li>\n",
      "</ul>\n",
      "<h3 id=\"Web-Development\"><a href=\"#Web-Development\" class=\"headerlink\" title=\"Web Development\"></a>Web Development</h3><ul>\n",
      "<li><a href=\"/python-web-frameworks/\">Python Web Frameworks</a></li>\n",
      "<li><a href=\"/django-web-app/\">Django Web App</a> </li>\n",
      "<li><a href=\"/flask-vs-django/\">Flask vs Django</a></li>\n",
      "<li><a href=\"/django-template-language/\">Django Template Language</a></li>\n",
      "</ul>\n",
      "<h3 id=\"About\"><a href=\"#About\" class=\"headerlink\" title=\"About\"></a>About</h3><p>This is a collection of tutorials for the Python programming language. It covers many topics ranging from beginner level to professional level. I write about many things including web development, machine learning, web automation and various other topics. </p>\n",
      "<p>However, if you want to <strong>learn Python</strong> or are new to the world of programming, it can be quite though getting started. </p>\n",
      "<p>There are so many things to learn: coding, object orienated programming, building desktop apps, creating web apps with Flask or Django, learning how to plot and even how to use Machine Learning or Artificial Intelligence. You may have many questions or perhaps you don’t know where to start, the book below helps you master Python in no time.</p>\n",
      "<p><strong>Related course:</strong> <a href=\"https://gum.co/dcsp\" rel=\"external nofollow\" onclick=\"ga('send', 'event', 'Link Click', 'Beginner', 'Python');\" target=\"_blank\">Complete Python Programming Course &amp; Exercises</a></p>\n",
      "\n",
      "\n",
      "<p>It helps you get started with Python, and makes learning Python a breathe. On top of that, many exercises and a video course is included with the book, making learning great fun.</p>\n",
      "\n",
      "        </article>\n",
      "\n",
      "    </div>\n",
      "    \n",
      "    <aside>\n",
      "        <div id=\"toc\">\n",
      "        <div class=\"h2\"><a href=\"#Table-of-Contents\">Table of Contents:</a></div><div class=\"h3\"><a href=\"#Introduction\">Introduction</a></div><div class=\"h3\"><a href=\"#Learn-Python\">Learn Python</a></div><div class=\"h3\"><a href=\"#Control-structures\">Control structures</a></div><div class=\"h3\"><a href=\"#Data-and-operations\">Data and operations</a></div><div class=\"h3\"><a href=\"#OOP\">OOP</a></div><div class=\"h3\"><a href=\"#Advanced\">Advanced</a></div><div class=\"h3\"><a href=\"#Audio\">Audio</a></div><div class=\"h3\"><a href=\"#Tkinter\">Tkinter</a></div><div class=\"h3\"><a href=\"#Plotting\">Plotting</a></div><div class=\"h3\"><a href=\"#PyQt\">PyQt</a></div><div class=\"h3\"><a href=\"#Machine-Learning\">Machine Learning</a></div><div class=\"h3\"><a href=\"#Selenium\">Selenium</a></div><div class=\"h3\"><a href=\"#Flask-Tutorial\">Flask Tutorial</a></div><div class=\"h3\"><a href=\"#Pandas\">Pandas</a></div><div class=\"h3\"><a href=\"#Web-Development\">Web Development</a></div><div class=\"h3\"><a href=\"#About\">About</a></div></div>\n",
      "    </aside>\n",
      "    \n",
      "\n",
      "</div>\n",
      "\n",
      "                </div>\n",
      "            </div>\n",
      "        </div>\n",
      "        <footer class=\"footer\">\n",
      "    <p>\n",
      "    <a href=\"/cookie-policy/\">Cookie policy</a> |\n",
      "    <a href=\"/privacy-policy/\">Privacy policy</a> |\n",
      "    <a href=\"/terms-of-use/\">Terms of use</a> |\n",
      "    </p>\n",
      "    <p>\n",
      "    © 2021 https://pythonbasics.org\n",
      "    </p>\n",
      "</footer>\n",
      "\n",
      "\n",
      "  \n",
      "\n",
      "  \n",
      "\n",
      "<!-- Google Analytics -->\n",
      "<script async=\"\" src=\"https://www.google-analytics.com/analytics.js\"></script><script>\n",
      "(function(i,s,o,g,r,a,m){i['GoogleAnalyticsObject']=r;i[r]=i[r]||function(){\n",
      "(i[r].q=i[r].q||[]).push(arguments)},i[r].l=1*new Date();a=s.createElement(o),\n",
      "m=s.getElementsByTagName(o)[0];a.async=1;a.src=g;m.parentNode.insertBefore(a,m)\n",
      "})(window,document,'script','https://www.google-analytics.com/analytics.js','ga');\n",
      "\n",
      "ga('create', 'UA-67250722-15', 'auto');\n",
      "\n",
      "ga('send', 'pageview', {\n",
      "  'dimension1':  'master'\n",
      "});\n",
      "</script>\n",
      "<!-- End Google Analytics -->\n",
      "\n",
      "  \n",
      "\n",
      "\n",
      "\n",
      "\n",
      "<!--\n",
      "<script src=\"/lib/jquery.js\"></script>\n",
      "<script src=\"/lib/waves.js\"></script>\n",
      "<script src=\"/lib/jquery-ui.js\"></script>\n",
      "<script src=\"/lib/jquery.tocify.js\"></script>\n",
      "\n",
      "<script src=\"/js/main.js\"></script>\n",
      "<script src=\"/lib/toc.js\"></script>\n",
      "-->\n",
      "\n",
      "<script type=\"text/javascript\">\n",
      "document.addEventListener('DOMContentLoaded',function(){htmlTableOfContents()});function htmlTableOfContents(documentRef){var documentRef=documentRef||document;var toc=documentRef.getElementById(\"toc\");var headings=[].slice.call(documentRef.body.querySelectorAll('h2, h3'));headings.forEach(function(heading,index){var ref=\"toc\"+index;if(heading.hasAttribute(\"id\")){ref=heading.getAttribute(\"id\")}else{heading.setAttribute(\"id\",ref)}var link=documentRef.createElement(\"a\");link.setAttribute(\"href\",\"#\"+ref);link.textContent=heading.textContent;var div=documentRef.createElement(\"div\");div.setAttribute(\"class\",heading.tagName.toLowerCase());div.appendChild(link);toc.appendChild(div)})}try{module.exports=htmlTableOfContents}catch(e){}function isScrolledIntoView(el){var rect=el.getBoundingClientRect();var elemTop=rect.top;var elemBottom=rect.bottom;var isVisible=(elemTop>=-10)&&(elemBottom<=(window.innerHeight));return isVisible}function highlightMenu(){var headers=document.querySelectorAll(\"h2, h3\");for(var i=0;i<headers.length;i+=1){if(isScrolledIntoView(headers[i])){var childDivs=document.getElementById('toc').getElementsByTagName('div');var c=childDivs[i].classList;c.add(\"active\");for(var j=0;j<i;j+=1){var c=childDivs[j].classList;c.remove(\"active\")}for(var j=i+1;j<childDivs.length;j+=1){var c=childDivs[j].classList;c.remove(\"active\")}break}}}function highlightMenuLastItem(){var childDivs=document.getElementById('toc').getElementsByTagName('div');for(var j=0;j<childDivs.length-1;j+=1){var c=childDivs[j].classList;c.remove(\"active\")}var c=childDivs[childDivs.length-1].classList;c.add(\"active\")}window.addEventListener(\"click\",function(event){highlightMenu()});window.onscroll=function(e){highlightMenu();if((window.innerHeight+window.scrollY)>=document.body.offsetHeight){highlightMenuLastItem()}};function mobileMenu(){var classes=document.getElementById('nav-toggle-icon').classList;if(classes.contains(\"active\")){classes.remove(\"active\")}else{classes.add(\"active\")}var classes=document.getElementById('menu-wrapper').classList;if(classes.contains(\"active\")){classes.remove(\"active\")}else{classes.add(\"active\")}}\n",
      "</script>\n",
      "\n",
      "    \n",
      "\n",
      "</body></html>\n"
     ]
    }
   ],
   "source": [
    "from selenium import webdriver #import\n",
    "try:\n",
    "    fireFoxOptions = webdriver.FirefoxOptions()\n",
    "    fireFoxOptions.headless=True\n",
    "    brower = webdriver.Firefox(options=fireFoxOptions)\n",
    "\n",
    "    brower.get('https://pythonbasics.org')\n",
    "    print(brower.page_source)\n",
    "finally:\n",
    "    try:\n",
    "        brower.close()\n",
    "    except:\n",
    "        pass"
   ]
  },
  {
   "cell_type": "code",
   "execution_count": 2,
   "metadata": {},
   "outputs": [],
   "source": [
    "from selenium import webdriver #import\n",
    "import numpy as np\n",
    "def getfulltime(link):\n",
    "    # gets full time out of link\n",
    "    browser=webdriver.Edge(\"C:/Users/cukel/Downloads/edgedriver_win32_91/msedgedriver.exe\")\n",
    "    browser.get(link)\n",
    "    fulltime=browser.find_elements_by_xpath(\"//time[@class='timestamp__date']\")[0].text\n",
    "    browser.close()\n",
    "    return fulltime"
   ]
  },
  {
   "cell_type": "code",
   "execution_count": 3,
   "metadata": {},
   "outputs": [],
   "source": [
    "tickers,links = df['0'],df['3']"
   ]
  },
  {
   "cell_type": "code",
   "execution_count": 4,
   "metadata": {},
   "outputs": [
    {
     "data": {
      "text/plain": [
       "('ABCL',\n",
       " 'https://www.nasdaq.com/press-release/abcellera-appoints-neil-berkley-as-chief-business-officer-2021-07-13')"
      ]
     },
     "execution_count": 4,
     "metadata": {},
     "output_type": "execute_result"
    }
   ],
   "source": [
    "tickers[2], links[2]"
   ]
  },
  {
   "cell_type": "code",
   "execution_count": 27,
   "metadata": {},
   "outputs": [
    {
     "data": {
      "text/plain": [
       "'JUL 13, 2021 9:00AM EDT'"
      ]
     },
     "execution_count": 27,
     "metadata": {},
     "output_type": "execute_result"
    }
   ],
   "source": [
    "getfulltime(links[2])"
   ]
  },
  {
   "cell_type": "code",
   "execution_count": null,
   "metadata": {},
   "outputs": [],
   "source": [
    "# also gonna use a timer\n",
    "import time\n",
    "stopwatch=time.time()\n",
    "times=[]\n",
    "for ii in range(len(links)):\n",
    "    try:\n",
    "        times.append(getfulltime(links[ii]))\n",
    "        if ii%10==0:\n",
    "            print(ii, 'time: ',time.time() - stopwatch)\n",
    "            stopwatch=time.time()\n",
    "    except: continue"
   ]
  },
  {
   "cell_type": "code",
   "execution_count": null,
   "metadata": {},
   "outputs": [],
   "source": [
    "times"
   ]
  },
  {
   "cell_type": "code",
   "execution_count": 19,
   "metadata": {},
   "outputs": [],
   "source": [
    "df0 = pd.DataFrame(list(zip(tickers, links,times)),\n",
    "               columns =['tick', 'link','time'])"
   ]
  },
  {
   "cell_type": "code",
   "execution_count": 21,
   "metadata": {},
   "outputs": [],
   "source": [
    "df0.to_csv('newsreleases_DATE_FULLTIME.csv',index=False)"
   ]
  },
  {
   "cell_type": "markdown",
   "metadata": {},
   "source": [
    "## Get Stock Prices"
   ]
  },
  {
   "cell_type": "markdown",
   "metadata": {},
   "source": [
    "#### Imports"
   ]
  },
  {
   "cell_type": "code",
   "execution_count": 4,
   "metadata": {},
   "outputs": [
    {
     "data": {
      "text/plain": [
       "'JUL 8, 2021 4:06PM EDT'"
      ]
     },
     "execution_count": 4,
     "metadata": {},
     "output_type": "execute_result"
    }
   ],
   "source": [
    "# start here\n",
    "import pandas as pd\n",
    "import yfinance as yf\n",
    "import matplotlib.pyplot as plt\n",
    "import numpy as np\n",
    "\n",
    "df = pd.read_csv('newsreleases_071421_FULLTIME.csv')\n",
    "\n",
    "times=df['time']\n",
    "times[0]"
   ]
  },
  {
   "cell_type": "markdown",
   "metadata": {},
   "source": [
    "#### Determine if outside of normal market range"
   ]
  },
  {
   "cell_type": "code",
   "execution_count": 5,
   "metadata": {},
   "outputs": [],
   "source": [
    "from dateutil import parser\n",
    "def getdatetime(dtime):\n",
    "    return parser.parse(dtime,tzinfos={\"EST\":-5*3600, \"EDT\":-4*3600})"
   ]
  },
  {
   "cell_type": "code",
   "execution_count": 6,
   "metadata": {},
   "outputs": [],
   "source": [
    "from datetime import datetime, time, timedelta\n",
    "def ismarkethours(timeobj):\n",
    "    # takes time object\n",
    "    # starts at 9:30-4:00 weekdays\n",
    "    openbell = time(9,30)\n",
    "    closebell= time(16,0)\n",
    "    # ignoring holidays for now, will become exception-based if statement later\n",
    "    if timeobj.weekday()<5: # if not on a weekend\n",
    "        return openbell<timeobj.time() and closebell>timeobj.time()"
   ]
  },
  {
   "cell_type": "code",
   "execution_count": 14,
   "metadata": {},
   "outputs": [
    {
     "data": {
      "text/plain": [
       "False"
      ]
     },
     "execution_count": 14,
     "metadata": {},
     "output_type": "execute_result"
    }
   ],
   "source": [
    "ismarkethours(getdatetime(times[0]))"
   ]
  },
  {
   "cell_type": "markdown",
   "metadata": {},
   "source": [
    "# Yahoo Finance for Historical Data"
   ]
  },
  {
   "cell_type": "code",
   "execution_count": 7,
   "metadata": {},
   "outputs": [
    {
     "name": "stdout",
     "output_type": "stream",
     "text": [
      "[*********************100%***********************]  1 of 1 completed\n"
     ]
    }
   ],
   "source": [
    "import yfinance as yf\n",
    "import matplotlib.pyplot as plt\n",
    "\n",
    "data=yf.download('SPY','2015-01-01','2020-01-01')"
   ]
  },
  {
   "cell_type": "code",
   "execution_count": 8,
   "metadata": {},
   "outputs": [
    {
     "data": {
      "text/html": [
       "<div>\n",
       "<style scoped>\n",
       "    .dataframe tbody tr th:only-of-type {\n",
       "        vertical-align: middle;\n",
       "    }\n",
       "\n",
       "    .dataframe tbody tr th {\n",
       "        vertical-align: top;\n",
       "    }\n",
       "\n",
       "    .dataframe thead th {\n",
       "        text-align: right;\n",
       "    }\n",
       "</style>\n",
       "<table border=\"1\" class=\"dataframe\">\n",
       "  <thead>\n",
       "    <tr style=\"text-align: right;\">\n",
       "      <th></th>\n",
       "      <th>Open</th>\n",
       "      <th>High</th>\n",
       "      <th>Low</th>\n",
       "      <th>Close</th>\n",
       "      <th>Adj Close</th>\n",
       "      <th>Volume</th>\n",
       "    </tr>\n",
       "    <tr>\n",
       "      <th>Date</th>\n",
       "      <th></th>\n",
       "      <th></th>\n",
       "      <th></th>\n",
       "      <th></th>\n",
       "      <th></th>\n",
       "      <th></th>\n",
       "    </tr>\n",
       "  </thead>\n",
       "  <tbody>\n",
       "    <tr>\n",
       "      <th>2015-01-02</th>\n",
       "      <td>206.380005</td>\n",
       "      <td>206.880005</td>\n",
       "      <td>204.179993</td>\n",
       "      <td>205.429993</td>\n",
       "      <td>180.976227</td>\n",
       "      <td>121465900</td>\n",
       "    </tr>\n",
       "    <tr>\n",
       "      <th>2015-01-05</th>\n",
       "      <td>204.169998</td>\n",
       "      <td>204.369995</td>\n",
       "      <td>201.350006</td>\n",
       "      <td>201.720001</td>\n",
       "      <td>177.707870</td>\n",
       "      <td>169632600</td>\n",
       "    </tr>\n",
       "    <tr>\n",
       "      <th>2015-01-06</th>\n",
       "      <td>202.089996</td>\n",
       "      <td>202.720001</td>\n",
       "      <td>198.860001</td>\n",
       "      <td>199.820007</td>\n",
       "      <td>176.034058</td>\n",
       "      <td>209151400</td>\n",
       "    </tr>\n",
       "    <tr>\n",
       "      <th>2015-01-07</th>\n",
       "      <td>201.419998</td>\n",
       "      <td>202.720001</td>\n",
       "      <td>200.880005</td>\n",
       "      <td>202.309998</td>\n",
       "      <td>178.227646</td>\n",
       "      <td>125346700</td>\n",
       "    </tr>\n",
       "    <tr>\n",
       "      <th>2015-01-08</th>\n",
       "      <td>204.009995</td>\n",
       "      <td>206.160004</td>\n",
       "      <td>203.990005</td>\n",
       "      <td>205.899994</td>\n",
       "      <td>181.390320</td>\n",
       "      <td>147217800</td>\n",
       "    </tr>\n",
       "    <tr>\n",
       "      <th>...</th>\n",
       "      <td>...</td>\n",
       "      <td>...</td>\n",
       "      <td>...</td>\n",
       "      <td>...</td>\n",
       "      <td>...</td>\n",
       "      <td>...</td>\n",
       "    </tr>\n",
       "    <tr>\n",
       "      <th>2019-12-24</th>\n",
       "      <td>321.470001</td>\n",
       "      <td>321.519989</td>\n",
       "      <td>320.899994</td>\n",
       "      <td>321.230011</td>\n",
       "      <td>312.286224</td>\n",
       "      <td>20270000</td>\n",
       "    </tr>\n",
       "    <tr>\n",
       "      <th>2019-12-26</th>\n",
       "      <td>321.649994</td>\n",
       "      <td>322.950012</td>\n",
       "      <td>321.640015</td>\n",
       "      <td>322.940002</td>\n",
       "      <td>313.948608</td>\n",
       "      <td>30911200</td>\n",
       "    </tr>\n",
       "    <tr>\n",
       "      <th>2019-12-27</th>\n",
       "      <td>323.739990</td>\n",
       "      <td>323.799988</td>\n",
       "      <td>322.279999</td>\n",
       "      <td>322.859985</td>\n",
       "      <td>313.870789</td>\n",
       "      <td>42528800</td>\n",
       "    </tr>\n",
       "    <tr>\n",
       "      <th>2019-12-30</th>\n",
       "      <td>322.950012</td>\n",
       "      <td>323.100006</td>\n",
       "      <td>320.549988</td>\n",
       "      <td>321.079987</td>\n",
       "      <td>312.140350</td>\n",
       "      <td>49729100</td>\n",
       "    </tr>\n",
       "    <tr>\n",
       "      <th>2019-12-31</th>\n",
       "      <td>320.529999</td>\n",
       "      <td>322.130005</td>\n",
       "      <td>320.149994</td>\n",
       "      <td>321.859985</td>\n",
       "      <td>312.898682</td>\n",
       "      <td>57077300</td>\n",
       "    </tr>\n",
       "  </tbody>\n",
       "</table>\n",
       "<p>1258 rows × 6 columns</p>\n",
       "</div>"
      ],
      "text/plain": [
       "                  Open        High         Low       Close   Adj Close  \\\n",
       "Date                                                                     \n",
       "2015-01-02  206.380005  206.880005  204.179993  205.429993  180.976227   \n",
       "2015-01-05  204.169998  204.369995  201.350006  201.720001  177.707870   \n",
       "2015-01-06  202.089996  202.720001  198.860001  199.820007  176.034058   \n",
       "2015-01-07  201.419998  202.720001  200.880005  202.309998  178.227646   \n",
       "2015-01-08  204.009995  206.160004  203.990005  205.899994  181.390320   \n",
       "...                ...         ...         ...         ...         ...   \n",
       "2019-12-24  321.470001  321.519989  320.899994  321.230011  312.286224   \n",
       "2019-12-26  321.649994  322.950012  321.640015  322.940002  313.948608   \n",
       "2019-12-27  323.739990  323.799988  322.279999  322.859985  313.870789   \n",
       "2019-12-30  322.950012  323.100006  320.549988  321.079987  312.140350   \n",
       "2019-12-31  320.529999  322.130005  320.149994  321.859985  312.898682   \n",
       "\n",
       "               Volume  \n",
       "Date                   \n",
       "2015-01-02  121465900  \n",
       "2015-01-05  169632600  \n",
       "2015-01-06  209151400  \n",
       "2015-01-07  125346700  \n",
       "2015-01-08  147217800  \n",
       "...               ...  \n",
       "2019-12-24   20270000  \n",
       "2019-12-26   30911200  \n",
       "2019-12-27   42528800  \n",
       "2019-12-30   49729100  \n",
       "2019-12-31   57077300  \n",
       "\n",
       "[1258 rows x 6 columns]"
      ]
     },
     "execution_count": 8,
     "metadata": {},
     "output_type": "execute_result"
    }
   ],
   "source": [
    "data"
   ]
  },
  {
   "cell_type": "markdown",
   "metadata": {},
   "source": [
    "Pull a specific stock, look at the prices around the time (subjective) of press release. If outside of market hours, make sure to note it since we can only look at open/close/limited data."
   ]
  },
  {
   "cell_type": "code",
   "execution_count": 9,
   "metadata": {},
   "outputs": [],
   "source": [
    "# Take stock ticker\n",
    "ii = 3\n",
    "tick=df.iloc[ii].tick\n",
    "datetime=getdatetime(df.iloc[ii].time)\n",
    "\n",
    "tick_yf = yf.Ticker(tick)\n",
    "hist=tick_yf.history(period='max')"
   ]
  },
  {
   "cell_type": "code",
   "execution_count": 10,
   "metadata": {},
   "outputs": [
    {
     "name": "stdout",
     "output_type": "stream",
     "text": [
      "2021-7-13\n"
     ]
    },
    {
     "data": {
      "text/plain": [
       "datetime.datetime"
      ]
     },
     "execution_count": 10,
     "metadata": {},
     "output_type": "execute_result"
    }
   ],
   "source": [
    "datetime.year\n",
    "datetime.month\n",
    "datetime.day\n",
    "print(\"{}-{}-{}\".format(datetime.year, datetime.month, datetime.day))\n",
    "type(datetime)"
   ]
  },
  {
   "cell_type": "code",
   "execution_count": 11,
   "metadata": {},
   "outputs": [
    {
     "ename": "SyntaxError",
     "evalue": "invalid syntax (<ipython-input-11-b259df595255>, line 1)",
     "output_type": "error",
     "traceback": [
      "\u001b[1;36m  File \u001b[1;32m\"<ipython-input-11-b259df595255>\"\u001b[1;36m, line \u001b[1;32m1\u001b[0m\n\u001b[1;33m    data = yf.download(tick, start= ,interval='60m', group_by='ticker',prepost=False)\u001b[0m\n\u001b[1;37m                                    ^\u001b[0m\n\u001b[1;31mSyntaxError\u001b[0m\u001b[1;31m:\u001b[0m invalid syntax\n"
     ]
    }
   ],
   "source": [
    "data = yf.download(tick, start= ,interval='60m', group_by='ticker',prepost=False)"
   ]
  },
  {
   "cell_type": "code",
   "execution_count": 12,
   "metadata": {},
   "outputs": [],
   "source": [
    "def getpricedata(ticker, time, daybuffer=1, hourbuffer=0, interval='60m'):\n",
    "    # returns price data around certain time, \n",
    "    # which should be based on press release\n",
    "    # buffer variables expand or constrict range of dates retrieved\n",
    "    datetime=getdatetime(time) # assume they are NOT coming in as datetime obj\n",
    "    delta = timedelta(days=+daybuffer, hours=+hourbuffer)\n",
    "    dt_up = datetime+delta\n",
    "    dt_dn = datetime-delta\n",
    "    dt_start = \"{}-{}-{}\".format(dt_dn.year, dt_dn.month, dt_dn.day)\n",
    "    dt_end = \"{}-{}-{}\".format(dt_up.year, dt_up.month, dt_up.day)\n",
    "    data=yf.download(ticker, start=dt_start, end=dt_end, interval=interval)\n",
    "    return data"
   ]
  },
  {
   "cell_type": "code",
   "execution_count": 16,
   "metadata": {},
   "outputs": [
    {
     "name": "stdout",
     "output_type": "stream",
     "text": [
      "[*********************100%***********************]  1 of 1 completed\n"
     ]
    },
    {
     "data": {
      "text/plain": [
       "<matplotlib.lines.Line2D at 0x1d5000cda30>"
      ]
     },
     "execution_count": 16,
     "metadata": {},
     "output_type": "execute_result"
    },
    {
     "data": {
      "image/png": "[encoded data removed]",
      "text/plain": [
       "<Figure size 432x288 with 1 Axes>"
      ]
     },
     "metadata": {
      "needs_background": "light"
     },
     "output_type": "display_data"
    }
   ],
   "source": [
    "ii = 11      # good ones: 11, 12, 15\n",
    "tick=df.iloc[ii].tick\n",
    "time=df.iloc[ii].time\n",
    "link=df.iloc[ii].link\n",
    "data=getpricedata(tick, time, daybuffer=3)\n",
    "\n",
    "plt.plot(data['Adj Close'])\n",
    "plt.axvline(getdatetime(time))\n"
   ]
  },
  {
   "cell_type": "markdown",
   "metadata": {},
   "source": [
    "### Looking at the Article Itself"
   ]
  },
  {
   "cell_type": "code",
   "execution_count": 32,
   "metadata": {},
   "outputs": [
    {
     "data": {
      "text/plain": [
       "'https://www.nasdaq.com/press-release/acadia-healthcare-announces-date-for-second-quarter-2021-earnings-release-2021-07-12'"
      ]
     },
     "execution_count": 32,
     "metadata": {},
     "output_type": "execute_result"
    }
   ],
   "source": [
    "import pandas as pd\n",
    "import yfinance as yf\n",
    "import matplotlib.pyplot as plt\n",
    "import numpy as np\n",
    "\n",
    "ii = 12      # good ones: 11, 12, 15\n",
    "tick=df.iloc[ii].tick\n",
    "time=df.iloc[ii].time\n",
    "link=df.iloc[ii].link\n",
    "link"
   ]
  },
  {
   "cell_type": "markdown",
   "metadata": {},
   "source": [
    "# Next Steps"
   ]
  },
  {
   "cell_type": "markdown",
   "metadata": {},
   "source": [
    "It seems like we have most of the pieces here, just need to put them together. Looking at some preliminary stuff seems promising so far. A big challenge is knowing how far to expand for a \"long term\" oversight versus a short term, as there's definitely evidence of two effects. I can't really find anything online about it. Maybe looking at the velocity of the change? Or maybe we just feed everything into the machine and see what happens. We can input different full length periods as different inputs to allow it to be interpreted differently.\n",
    "\n",
    "It's time to look at machine learning and return to this"
   ]
  },
  {
   "cell_type": "markdown",
   "metadata": {},
   "source": [
    "#### Testing"
   ]
  },
  {
   "cell_type": "code",
   "execution_count": 143,
   "metadata": {},
   "outputs": [
    {
     "name": "stdout",
     "output_type": "stream",
     "text": [
      "JUL 7, 2021 7:30AM EDT\n",
      "2\n"
     ]
    }
   ],
   "source": [
    "# this parser does it all\n",
    "from dateutil import parser\n",
    "TEST=times[4]\n",
    "print(TEST)\n",
    "TESTout = parser.parse(TEST.replace('EDT','EST'),tzinfos={\"EST\":-5*3600, \"EDT\":-4*3600})\n",
    "print(TESTout.weekday())"
   ]
  },
  {
   "cell_type": "code",
   "execution_count": 131,
   "metadata": {},
   "outputs": [
    {
     "data": {
      "text/plain": [
       "datetime.datetime(2021, 6, 24, 16, 15, tzinfo=tzoffset('EDT', -14400))"
      ]
     },
     "execution_count": 131,
     "metadata": {},
     "output_type": "execute_result"
    }
   ],
   "source": [
    "# see how it handles EST\n",
    "TEST = times[1]#.replace('EDT','EST')\n",
    "parser.parse(TEST, tzinfos={\"EST\":-5*3600, \"EDT\":-4*3600}) # time zones should only be in EDT or EST\n",
    "# if more time zones are present this will need to become a larger dict\n",
    "# available here  https://gist.github.com/h-j-13/e3a585796510b59601e34a07e99b386d"
   ]
  },
  {
   "cell_type": "code",
   "execution_count": 147,
   "metadata": {},
   "outputs": [
    {
     "data": {
      "text/plain": [
       "datetime.datetime(2021, 7, 7, 7, 30, tzinfo=tzoffset('EDT', -14400))"
      ]
     },
     "execution_count": 147,
     "metadata": {},
     "output_type": "execute_result"
    }
   ],
   "source": [
    "getdatetime(times[4])"
   ]
  },
  {
   "cell_type": "code",
   "execution_count": null,
   "metadata": {},
   "outputs": [],
   "source": []
  }
 ],
 "metadata": {
  "kernelspec": {
   "display_name": "Python 3",
   "language": "python",
   "name": "python3"
  },
  "language_info": {
   "codemirror_mode": {
    "name": "ipython",
    "version": 3
   },
   "file_extension": ".py",
   "mimetype": "text/x-python",
   "name": "python",
   "nbconvert_exporter": "python",
   "pygments_lexer": "ipython3",
   "version": "3.7.6"
  }
 },
 "nbformat": 4,
 "nbformat_minor": 4
}
